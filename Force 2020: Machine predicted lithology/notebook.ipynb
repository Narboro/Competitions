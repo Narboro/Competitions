{
  "nbformat": 4,
  "nbformat_minor": 0,
  "metadata": {
    "kernelspec": {
      "display_name": "Python 3",
      "language": "python",
      "name": "python3"
    },
    "language_info": {
      "codemirror_mode": {
        "name": "ipython",
        "version": 3
      },
      "file_extension": ".py",
      "mimetype": "text/x-python",
      "name": "python",
      "nbconvert_exporter": "python",
      "pygments_lexer": "ipython3",
      "version": "3.7.7"
    },
    "colab": {
      "name": "starter_notebook.ipynb",
      "provenance": [],
      "collapsed_sections": [
        "9LOQaDDZnQm5",
        "FRU0iJPvnQna"
      ]
    }
  },
  "cells": [
    {
      "cell_type": "code",
      "metadata": {
        "id": "lK0rNsy-nQlw"
      },
      "source": [
        "import numpy as np\n",
        "import pandas as pd\n",
        "import pickle\n",
        "from sklearn.model_selection import train_test_split\n",
        "from sklearn.preprocessing import StandardScaler\n",
        "from sklearn.utils import shuffle\n",
        "from sklearn.preprocessing import LabelEncoder, OrdinalEncoder\n",
        "from sklearn.ensemble import RandomForestClassifier\n",
        "import matplotlib.pyplot as plt"
      ],
      "execution_count": 1,
      "outputs": []
    },
    {
      "cell_type": "code",
      "metadata": {
        "id": "AoQnXjwlSqnQ",
        "outputId": "63469757-bc18-4455-8a06-6aca07957de1",
        "colab": {
          "base_uri": "https://localhost:8080/",
          "height": 34
        }
      },
      "source": [
        "from google.colab import drive\n",
        "drive.mount('/content/drive')"
      ],
      "execution_count": 2,
      "outputs": [
        {
          "output_type": "stream",
          "text": [
            "Mounted at /content/drive\n"
          ],
          "name": "stdout"
        }
      ]
    },
    {
      "cell_type": "markdown",
      "metadata": {
        "id": "KnVE3R4enQl5"
      },
      "source": [
        "### Load training data"
      ]
    },
    {
      "cell_type": "code",
      "metadata": {
        "id": "ukQGnNKonQl6"
      },
      "source": [
        "data = pd.read_csv('/content/drive/My Drive/ColabNotebooks/welllog/train.csv', sep=';')"
      ],
      "execution_count": 3,
      "outputs": []
    },
    {
      "cell_type": "code",
      "metadata": {
        "id": "nqcwZYGznQl-",
        "outputId": "c9e2761d-999e-4ac0-9884-841d2086bdb1",
        "colab": {
          "base_uri": "https://localhost:8080/",
          "height": 309
        }
      },
      "source": [
        "data.head(5)"
      ],
      "execution_count": 4,
      "outputs": [
        {
          "output_type": "execute_result",
          "data": {
            "text/html": [
              "<div>\n",
              "<style scoped>\n",
              "    .dataframe tbody tr th:only-of-type {\n",
              "        vertical-align: middle;\n",
              "    }\n",
              "\n",
              "    .dataframe tbody tr th {\n",
              "        vertical-align: top;\n",
              "    }\n",
              "\n",
              "    .dataframe thead th {\n",
              "        text-align: right;\n",
              "    }\n",
              "</style>\n",
              "<table border=\"1\" class=\"dataframe\">\n",
              "  <thead>\n",
              "    <tr style=\"text-align: right;\">\n",
              "      <th></th>\n",
              "      <th>WELL</th>\n",
              "      <th>DEPTH_MD</th>\n",
              "      <th>X_LOC</th>\n",
              "      <th>Y_LOC</th>\n",
              "      <th>Z_LOC</th>\n",
              "      <th>GROUP</th>\n",
              "      <th>FORMATION</th>\n",
              "      <th>CALI</th>\n",
              "      <th>RSHA</th>\n",
              "      <th>RMED</th>\n",
              "      <th>RDEP</th>\n",
              "      <th>RHOB</th>\n",
              "      <th>GR</th>\n",
              "      <th>SGR</th>\n",
              "      <th>NPHI</th>\n",
              "      <th>PEF</th>\n",
              "      <th>DTC</th>\n",
              "      <th>SP</th>\n",
              "      <th>BS</th>\n",
              "      <th>ROP</th>\n",
              "      <th>DTS</th>\n",
              "      <th>DCAL</th>\n",
              "      <th>DRHO</th>\n",
              "      <th>MUDWEIGHT</th>\n",
              "      <th>RMIC</th>\n",
              "      <th>ROPA</th>\n",
              "      <th>RXO</th>\n",
              "      <th>FORCE_2020_LITHOFACIES_LITHOLOGY</th>\n",
              "      <th>FORCE_2020_LITHOFACIES_CONFIDENCE</th>\n",
              "    </tr>\n",
              "  </thead>\n",
              "  <tbody>\n",
              "    <tr>\n",
              "      <th>0</th>\n",
              "      <td>15/9-13</td>\n",
              "      <td>494.528</td>\n",
              "      <td>437641.96875</td>\n",
              "      <td>6470972.5</td>\n",
              "      <td>-469.501831</td>\n",
              "      <td>NORDLAND GP.</td>\n",
              "      <td>NaN</td>\n",
              "      <td>19.480835</td>\n",
              "      <td>NaN</td>\n",
              "      <td>1.611410</td>\n",
              "      <td>1.798681</td>\n",
              "      <td>1.884186</td>\n",
              "      <td>80.200851</td>\n",
              "      <td>NaN</td>\n",
              "      <td>NaN</td>\n",
              "      <td>20.915468</td>\n",
              "      <td>161.131180</td>\n",
              "      <td>24.612379</td>\n",
              "      <td>NaN</td>\n",
              "      <td>34.636410</td>\n",
              "      <td>NaN</td>\n",
              "      <td>NaN</td>\n",
              "      <td>-0.574928</td>\n",
              "      <td>NaN</td>\n",
              "      <td>NaN</td>\n",
              "      <td>NaN</td>\n",
              "      <td>NaN</td>\n",
              "      <td>65000</td>\n",
              "      <td>1.0</td>\n",
              "    </tr>\n",
              "    <tr>\n",
              "      <th>1</th>\n",
              "      <td>15/9-13</td>\n",
              "      <td>494.680</td>\n",
              "      <td>437641.96875</td>\n",
              "      <td>6470972.5</td>\n",
              "      <td>-469.653809</td>\n",
              "      <td>NORDLAND GP.</td>\n",
              "      <td>NaN</td>\n",
              "      <td>19.468800</td>\n",
              "      <td>NaN</td>\n",
              "      <td>1.618070</td>\n",
              "      <td>1.795641</td>\n",
              "      <td>1.889794</td>\n",
              "      <td>79.262886</td>\n",
              "      <td>NaN</td>\n",
              "      <td>NaN</td>\n",
              "      <td>19.383013</td>\n",
              "      <td>160.603470</td>\n",
              "      <td>23.895531</td>\n",
              "      <td>NaN</td>\n",
              "      <td>34.636410</td>\n",
              "      <td>NaN</td>\n",
              "      <td>NaN</td>\n",
              "      <td>-0.570188</td>\n",
              "      <td>NaN</td>\n",
              "      <td>NaN</td>\n",
              "      <td>NaN</td>\n",
              "      <td>NaN</td>\n",
              "      <td>65000</td>\n",
              "      <td>1.0</td>\n",
              "    </tr>\n",
              "    <tr>\n",
              "      <th>2</th>\n",
              "      <td>15/9-13</td>\n",
              "      <td>494.832</td>\n",
              "      <td>437641.96875</td>\n",
              "      <td>6470972.5</td>\n",
              "      <td>-469.805786</td>\n",
              "      <td>NORDLAND GP.</td>\n",
              "      <td>NaN</td>\n",
              "      <td>19.468800</td>\n",
              "      <td>NaN</td>\n",
              "      <td>1.626459</td>\n",
              "      <td>1.800733</td>\n",
              "      <td>1.896523</td>\n",
              "      <td>74.821999</td>\n",
              "      <td>NaN</td>\n",
              "      <td>NaN</td>\n",
              "      <td>22.591518</td>\n",
              "      <td>160.173615</td>\n",
              "      <td>23.916357</td>\n",
              "      <td>NaN</td>\n",
              "      <td>34.779556</td>\n",
              "      <td>NaN</td>\n",
              "      <td>NaN</td>\n",
              "      <td>-0.574245</td>\n",
              "      <td>NaN</td>\n",
              "      <td>NaN</td>\n",
              "      <td>NaN</td>\n",
              "      <td>NaN</td>\n",
              "      <td>65000</td>\n",
              "      <td>1.0</td>\n",
              "    </tr>\n",
              "    <tr>\n",
              "      <th>3</th>\n",
              "      <td>15/9-13</td>\n",
              "      <td>494.984</td>\n",
              "      <td>437641.96875</td>\n",
              "      <td>6470972.5</td>\n",
              "      <td>-469.957794</td>\n",
              "      <td>NORDLAND GP.</td>\n",
              "      <td>NaN</td>\n",
              "      <td>19.459282</td>\n",
              "      <td>NaN</td>\n",
              "      <td>1.621594</td>\n",
              "      <td>1.801517</td>\n",
              "      <td>1.891913</td>\n",
              "      <td>72.878922</td>\n",
              "      <td>NaN</td>\n",
              "      <td>NaN</td>\n",
              "      <td>32.191910</td>\n",
              "      <td>160.149429</td>\n",
              "      <td>23.793688</td>\n",
              "      <td>NaN</td>\n",
              "      <td>39.965164</td>\n",
              "      <td>NaN</td>\n",
              "      <td>NaN</td>\n",
              "      <td>-0.586315</td>\n",
              "      <td>NaN</td>\n",
              "      <td>NaN</td>\n",
              "      <td>NaN</td>\n",
              "      <td>NaN</td>\n",
              "      <td>65000</td>\n",
              "      <td>1.0</td>\n",
              "    </tr>\n",
              "    <tr>\n",
              "      <th>4</th>\n",
              "      <td>15/9-13</td>\n",
              "      <td>495.136</td>\n",
              "      <td>437641.96875</td>\n",
              "      <td>6470972.5</td>\n",
              "      <td>-470.109772</td>\n",
              "      <td>NORDLAND GP.</td>\n",
              "      <td>NaN</td>\n",
              "      <td>19.453100</td>\n",
              "      <td>NaN</td>\n",
              "      <td>1.602679</td>\n",
              "      <td>1.795299</td>\n",
              "      <td>1.880034</td>\n",
              "      <td>71.729141</td>\n",
              "      <td>NaN</td>\n",
              "      <td>NaN</td>\n",
              "      <td>38.495632</td>\n",
              "      <td>160.128342</td>\n",
              "      <td>24.104078</td>\n",
              "      <td>NaN</td>\n",
              "      <td>57.483765</td>\n",
              "      <td>NaN</td>\n",
              "      <td>NaN</td>\n",
              "      <td>-0.597914</td>\n",
              "      <td>NaN</td>\n",
              "      <td>NaN</td>\n",
              "      <td>NaN</td>\n",
              "      <td>NaN</td>\n",
              "      <td>65000</td>\n",
              "      <td>1.0</td>\n",
              "    </tr>\n",
              "  </tbody>\n",
              "</table>\n",
              "</div>"
            ],
            "text/plain": [
              "      WELL  ...  FORCE_2020_LITHOFACIES_CONFIDENCE\n",
              "0  15/9-13  ...                                1.0\n",
              "1  15/9-13  ...                                1.0\n",
              "2  15/9-13  ...                                1.0\n",
              "3  15/9-13  ...                                1.0\n",
              "4  15/9-13  ...                                1.0\n",
              "\n",
              "[5 rows x 29 columns]"
            ]
          },
          "metadata": {
            "tags": []
          },
          "execution_count": 4
        }
      ]
    },
    {
      "cell_type": "markdown",
      "metadata": {
        "id": "x3xIOu0gnQmE"
      },
      "source": [
        "### Inspecting available logs and interpretations"
      ]
    },
    {
      "cell_type": "markdown",
      "metadata": {
        "id": "7a-ajSADnQmF"
      },
      "source": [
        "The data contains the metadata columns\n",
        "* WELL: well name\n",
        "* DEPTH_MD: measured depth\n",
        "* X_LOC: UTM X coordinate \n",
        "* Y_LOC: UTM Y coordinate\n",
        "* Z_LOC: DEPTH\n",
        "* GROUP: NPD lithostratigraphy group\n",
        "* FORMATION: NPD lithostratgraphy formation\n",
        "\n",
        "The data contains the well log curves. For example the following:\n",
        "* BS: Bit Size\n",
        "* CALI: Caliper\n",
        "* RDEP: Deep Resistivity\n",
        "* RHOB: Bulk Density\n",
        "* GR: Raw gamma data\n",
        "* SGR: Spectral Gamma Ray\n",
        "* RMED: Medium Resistivity\n",
        "* ROP: Rate of Penetration\n",
        "* NPHI: Neutron Porosity\n",
        "* PEF: Photoelectric Absorption Factor\n",
        "* RSHA: Shallow Resistivity\n",
        "* DTS: Sonic (Sheer Slowness)\n",
        "* DTC: Sonic (Compressional Slowness)\n",
        "\n",
        "See contest page for full list.\n",
        "\n",
        "as well as the interpretation\n",
        "\n",
        "* FORCE_2020_LITHOFACIES_LITHOLOGY: lithology class label\n",
        "* FORCE_2020_LITHOFACIES_CONFIDENCE: confidence in lithology interpretation (1: high, 2: medium, 3: low)"
      ]
    },
    {
      "cell_type": "markdown",
      "metadata": {
        "id": "rNci0US5nQmG"
      },
      "source": [
        "There is a total of 83 wells in the training dataset. The `WELL` column is included so the data can be separated per well. This will be necessary for any \"windowed\" approaches where we use non-local information in the ML features. "
      ]
    },
    {
      "cell_type": "code",
      "metadata": {
        "scrolled": true,
        "id": "1XWoR-AmnQmH"
      },
      "source": [
        "wells = data['WELL'].unique()"
      ],
      "execution_count": 5,
      "outputs": []
    },
    {
      "cell_type": "code",
      "metadata": {
        "id": "H4zNfvMvnQmN",
        "outputId": "123da12a-5534-4633-cb83-30573e504fba",
        "colab": {
          "base_uri": "https://localhost:8080/",
          "height": 323
        }
      },
      "source": [
        "wells"
      ],
      "execution_count": 6,
      "outputs": [
        {
          "output_type": "execute_result",
          "data": {
            "text/plain": [
              "array(['15/9-13', '15/9-15', '15/9-17', '16/1-2', '16/1-6 A', '16/10-1',\n",
              "       '16/10-2', '16/10-3', '16/10-5', '16/11-1 ST3', '16/2-11 A',\n",
              "       '16/2-16', '16/2-6', '16/4-1', '16/5-3', '16/7-4', '16/7-5',\n",
              "       '16/8-1', '17/11-1', '25/11-15', '25/11-19 S', '25/11-5',\n",
              "       '25/2-13 T4', '25/2-14', '25/2-7', '25/3-1', '25/4-5', '25/5-1',\n",
              "       '25/5-4', '25/6-1', '25/6-2', '25/6-3', '25/7-2', '25/8-5 S',\n",
              "       '25/8-7', '25/9-1', '26/4-1', '29/6-1', '30/3-3', '30/3-5 S',\n",
              "       '30/6-5', '31/2-1', '31/2-19 S', '31/2-7', '31/2-8', '31/2-9',\n",
              "       '31/3-1', '31/3-2', '31/3-3', '31/3-4', '31/4-10', '31/4-5',\n",
              "       '31/5-4 S', '31/6-5', '31/6-8', '32/2-1', '33/5-2', '33/6-3 S',\n",
              "       '33/9-1', '33/9-17', '34/10-19', '34/10-21', '34/10-33',\n",
              "       '34/10-35', '34/11-1', '34/11-2 S', '34/12-1', '34/2-4',\n",
              "       '34/3-1 A', '34/4-10 R', '34/5-1 A', '34/5-1 S', '34/7-13',\n",
              "       '34/7-20', '34/7-21', '34/8-1', '34/8-3', '34/8-7 R', '35/11-1',\n",
              "       '35/11-10', '35/11-11', '35/11-12', '35/11-13', '35/11-15 S',\n",
              "       '35/11-6', '35/11-7', '35/12-1', '35/3-7 S', '35/4-1', '35/8-4',\n",
              "       '35/8-6 S', '35/9-10 S', '35/9-2', '35/9-5', '35/9-6 S', '36/7-3',\n",
              "       '7/1-1', '7/1-2 S'], dtype=object)"
            ]
          },
          "metadata": {
            "tags": []
          },
          "execution_count": 6
        }
      ]
    },
    {
      "cell_type": "code",
      "metadata": {
        "id": "_qbGm4MWnQmR",
        "outputId": "fcbf7cf7-71c7-4e10-eb05-571f1b5bda49",
        "colab": {
          "base_uri": "https://localhost:8080/",
          "height": 34
        }
      },
      "source": [
        "len(wells)"
      ],
      "execution_count": 7,
      "outputs": [
        {
          "output_type": "execute_result",
          "data": {
            "text/plain": [
              "98"
            ]
          },
          "metadata": {
            "tags": []
          },
          "execution_count": 7
        }
      ]
    },
    {
      "cell_type": "markdown",
      "metadata": {
        "id": "1UR3ubjXnQmX"
      },
      "source": [
        "### The LITHOLOGY column"
      ]
    },
    {
      "cell_type": "markdown",
      "metadata": {
        "id": "XegrmMVCnQmY"
      },
      "source": [
        "The LITHOLOGY column contains the interpretation. Each number corresponds to a lithology class, given by the following list:"
      ]
    },
    {
      "cell_type": "code",
      "metadata": {
        "id": "Y2-O2bhenQmY"
      },
      "source": [
        "lithology_keys = {30000: 'Sandstone',\n",
        "                 65030: 'Sandstone/Shale',\n",
        "                 65000: 'Shale',\n",
        "                 80000: 'Marl',\n",
        "                 74000: 'Dolomite',\n",
        "                 70000: 'Limestone',\n",
        "                 70032: 'Chalk',\n",
        "                 88000: 'Halite',\n",
        "                 86000: 'Anhydrite',\n",
        "                 99000: 'Tuff',\n",
        "                 90000: 'Coal',\n",
        "                 93000: 'Basement'}"
      ],
      "execution_count": 8,
      "outputs": []
    },
    {
      "cell_type": "code",
      "metadata": {
        "id": "YEBb0JMLnQmc",
        "outputId": "186579a2-8de0-4d74-c9cb-643be25c7430",
        "colab": {
          "base_uri": "https://localhost:8080/",
          "height": 51
        }
      },
      "source": [
        "data['FORCE_2020_LITHOFACIES_LITHOLOGY'].unique()"
      ],
      "execution_count": 9,
      "outputs": [
        {
          "output_type": "execute_result",
          "data": {
            "text/plain": [
              "array([65000, 30000, 65030, 70000, 99000, 80000, 86000, 74000, 70032,\n",
              "       90000, 88000, 93000])"
            ]
          },
          "metadata": {
            "tags": []
          },
          "execution_count": 9
        }
      ]
    },
    {
      "cell_type": "markdown",
      "metadata": {
        "id": "QFz3denDnQmg"
      },
      "source": [
        "Lithologies are not equally likely. This is reflected in this dataset."
      ]
    },
    {
      "cell_type": "code",
      "metadata": {
        "id": "Vhdc7BaJCg3v",
        "outputId": "8c310e03-77aa-41ad-de13-8809d7c36370",
        "colab": {
          "base_uri": "https://localhost:8080/",
          "height": 34
        }
      },
      "source": [
        "data['FORCE_2020_LITHOFACIES_LITHOLOGY'].shape"
      ],
      "execution_count": 10,
      "outputs": [
        {
          "output_type": "execute_result",
          "data": {
            "text/plain": [
              "(1170511,)"
            ]
          },
          "metadata": {
            "tags": []
          },
          "execution_count": 10
        }
      ]
    },
    {
      "cell_type": "code",
      "metadata": {
        "id": "BFZtBsF0nQmh",
        "outputId": "5b193517-471f-40fc-cff0-74b171e6cdf8",
        "colab": {
          "base_uri": "https://localhost:8080/",
          "height": 502
        }
      },
      "source": [
        "counts = data['FORCE_2020_LITHOFACIES_LITHOLOGY'].value_counts()\n",
        "names = []\n",
        "percentage = []\n",
        "N = data['FORCE_2020_LITHOFACIES_LITHOLOGY'].shape[0]\n",
        "for item in counts.iteritems():\n",
        "    names.append(lithology_keys[item[0]])\n",
        "    percentage.append(float(item[1])/N*100)\n",
        "fig, ax = plt.subplots(1, 1, figsize=(14, 7))\n",
        "ax.bar(x=np.arange(len(names)), height=percentage)\n",
        "ax.set_xticklabels(names, rotation=45)\n",
        "ax.set_xticks(np.arange(len(names)))\n",
        "ax.set_ylabel('Lithology presence (\\%)')"
      ],
      "execution_count": 11,
      "outputs": [
        {
          "output_type": "execute_result",
          "data": {
            "text/plain": [
              "Text(0, 0.5, 'Lithology presence (\\\\%)')"
            ]
          },
          "metadata": {
            "tags": []
          },
          "execution_count": 11
        },
        {
          "output_type": "display_data",
          "data": {
            "image/png": "[encoded data removed]",
            "text/plain": [
              "<Figure size 1008x504 with 1 Axes>"
            ]
          },
          "metadata": {
            "tags": [],
            "needs_background": "light"
          }
        }
      ]
    },
    {
      "cell_type": "markdown",
      "metadata": {
        "id": "5c6S3AAnnQml"
      },
      "source": [
        "### Missing logs"
      ]
    },
    {
      "cell_type": "markdown",
      "metadata": {
        "id": "0X23Nl6BnQmm"
      },
      "source": [
        "**Notice that some of the curves are NaN. This is an imporant aspect of this dataset and of this competition.** The only log columns that are **guaranteed** to be present are WELL, DEPT, and GR. All other logs can (and will) be missing from some parts of the dataset."
      ]
    },
    {
      "cell_type": "code",
      "metadata": {
        "id": "iHUYqcOlnQmn",
        "outputId": "9f9cfcd0-21d0-4f65-d720-86f4d21d3af4",
        "colab": {
          "base_uri": "https://localhost:8080/",
          "height": 527
        }
      },
      "source": [
        "data.isna().any()"
      ],
      "execution_count": 12,
      "outputs": [
        {
          "output_type": "execute_result",
          "data": {
            "text/plain": [
              "WELL                                 False\n",
              "DEPTH_MD                             False\n",
              "X_LOC                                 True\n",
              "Y_LOC                                 True\n",
              "Z_LOC                                 True\n",
              "GROUP                                 True\n",
              "FORMATION                             True\n",
              "CALI                                  True\n",
              "RSHA                                  True\n",
              "RMED                                  True\n",
              "RDEP                                  True\n",
              "RHOB                                  True\n",
              "GR                                   False\n",
              "SGR                                   True\n",
              "NPHI                                  True\n",
              "PEF                                   True\n",
              "DTC                                   True\n",
              "SP                                    True\n",
              "BS                                    True\n",
              "ROP                                   True\n",
              "DTS                                   True\n",
              "DCAL                                  True\n",
              "DRHO                                  True\n",
              "MUDWEIGHT                             True\n",
              "RMIC                                  True\n",
              "ROPA                                  True\n",
              "RXO                                   True\n",
              "FORCE_2020_LITHOFACIES_LITHOLOGY     False\n",
              "FORCE_2020_LITHOFACIES_CONFIDENCE     True\n",
              "dtype: bool"
            ]
          },
          "metadata": {
            "tags": []
          },
          "execution_count": 12
        }
      ]
    },
    {
      "cell_type": "code",
      "metadata": {
        "scrolled": true,
        "id": "1QBoir3EnQmr",
        "outputId": "7d06a0bd-7ad1-4ced-d962-5b464a4ebdaf",
        "colab": {
          "base_uri": "https://localhost:8080/",
          "height": 527
        }
      },
      "source": [
        "data.isna().sum()"
      ],
      "execution_count": 13,
      "outputs": [
        {
          "output_type": "execute_result",
          "data": {
            "text/plain": [
              "WELL                                       0\n",
              "DEPTH_MD                                   0\n",
              "X_LOC                                  10775\n",
              "Y_LOC                                  10775\n",
              "Z_LOC                                  10775\n",
              "GROUP                                   1278\n",
              "FORMATION                             136994\n",
              "CALI                                   87877\n",
              "RSHA                                  539861\n",
              "RMED                                   38993\n",
              "RDEP                                   11015\n",
              "RHOB                                  161269\n",
              "GR                                         0\n",
              "SGR                                  1101158\n",
              "NPHI                                  405102\n",
              "PEF                                   498819\n",
              "DTC                                    80863\n",
              "SP                                    306264\n",
              "BS                                    487854\n",
              "ROP                                   635440\n",
              "DTS                                   995898\n",
              "DCAL                                  871678\n",
              "DRHO                                  182654\n",
              "MUDWEIGHT                             854360\n",
              "RMIC                                  994351\n",
              "ROPA                                  978186\n",
              "RXO                                   843084\n",
              "FORCE_2020_LITHOFACIES_LITHOLOGY           0\n",
              "FORCE_2020_LITHOFACIES_CONFIDENCE        179\n",
              "dtype: int64"
            ]
          },
          "metadata": {
            "tags": []
          },
          "execution_count": 13
        }
      ]
    },
    {
      "cell_type": "markdown",
      "metadata": {
        "id": "6feDqAgDnQmu"
      },
      "source": [
        "The following plot shows how large a percentage of training data wells contain at least some depth interval with the given logs. As you can see a couple of logs like RT and DTS are present in less than half of the training wells. **Remember, the test data will have a similar distribution of available logs**"
      ]
    },
    {
      "cell_type": "code",
      "metadata": {
        "id": "Tef1uUtTm1N5",
        "outputId": "efdf12ac-ced9-467e-b832-cc5e31c556f8",
        "colab": {
          "base_uri": "https://localhost:8080/",
          "height": 323
        }
      },
      "source": [
        "data['WELL'].unique()"
      ],
      "execution_count": 14,
      "outputs": [
        {
          "output_type": "execute_result",
          "data": {
            "text/plain": [
              "array(['15/9-13', '15/9-15', '15/9-17', '16/1-2', '16/1-6 A', '16/10-1',\n",
              "       '16/10-2', '16/10-3', '16/10-5', '16/11-1 ST3', '16/2-11 A',\n",
              "       '16/2-16', '16/2-6', '16/4-1', '16/5-3', '16/7-4', '16/7-5',\n",
              "       '16/8-1', '17/11-1', '25/11-15', '25/11-19 S', '25/11-5',\n",
              "       '25/2-13 T4', '25/2-14', '25/2-7', '25/3-1', '25/4-5', '25/5-1',\n",
              "       '25/5-4', '25/6-1', '25/6-2', '25/6-3', '25/7-2', '25/8-5 S',\n",
              "       '25/8-7', '25/9-1', '26/4-1', '29/6-1', '30/3-3', '30/3-5 S',\n",
              "       '30/6-5', '31/2-1', '31/2-19 S', '31/2-7', '31/2-8', '31/2-9',\n",
              "       '31/3-1', '31/3-2', '31/3-3', '31/3-4', '31/4-10', '31/4-5',\n",
              "       '31/5-4 S', '31/6-5', '31/6-8', '32/2-1', '33/5-2', '33/6-3 S',\n",
              "       '33/9-1', '33/9-17', '34/10-19', '34/10-21', '34/10-33',\n",
              "       '34/10-35', '34/11-1', '34/11-2 S', '34/12-1', '34/2-4',\n",
              "       '34/3-1 A', '34/4-10 R', '34/5-1 A', '34/5-1 S', '34/7-13',\n",
              "       '34/7-20', '34/7-21', '34/8-1', '34/8-3', '34/8-7 R', '35/11-1',\n",
              "       '35/11-10', '35/11-11', '35/11-12', '35/11-13', '35/11-15 S',\n",
              "       '35/11-6', '35/11-7', '35/12-1', '35/3-7 S', '35/4-1', '35/8-4',\n",
              "       '35/8-6 S', '35/9-10 S', '35/9-2', '35/9-5', '35/9-6 S', '36/7-3',\n",
              "       '7/1-1', '7/1-2 S'], dtype=object)"
            ]
          },
          "metadata": {
            "tags": []
          },
          "execution_count": 14
        }
      ]
    },
    {
      "cell_type": "code",
      "metadata": {
        "id": "Wei41CGCpVo8",
        "outputId": "5221d7be-b757-4ae8-b2e5-accdc5f01bb7",
        "colab": {
          "base_uri": "https://localhost:8080/",
          "height": 527
        }
      },
      "source": [
        "data[data['WELL'] == '25/6-1'].isna().all().astype(int)"
      ],
      "execution_count": 15,
      "outputs": [
        {
          "output_type": "execute_result",
          "data": {
            "text/plain": [
              "WELL                                 0\n",
              "DEPTH_MD                             0\n",
              "X_LOC                                0\n",
              "Y_LOC                                0\n",
              "Z_LOC                                0\n",
              "GROUP                                0\n",
              "FORMATION                            0\n",
              "CALI                                 0\n",
              "RSHA                                 0\n",
              "RMED                                 0\n",
              "RDEP                                 0\n",
              "RHOB                                 0\n",
              "GR                                   0\n",
              "SGR                                  1\n",
              "NPHI                                 0\n",
              "PEF                                  1\n",
              "DTC                                  0\n",
              "SP                                   0\n",
              "BS                                   0\n",
              "ROP                                  0\n",
              "DTS                                  1\n",
              "DCAL                                 0\n",
              "DRHO                                 0\n",
              "MUDWEIGHT                            0\n",
              "RMIC                                 1\n",
              "ROPA                                 1\n",
              "RXO                                  1\n",
              "FORCE_2020_LITHOFACIES_LITHOLOGY     0\n",
              "FORCE_2020_LITHOFACIES_CONFIDENCE    0\n",
              "dtype: int64"
            ]
          },
          "metadata": {
            "tags": []
          },
          "execution_count": 15
        }
      ]
    },
    {
      "cell_type": "code",
      "metadata": {
        "id": "tc_fuM98nQmv",
        "outputId": "d7034c83-54de-4239-fbcd-af1687080690",
        "colab": {
          "base_uri": "https://localhost:8080/",
          "height": 488
        }
      },
      "source": [
        "occurences = np.zeros(25)\n",
        "for well in data['WELL'].unique():\n",
        "    occurences += data[data['WELL'] == well].isna().all().astype(int).values[2:-2]\n",
        "fig, ax = plt.subplots(1, 1, figsize=(14, 7))\n",
        "ax.bar(x=np.arange(occurences.shape[0]), height=(data.WELL.unique().shape[0]-occurences)/data.WELL.unique().shape[0]*100.0)\n",
        "ax.set_xticklabels(data.columns[2:-2], rotation=45)\n",
        "ax.set_xticks(np.arange(occurences.shape[0]))\n",
        "ax.set_ylabel('Well presence (\\%)')"
      ],
      "execution_count": 16,
      "outputs": [
        {
          "output_type": "execute_result",
          "data": {
            "text/plain": [
              "Text(0, 0.5, 'Well presence (\\\\%)')"
            ]
          },
          "metadata": {
            "tags": []
          },
          "execution_count": 16
        },
        {
          "output_type": "display_data",
          "data": {
            "image/png": "[encoded data removed]",
            "text/plain": [
              "<Figure size 1008x504 with 1 Axes>"
            ]
          },
          "metadata": {
            "tags": [],
            "needs_background": "light"
          }
        }
      ]
    },
    {
      "cell_type": "markdown",
      "metadata": {
        "id": "9LOQaDDZnQm5"
      },
      "source": [
        "#### Look at some log curves for a couple of wells"
      ]
    },
    {
      "cell_type": "code",
      "metadata": {
        "scrolled": false,
        "id": "e3-HZkQlnQm8",
        "outputId": "132b17ce-c6bd-4426-c8ee-4784d1bf8eab",
        "colab": {
          "base_uri": "https://localhost:8080/",
          "height": 0
        }
      },
      "source": [
        "well_data = data[data['WELL'] == wells[0]]\n",
        "fig, axs = plt.subplots(1, len(well_data.columns)-9, figsize=(14, 10), sharey=True)\n",
        "for ic, col in enumerate(set(well_data.columns)-set(['DEPTH_MD', 'FORCE_2020_LITHOFACIES_LITHOLOGY',\n",
        "                                                     'FORCE_2020_LITHOFACIES_CONFIDENCE', 'WELL', 'GROUP', 'FORMATION',\n",
        "                                                    'X_LOC', 'Y_LOC', 'Z_LOC'])):\n",
        "    axs[ic].plot(well_data[col], well_data['DEPTH_MD'])\n",
        "    axs[ic].set_xlabel(col)\n",
        "axs[0].set_ylim(well_data['DEPTH_MD'].values[-1], well_data['DEPTH_MD'].values[0])"
      ],
      "execution_count": 17,
      "outputs": [
        {
          "output_type": "execute_result",
          "data": {
            "text/plain": [
              "(3272.0240000000003, 494.528)"
            ]
          },
          "metadata": {
            "tags": []
          },
          "execution_count": 17
        },
        {
          "output_type": "display_data",
          "data": {
            "image/png": "[encoded data removed]",
            "text/plain": [
              "<Figure size 1008x720 with 20 Axes>"
            ]
          },
          "metadata": {
            "tags": [],
            "needs_background": "light"
          }
        }
      ]
    },
    {
      "cell_type": "code",
      "metadata": {
        "id": "WRFFemyRnQnI",
        "outputId": "4d021da2-173f-44de-e999-b2dbc0d86005",
        "colab": {
          "base_uri": "https://localhost:8080/",
          "height": 0
        }
      },
      "source": [
        "well_data = data[data['WELL'] == wells[57]]\n",
        "fig, axs = plt.subplots(1, len(well_data.columns)-9, figsize=(14, 10), sharey=True)\n",
        "for ic, col in enumerate(set(well_data.columns)-set(['DEPTH_MD', 'FORCE_2020_LITHOFACIES_LITHOLOGY',\n",
        "                                                     'FORCE_2020_LITHOFACIES_CONFIDENCE', 'WELL', 'GROUP', 'FORMATION',\n",
        "                                                    'X_LOC', 'Y_LOC', 'Z_LOC'])):\n",
        "    axs[ic].plot(well_data[col], well_data['DEPTH_MD'])\n",
        "    axs[ic].set_xlabel(col)\n",
        "axs[0].set_ylim(well_data['DEPTH_MD'].values[-1], well_data['DEPTH_MD'].values[0])"
      ],
      "execution_count": 18,
      "outputs": [
        {
          "output_type": "execute_result",
          "data": {
            "text/plain": [
              "(4422.0172, 2484.1692)"
            ]
          },
          "metadata": {
            "tags": []
          },
          "execution_count": 18
        },
        {
          "output_type": "display_data",
          "data": {
            "image/png": "[encoded data removed]",
            "text/plain": [
              "<Figure size 1008x720 with 20 Axes>"
            ]
          },
          "metadata": {
            "tags": [],
            "needs_background": "light"
          }
        }
      ]
    },
    {
      "cell_type": "markdown",
      "metadata": {
        "id": "cZWzPSA9nQnP"
      },
      "source": [
        "### Preparing data for training"
      ]
    },
    {
      "cell_type": "markdown",
      "metadata": {
        "id": "_KRxe73W53ZF"
      },
      "source": [
        "'WELL', "
      ]
    },
    {
      "cell_type": "code",
      "metadata": {
        "id": "lXtEVramnQnQ"
      },
      "source": [
        "X = data.drop(columns=['FORCE_2020_LITHOFACIES_LITHOLOGY', 'FORCE_2020_LITHOFACIES_CONFIDENCE'])"
      ],
      "execution_count": 19,
      "outputs": []
    },
    {
      "cell_type": "markdown",
      "metadata": {
        "id": "CfrsxcqcnQnU"
      },
      "source": [
        "##### As a simple approach we replace nan with zero and hope for the best - НЕ БУДЕМ ИСПОЛЬЗОВАТЬ."
      ]
    },
    {
      "cell_type": "code",
      "metadata": {
        "id": "IQkxvF6ynQnV"
      },
      "source": [
        "#X.fillna(0, inplace=True)"
      ],
      "execution_count": 20,
      "outputs": []
    },
    {
      "cell_type": "markdown",
      "metadata": {
        "id": "FRU0iJPvnQna"
      },
      "source": [
        "#### We should convert lithology labels to numbers 0-11 before training"
      ]
    },
    {
      "cell_type": "code",
      "metadata": {
        "id": "jriOHlfrnQnb"
      },
      "source": [
        "y = data['FORCE_2020_LITHOFACIES_LITHOLOGY']"
      ],
      "execution_count": 21,
      "outputs": []
    },
    {
      "cell_type": "code",
      "metadata": {
        "id": "EsS7daRpnQne"
      },
      "source": [
        "lithology_numbers = {30000: 0,\n",
        "                 65030: 1,\n",
        "                 65000: 2,\n",
        "                 80000: 3,\n",
        "                 74000: 4,\n",
        "                 70000: 5,\n",
        "                 70032: 6,\n",
        "                 88000: 7,\n",
        "                 86000: 8,\n",
        "                 99000: 9,\n",
        "                 90000: 10,\n",
        "                 93000: 11}"
      ],
      "execution_count": 22,
      "outputs": []
    },
    {
      "cell_type": "code",
      "metadata": {
        "id": "GEfXvctXnQni"
      },
      "source": [
        "y = y.map(lithology_numbers)"
      ],
      "execution_count": 23,
      "outputs": []
    },
    {
      "cell_type": "markdown",
      "metadata": {
        "id": "_0VzCmWJnQnl"
      },
      "source": [
        "##### Lithologies are not equally likely. Probably smart to take this into account by computing class weights"
      ]
    },
    {
      "cell_type": "code",
      "metadata": {
        "id": "xHNqNHLtnQnm",
        "outputId": "de6cdf70-9199-4a67-a2e7-19dd70eb0161",
        "colab": {
          "base_uri": "https://localhost:8080/",
          "height": 51
        }
      },
      "source": [
        "np.bincount(y)"
      ],
      "execution_count": 24,
      "outputs": [
        {
          "output_type": "execute_result",
          "data": {
            "text/plain": [
              "array([168937, 150455, 720803,  33329,   1688,  56320,  10513,   8213,\n",
              "         1085,  15245,   3820,    103])"
            ]
          },
          "metadata": {
            "tags": []
          },
          "execution_count": 24
        }
      ]
    },
    {
      "cell_type": "markdown",
      "metadata": {
        "id": "ZSpEOpESnQnp"
      },
      "source": [
        "##### Shuffle the data"
      ]
    },
    {
      "cell_type": "code",
      "metadata": {
        "id": "8a4e8zB9nQnq"
      },
      "source": [
        "X, y = shuffle(X, y, random_state=42)"
      ],
      "execution_count": 25,
      "outputs": []
    },
    {
      "cell_type": "code",
      "metadata": {
        "scrolled": false,
        "id": "JE0LLtLPnQnu",
        "outputId": "00ebc6da-5984-476b-8aa5-1ab858e5cfc3",
        "colab": {
          "base_uri": "https://localhost:8080/",
          "height": 309
        }
      },
      "source": [
        "X.head(5)"
      ],
      "execution_count": 26,
      "outputs": [
        {
          "output_type": "execute_result",
          "data": {
            "text/html": [
              "<div>\n",
              "<style scoped>\n",
              "    .dataframe tbody tr th:only-of-type {\n",
              "        vertical-align: middle;\n",
              "    }\n",
              "\n",
              "    .dataframe tbody tr th {\n",
              "        vertical-align: top;\n",
              "    }\n",
              "\n",
              "    .dataframe thead th {\n",
              "        text-align: right;\n",
              "    }\n",
              "</style>\n",
              "<table border=\"1\" class=\"dataframe\">\n",
              "  <thead>\n",
              "    <tr style=\"text-align: right;\">\n",
              "      <th></th>\n",
              "      <th>WELL</th>\n",
              "      <th>DEPTH_MD</th>\n",
              "      <th>X_LOC</th>\n",
              "      <th>Y_LOC</th>\n",
              "      <th>Z_LOC</th>\n",
              "      <th>GROUP</th>\n",
              "      <th>FORMATION</th>\n",
              "      <th>CALI</th>\n",
              "      <th>RSHA</th>\n",
              "      <th>RMED</th>\n",
              "      <th>RDEP</th>\n",
              "      <th>RHOB</th>\n",
              "      <th>GR</th>\n",
              "      <th>SGR</th>\n",
              "      <th>NPHI</th>\n",
              "      <th>PEF</th>\n",
              "      <th>DTC</th>\n",
              "      <th>SP</th>\n",
              "      <th>BS</th>\n",
              "      <th>ROP</th>\n",
              "      <th>DTS</th>\n",
              "      <th>DCAL</th>\n",
              "      <th>DRHO</th>\n",
              "      <th>MUDWEIGHT</th>\n",
              "      <th>RMIC</th>\n",
              "      <th>ROPA</th>\n",
              "      <th>RXO</th>\n",
              "    </tr>\n",
              "  </thead>\n",
              "  <tbody>\n",
              "    <tr>\n",
              "      <th>30423</th>\n",
              "      <td>15/9-15</td>\n",
              "      <td>2343.304000</td>\n",
              "      <td>436806.46875</td>\n",
              "      <td>6463010.5</td>\n",
              "      <td>-2318.007324</td>\n",
              "      <td>ROGALAND GP.</td>\n",
              "      <td>Lista Fm.</td>\n",
              "      <td>14.882113</td>\n",
              "      <td>0.77124</td>\n",
              "      <td>0.771240</td>\n",
              "      <td>0.662699</td>\n",
              "      <td>2.212606</td>\n",
              "      <td>66.807358</td>\n",
              "      <td>NaN</td>\n",
              "      <td>0.399297</td>\n",
              "      <td>3.027709</td>\n",
              "      <td>121.575783</td>\n",
              "      <td>88.208725</td>\n",
              "      <td>12.250001</td>\n",
              "      <td>12.761565</td>\n",
              "      <td>NaN</td>\n",
              "      <td>2.632109</td>\n",
              "      <td>0.115312</td>\n",
              "      <td>0.143792</td>\n",
              "      <td>NaN</td>\n",
              "      <td>NaN</td>\n",
              "      <td>0.57085</td>\n",
              "    </tr>\n",
              "    <tr>\n",
              "      <th>1073159</th>\n",
              "      <td>35/3-7 S</td>\n",
              "      <td>3582.467851</td>\n",
              "      <td>543919.75000</td>\n",
              "      <td>6856653.5</td>\n",
              "      <td>-3477.858154</td>\n",
              "      <td>CROMER KNOLL GP.</td>\n",
              "      <td>Roedby Fm.</td>\n",
              "      <td>8.645628</td>\n",
              "      <td>NaN</td>\n",
              "      <td>5.599961</td>\n",
              "      <td>4.988578</td>\n",
              "      <td>2.648031</td>\n",
              "      <td>93.301193</td>\n",
              "      <td>NaN</td>\n",
              "      <td>0.174108</td>\n",
              "      <td>5.034343</td>\n",
              "      <td>63.601940</td>\n",
              "      <td>NaN</td>\n",
              "      <td>8.500000</td>\n",
              "      <td>10.556081</td>\n",
              "      <td>150.206314</td>\n",
              "      <td>NaN</td>\n",
              "      <td>-0.007215</td>\n",
              "      <td>NaN</td>\n",
              "      <td>6.627153</td>\n",
              "      <td>10.410796</td>\n",
              "      <td>NaN</td>\n",
              "    </tr>\n",
              "    <tr>\n",
              "      <th>436368</th>\n",
              "      <td>25/9-1</td>\n",
              "      <td>734.814000</td>\n",
              "      <td>483545.34375</td>\n",
              "      <td>6590313.0</td>\n",
              "      <td>-709.762207</td>\n",
              "      <td>NORDLAND GP.</td>\n",
              "      <td>Utsira Fm.</td>\n",
              "      <td>NaN</td>\n",
              "      <td>NaN</td>\n",
              "      <td>NaN</td>\n",
              "      <td>1.000559</td>\n",
              "      <td>NaN</td>\n",
              "      <td>55.920452</td>\n",
              "      <td>NaN</td>\n",
              "      <td>NaN</td>\n",
              "      <td>NaN</td>\n",
              "      <td>NaN</td>\n",
              "      <td>NaN</td>\n",
              "      <td>17.500000</td>\n",
              "      <td>109.271744</td>\n",
              "      <td>NaN</td>\n",
              "      <td>NaN</td>\n",
              "      <td>NaN</td>\n",
              "      <td>NaN</td>\n",
              "      <td>NaN</td>\n",
              "      <td>NaN</td>\n",
              "      <td>NaN</td>\n",
              "    </tr>\n",
              "    <tr>\n",
              "      <th>290688</th>\n",
              "      <td>25/3-1</td>\n",
              "      <td>1075.968000</td>\n",
              "      <td>487291.25000</td>\n",
              "      <td>6643945.0</td>\n",
              "      <td>-1053.937988</td>\n",
              "      <td>HORDALAND GP.</td>\n",
              "      <td>NaN</td>\n",
              "      <td>17.646826</td>\n",
              "      <td>NaN</td>\n",
              "      <td>0.867609</td>\n",
              "      <td>1.231773</td>\n",
              "      <td>2.044336</td>\n",
              "      <td>41.795280</td>\n",
              "      <td>NaN</td>\n",
              "      <td>NaN</td>\n",
              "      <td>0.772259</td>\n",
              "      <td>148.782700</td>\n",
              "      <td>21.596836</td>\n",
              "      <td>17.500000</td>\n",
              "      <td>7.970956</td>\n",
              "      <td>NaN</td>\n",
              "      <td>0.215513</td>\n",
              "      <td>0.051340</td>\n",
              "      <td>0.958611</td>\n",
              "      <td>NaN</td>\n",
              "      <td>NaN</td>\n",
              "      <td>NaN</td>\n",
              "    </tr>\n",
              "    <tr>\n",
              "      <th>1118085</th>\n",
              "      <td>35/9-10 S</td>\n",
              "      <td>3580.061600</td>\n",
              "      <td>537897.75000</td>\n",
              "      <td>6791142.5</td>\n",
              "      <td>-3069.179688</td>\n",
              "      <td>BAAT GP.</td>\n",
              "      <td>Rannoch Fm.</td>\n",
              "      <td>8.572706</td>\n",
              "      <td>NaN</td>\n",
              "      <td>7.634528</td>\n",
              "      <td>8.066478</td>\n",
              "      <td>2.573311</td>\n",
              "      <td>126.820572</td>\n",
              "      <td>NaN</td>\n",
              "      <td>0.257259</td>\n",
              "      <td>3.623197</td>\n",
              "      <td>77.505989</td>\n",
              "      <td>NaN</td>\n",
              "      <td>8.500000</td>\n",
              "      <td>31.773550</td>\n",
              "      <td>140.671463</td>\n",
              "      <td>NaN</td>\n",
              "      <td>0.039784</td>\n",
              "      <td>NaN</td>\n",
              "      <td>NaN</td>\n",
              "      <td>NaN</td>\n",
              "      <td>NaN</td>\n",
              "    </tr>\n",
              "  </tbody>\n",
              "</table>\n",
              "</div>"
            ],
            "text/plain": [
              "              WELL     DEPTH_MD         X_LOC  ...      RMIC       ROPA      RXO\n",
              "30423      15/9-15  2343.304000  436806.46875  ...       NaN        NaN  0.57085\n",
              "1073159   35/3-7 S  3582.467851  543919.75000  ...  6.627153  10.410796      NaN\n",
              "436368      25/9-1   734.814000  483545.34375  ...       NaN        NaN      NaN\n",
              "290688      25/3-1  1075.968000  487291.25000  ...       NaN        NaN      NaN\n",
              "1118085  35/9-10 S  3580.061600  537897.75000  ...       NaN        NaN      NaN\n",
              "\n",
              "[5 rows x 27 columns]"
            ]
          },
          "metadata": {
            "tags": []
          },
          "execution_count": 26
        }
      ]
    },
    {
      "cell_type": "markdown",
      "metadata": {
        "id": "Ze3Ajyl2nQny"
      },
      "source": [
        "#### Select only the columns you want to use"
      ]
    },
    {
      "cell_type": "code",
      "metadata": {
        "id": "uypt3ahSnQny",
        "outputId": "e0605ae2-906b-4866-e608-9695c352b3da",
        "colab": {
          "base_uri": "https://localhost:8080/",
          "height": 102
        }
      },
      "source": [
        "X.columns"
      ],
      "execution_count": 27,
      "outputs": [
        {
          "output_type": "execute_result",
          "data": {
            "text/plain": [
              "Index(['WELL', 'DEPTH_MD', 'X_LOC', 'Y_LOC', 'Z_LOC', 'GROUP', 'FORMATION',\n",
              "       'CALI', 'RSHA', 'RMED', 'RDEP', 'RHOB', 'GR', 'SGR', 'NPHI', 'PEF',\n",
              "       'DTC', 'SP', 'BS', 'ROP', 'DTS', 'DCAL', 'DRHO', 'MUDWEIGHT', 'RMIC',\n",
              "       'ROPA', 'RXO'],\n",
              "      dtype='object')"
            ]
          },
          "metadata": {
            "tags": []
          },
          "execution_count": 27
        }
      ]
    },
    {
      "cell_type": "markdown",
      "metadata": {
        "id": "F2v6W4W0-OTa"
      },
      "source": [
        "'X_LOC','Y_LOC','Z_LOC'"
      ]
    },
    {
      "cell_type": "code",
      "metadata": {
        "id": "myYRJHd0nQn3"
      },
      "source": [
        "X = X[['X_LOC','Y_LOC','DEPTH_MD', 'CALI', 'RSHA', 'RMED', 'RDEP', 'RHOB', 'GR', 'NPHI', 'PEF', 'DTC', 'SP', 'BS']]"
      ],
      "execution_count": 28,
      "outputs": []
    },
    {
      "cell_type": "markdown",
      "metadata": {
        "id": "bTixc93Idt-U"
      },
      "source": [
        "# Попробуем восстановить данные"
      ]
    },
    {
      "cell_type": "code",
      "metadata": {
        "id": "JJ8NkvWOdsyN"
      },
      "source": [
        "df = X.copy()"
      ],
      "execution_count": 29,
      "outputs": []
    },
    {
      "cell_type": "code",
      "metadata": {
        "id": "zLJoKqrCuYpu",
        "outputId": "2069f3a4-0c9e-4dcf-ce5c-0baa977369a9",
        "colab": {
          "base_uri": "https://localhost:8080/",
          "height": 34
        }
      },
      "source": [
        "df.shape"
      ],
      "execution_count": 30,
      "outputs": [
        {
          "output_type": "execute_result",
          "data": {
            "text/plain": [
              "(1170511, 14)"
            ]
          },
          "metadata": {
            "tags": []
          },
          "execution_count": 30
        }
      ]
    },
    {
      "cell_type": "markdown",
      "metadata": {
        "id": "yAQaJvlX3zv4"
      },
      "source": [
        "### Удалим все пропущенные значения и построим матрицу корреляции"
      ]
    },
    {
      "cell_type": "code",
      "metadata": {
        "id": "Ma3aMx9FtyQg"
      },
      "source": [
        "df1 = df.dropna().copy()"
      ],
      "execution_count": 31,
      "outputs": []
    },
    {
      "cell_type": "code",
      "metadata": {
        "id": "im2OkslLtyoP"
      },
      "source": [
        "df_corr = df1.corr()"
      ],
      "execution_count": 32,
      "outputs": []
    },
    {
      "cell_type": "code",
      "metadata": {
        "id": "A78hw3l7AdSh"
      },
      "source": [
        "def color_values(val):\n",
        "    color = 'red' if ((val > 0.6) or (val < -0.6)) else 'black'\n",
        "    return 'color: %s' % color"
      ],
      "execution_count": 33,
      "outputs": []
    },
    {
      "cell_type": "code",
      "metadata": {
        "id": "GNIC2hRety9g",
        "outputId": "07370a3c-17aa-4319-e692-ba17f3ad06ce",
        "colab": {
          "base_uri": "https://localhost:8080/",
          "height": 334
        }
      },
      "source": [
        "df_corr.style.applymap(color_values)"
      ],
      "execution_count": 34,
      "outputs": [
        {
          "output_type": "execute_result",
          "data": {
            "text/html": [
              "<style  type=\"text/css\" >\n",
              "#T_35c12de0_161b_11eb_b400_0242ac1c0002row0_col0,#T_35c12de0_161b_11eb_b400_0242ac1c0002row1_col1,#T_35c12de0_161b_11eb_b400_0242ac1c0002row2_col2,#T_35c12de0_161b_11eb_b400_0242ac1c0002row2_col7,#T_35c12de0_161b_11eb_b400_0242ac1c0002row2_col11,#T_35c12de0_161b_11eb_b400_0242ac1c0002row3_col3,#T_35c12de0_161b_11eb_b400_0242ac1c0002row3_col13,#T_35c12de0_161b_11eb_b400_0242ac1c0002row4_col4,#T_35c12de0_161b_11eb_b400_0242ac1c0002row5_col5,#T_35c12de0_161b_11eb_b400_0242ac1c0002row6_col6,#T_35c12de0_161b_11eb_b400_0242ac1c0002row7_col2,#T_35c12de0_161b_11eb_b400_0242ac1c0002row7_col7,#T_35c12de0_161b_11eb_b400_0242ac1c0002row7_col11,#T_35c12de0_161b_11eb_b400_0242ac1c0002row8_col8,#T_35c12de0_161b_11eb_b400_0242ac1c0002row9_col9,#T_35c12de0_161b_11eb_b400_0242ac1c0002row9_col11,#T_35c12de0_161b_11eb_b400_0242ac1c0002row10_col10,#T_35c12de0_161b_11eb_b400_0242ac1c0002row11_col2,#T_35c12de0_161b_11eb_b400_0242ac1c0002row11_col7,#T_35c12de0_161b_11eb_b400_0242ac1c0002row11_col9,#T_35c12de0_161b_11eb_b400_0242ac1c0002row11_col11,#T_35c12de0_161b_11eb_b400_0242ac1c0002row12_col12,#T_35c12de0_161b_11eb_b400_0242ac1c0002row13_col3,#T_35c12de0_161b_11eb_b400_0242ac1c0002row13_col13{\n",
              "            color:  red;\n",
              "        }#T_35c12de0_161b_11eb_b400_0242ac1c0002row0_col1,#T_35c12de0_161b_11eb_b400_0242ac1c0002row0_col2,#T_35c12de0_161b_11eb_b400_0242ac1c0002row0_col3,#T_35c12de0_161b_11eb_b400_0242ac1c0002row0_col4,#T_35c12de0_161b_11eb_b400_0242ac1c0002row0_col5,#T_35c12de0_161b_11eb_b400_0242ac1c0002row0_col6,#T_35c12de0_161b_11eb_b400_0242ac1c0002row0_col7,#T_35c12de0_161b_11eb_b400_0242ac1c0002row0_col8,#T_35c12de0_161b_11eb_b400_0242ac1c0002row0_col9,#T_35c12de0_161b_11eb_b400_0242ac1c0002row0_col10,#T_35c12de0_161b_11eb_b400_0242ac1c0002row0_col11,#T_35c12de0_161b_11eb_b400_0242ac1c0002row0_col12,#T_35c12de0_161b_11eb_b400_0242ac1c0002row0_col13,#T_35c12de0_161b_11eb_b400_0242ac1c0002row1_col0,#T_35c12de0_161b_11eb_b400_0242ac1c0002row1_col2,#T_35c12de0_161b_11eb_b400_0242ac1c0002row1_col3,#T_35c12de0_161b_11eb_b400_0242ac1c0002row1_col4,#T_35c12de0_161b_11eb_b400_0242ac1c0002row1_col5,#T_35c12de0_161b_11eb_b400_0242ac1c0002row1_col6,#T_35c12de0_161b_11eb_b400_0242ac1c0002row1_col7,#T_35c12de0_161b_11eb_b400_0242ac1c0002row1_col8,#T_35c12de0_161b_11eb_b400_0242ac1c0002row1_col9,#T_35c12de0_161b_11eb_b400_0242ac1c0002row1_col10,#T_35c12de0_161b_11eb_b400_0242ac1c0002row1_col11,#T_35c12de0_161b_11eb_b400_0242ac1c0002row1_col12,#T_35c12de0_161b_11eb_b400_0242ac1c0002row1_col13,#T_35c12de0_161b_11eb_b400_0242ac1c0002row2_col0,#T_35c12de0_161b_11eb_b400_0242ac1c0002row2_col1,#T_35c12de0_161b_11eb_b400_0242ac1c0002row2_col3,#T_35c12de0_161b_11eb_b400_0242ac1c0002row2_col4,#T_35c12de0_161b_11eb_b400_0242ac1c0002row2_col5,#T_35c12de0_161b_11eb_b400_0242ac1c0002row2_col6,#T_35c12de0_161b_11eb_b400_0242ac1c0002row2_col8,#T_35c12de0_161b_11eb_b400_0242ac1c0002row2_col9,#T_35c12de0_161b_11eb_b400_0242ac1c0002row2_col10,#T_35c12de0_161b_11eb_b400_0242ac1c0002row2_col12,#T_35c12de0_161b_11eb_b400_0242ac1c0002row2_col13,#T_35c12de0_161b_11eb_b400_0242ac1c0002row3_col0,#T_35c12de0_161b_11eb_b400_0242ac1c0002row3_col1,#T_35c12de0_161b_11eb_b400_0242ac1c0002row3_col2,#T_35c12de0_161b_11eb_b400_0242ac1c0002row3_col4,#T_35c12de0_161b_11eb_b400_0242ac1c0002row3_col5,#T_35c12de0_161b_11eb_b400_0242ac1c0002row3_col6,#T_35c12de0_161b_11eb_b400_0242ac1c0002row3_col7,#T_35c12de0_161b_11eb_b400_0242ac1c0002row3_col8,#T_35c12de0_161b_11eb_b400_0242ac1c0002row3_col9,#T_35c12de0_161b_11eb_b400_0242ac1c0002row3_col10,#T_35c12de0_161b_11eb_b400_0242ac1c0002row3_col11,#T_35c12de0_161b_11eb_b400_0242ac1c0002row3_col12,#T_35c12de0_161b_11eb_b400_0242ac1c0002row4_col0,#T_35c12de0_161b_11eb_b400_0242ac1c0002row4_col1,#T_35c12de0_161b_11eb_b400_0242ac1c0002row4_col2,#T_35c12de0_161b_11eb_b400_0242ac1c0002row4_col3,#T_35c12de0_161b_11eb_b400_0242ac1c0002row4_col5,#T_35c12de0_161b_11eb_b400_0242ac1c0002row4_col6,#T_35c12de0_161b_11eb_b400_0242ac1c0002row4_col7,#T_35c12de0_161b_11eb_b400_0242ac1c0002row4_col8,#T_35c12de0_161b_11eb_b400_0242ac1c0002row4_col9,#T_35c12de0_161b_11eb_b400_0242ac1c0002row4_col10,#T_35c12de0_161b_11eb_b400_0242ac1c0002row4_col11,#T_35c12de0_161b_11eb_b400_0242ac1c0002row4_col12,#T_35c12de0_161b_11eb_b400_0242ac1c0002row4_col13,#T_35c12de0_161b_11eb_b400_0242ac1c0002row5_col0,#T_35c12de0_161b_11eb_b400_0242ac1c0002row5_col1,#T_35c12de0_161b_11eb_b400_0242ac1c0002row5_col2,#T_35c12de0_161b_11eb_b400_0242ac1c0002row5_col3,#T_35c12de0_161b_11eb_b400_0242ac1c0002row5_col4,#T_35c12de0_161b_11eb_b400_0242ac1c0002row5_col6,#T_35c12de0_161b_11eb_b400_0242ac1c0002row5_col7,#T_35c12de0_161b_11eb_b400_0242ac1c0002row5_col8,#T_35c12de0_161b_11eb_b400_0242ac1c0002row5_col9,#T_35c12de0_161b_11eb_b400_0242ac1c0002row5_col10,#T_35c12de0_161b_11eb_b400_0242ac1c0002row5_col11,#T_35c12de0_161b_11eb_b400_0242ac1c0002row5_col12,#T_35c12de0_161b_11eb_b400_0242ac1c0002row5_col13,#T_35c12de0_161b_11eb_b400_0242ac1c0002row6_col0,#T_35c12de0_161b_11eb_b400_0242ac1c0002row6_col1,#T_35c12de0_161b_11eb_b400_0242ac1c0002row6_col2,#T_35c12de0_161b_11eb_b400_0242ac1c0002row6_col3,#T_35c12de0_161b_11eb_b400_0242ac1c0002row6_col4,#T_35c12de0_161b_11eb_b400_0242ac1c0002row6_col5,#T_35c12de0_161b_11eb_b400_0242ac1c0002row6_col7,#T_35c12de0_161b_11eb_b400_0242ac1c0002row6_col8,#T_35c12de0_161b_11eb_b400_0242ac1c0002row6_col9,#T_35c12de0_161b_11eb_b400_0242ac1c0002row6_col10,#T_35c12de0_161b_11eb_b400_0242ac1c0002row6_col11,#T_35c12de0_161b_11eb_b400_0242ac1c0002row6_col12,#T_35c12de0_161b_11eb_b400_0242ac1c0002row6_col13,#T_35c12de0_161b_11eb_b400_0242ac1c0002row7_col0,#T_35c12de0_161b_11eb_b400_0242ac1c0002row7_col1,#T_35c12de0_161b_11eb_b400_0242ac1c0002row7_col3,#T_35c12de0_161b_11eb_b400_0242ac1c0002row7_col4,#T_35c12de0_161b_11eb_b400_0242ac1c0002row7_col5,#T_35c12de0_161b_11eb_b400_0242ac1c0002row7_col6,#T_35c12de0_161b_11eb_b400_0242ac1c0002row7_col8,#T_35c12de0_161b_11eb_b400_0242ac1c0002row7_col9,#T_35c12de0_161b_11eb_b400_0242ac1c0002row7_col10,#T_35c12de0_161b_11eb_b400_0242ac1c0002row7_col12,#T_35c12de0_161b_11eb_b400_0242ac1c0002row7_col13,#T_35c12de0_161b_11eb_b400_0242ac1c0002row8_col0,#T_35c12de0_161b_11eb_b400_0242ac1c0002row8_col1,#T_35c12de0_161b_11eb_b400_0242ac1c0002row8_col2,#T_35c12de0_161b_11eb_b400_0242ac1c0002row8_col3,#T_35c12de0_161b_11eb_b400_0242ac1c0002row8_col4,#T_35c12de0_161b_11eb_b400_0242ac1c0002row8_col5,#T_35c12de0_161b_11eb_b400_0242ac1c0002row8_col6,#T_35c12de0_161b_11eb_b400_0242ac1c0002row8_col7,#T_35c12de0_161b_11eb_b400_0242ac1c0002row8_col9,#T_35c12de0_161b_11eb_b400_0242ac1c0002row8_col10,#T_35c12de0_161b_11eb_b400_0242ac1c0002row8_col11,#T_35c12de0_161b_11eb_b400_0242ac1c0002row8_col12,#T_35c12de0_161b_11eb_b400_0242ac1c0002row8_col13,#T_35c12de0_161b_11eb_b400_0242ac1c0002row9_col0,#T_35c12de0_161b_11eb_b400_0242ac1c0002row9_col1,#T_35c12de0_161b_11eb_b400_0242ac1c0002row9_col2,#T_35c12de0_161b_11eb_b400_0242ac1c0002row9_col3,#T_35c12de0_161b_11eb_b400_0242ac1c0002row9_col4,#T_35c12de0_161b_11eb_b400_0242ac1c0002row9_col5,#T_35c12de0_161b_11eb_b400_0242ac1c0002row9_col6,#T_35c12de0_161b_11eb_b400_0242ac1c0002row9_col7,#T_35c12de0_161b_11eb_b400_0242ac1c0002row9_col8,#T_35c12de0_161b_11eb_b400_0242ac1c0002row9_col10,#T_35c12de0_161b_11eb_b400_0242ac1c0002row9_col12,#T_35c12de0_161b_11eb_b400_0242ac1c0002row9_col13,#T_35c12de0_161b_11eb_b400_0242ac1c0002row10_col0,#T_35c12de0_161b_11eb_b400_0242ac1c0002row10_col1,#T_35c12de0_161b_11eb_b400_0242ac1c0002row10_col2,#T_35c12de0_161b_11eb_b400_0242ac1c0002row10_col3,#T_35c12de0_161b_11eb_b400_0242ac1c0002row10_col4,#T_35c12de0_161b_11eb_b400_0242ac1c0002row10_col5,#T_35c12de0_161b_11eb_b400_0242ac1c0002row10_col6,#T_35c12de0_161b_11eb_b400_0242ac1c0002row10_col7,#T_35c12de0_161b_11eb_b400_0242ac1c0002row10_col8,#T_35c12de0_161b_11eb_b400_0242ac1c0002row10_col9,#T_35c12de0_161b_11eb_b400_0242ac1c0002row10_col11,#T_35c12de0_161b_11eb_b400_0242ac1c0002row10_col12,#T_35c12de0_161b_11eb_b400_0242ac1c0002row10_col13,#T_35c12de0_161b_11eb_b400_0242ac1c0002row11_col0,#T_35c12de0_161b_11eb_b400_0242ac1c0002row11_col1,#T_35c12de0_161b_11eb_b400_0242ac1c0002row11_col3,#T_35c12de0_161b_11eb_b400_0242ac1c0002row11_col4,#T_35c12de0_161b_11eb_b400_0242ac1c0002row11_col5,#T_35c12de0_161b_11eb_b400_0242ac1c0002row11_col6,#T_35c12de0_161b_11eb_b400_0242ac1c0002row11_col8,#T_35c12de0_161b_11eb_b400_0242ac1c0002row11_col10,#T_35c12de0_161b_11eb_b400_0242ac1c0002row11_col12,#T_35c12de0_161b_11eb_b400_0242ac1c0002row11_col13,#T_35c12de0_161b_11eb_b400_0242ac1c0002row12_col0,#T_35c12de0_161b_11eb_b400_0242ac1c0002row12_col1,#T_35c12de0_161b_11eb_b400_0242ac1c0002row12_col2,#T_35c12de0_161b_11eb_b400_0242ac1c0002row12_col3,#T_35c12de0_161b_11eb_b400_0242ac1c0002row12_col4,#T_35c12de0_161b_11eb_b400_0242ac1c0002row12_col5,#T_35c12de0_161b_11eb_b400_0242ac1c0002row12_col6,#T_35c12de0_161b_11eb_b400_0242ac1c0002row12_col7,#T_35c12de0_161b_11eb_b400_0242ac1c0002row12_col8,#T_35c12de0_161b_11eb_b400_0242ac1c0002row12_col9,#T_35c12de0_161b_11eb_b400_0242ac1c0002row12_col10,#T_35c12de0_161b_11eb_b400_0242ac1c0002row12_col11,#T_35c12de0_161b_11eb_b400_0242ac1c0002row12_col13,#T_35c12de0_161b_11eb_b400_0242ac1c0002row13_col0,#T_35c12de0_161b_11eb_b400_0242ac1c0002row13_col1,#T_35c12de0_161b_11eb_b400_0242ac1c0002row13_col2,#T_35c12de0_161b_11eb_b400_0242ac1c0002row13_col4,#T_35c12de0_161b_11eb_b400_0242ac1c0002row13_col5,#T_35c12de0_161b_11eb_b400_0242ac1c0002row13_col6,#T_35c12de0_161b_11eb_b400_0242ac1c0002row13_col7,#T_35c12de0_161b_11eb_b400_0242ac1c0002row13_col8,#T_35c12de0_161b_11eb_b400_0242ac1c0002row13_col9,#T_35c12de0_161b_11eb_b400_0242ac1c0002row13_col10,#T_35c12de0_161b_11eb_b400_0242ac1c0002row13_col11,#T_35c12de0_161b_11eb_b400_0242ac1c0002row13_col12{\n",
              "            color:  black;\n",
              "        }</style><table id=\"T_35c12de0_161b_11eb_b400_0242ac1c0002\" ><thead>    <tr>        <th class=\"blank level0\" ></th>        <th class=\"col_heading level0 col0\" >X_LOC</th>        <th class=\"col_heading level0 col1\" >Y_LOC</th>        <th class=\"col_heading level0 col2\" >DEPTH_MD</th>        <th class=\"col_heading level0 col3\" >CALI</th>        <th class=\"col_heading level0 col4\" >RSHA</th>        <th class=\"col_heading level0 col5\" >RMED</th>        <th class=\"col_heading level0 col6\" >RDEP</th>        <th class=\"col_heading level0 col7\" >RHOB</th>        <th class=\"col_heading level0 col8\" >GR</th>        <th class=\"col_heading level0 col9\" >NPHI</th>        <th class=\"col_heading level0 col10\" >PEF</th>        <th class=\"col_heading level0 col11\" >DTC</th>        <th class=\"col_heading level0 col12\" >SP</th>        <th class=\"col_heading level0 col13\" >BS</th>    </tr></thead><tbody>\n",
              "                <tr>\n",
              "                        <th id=\"T_35c12de0_161b_11eb_b400_0242ac1c0002level0_row0\" class=\"row_heading level0 row0\" >X_LOC</th>\n",
              "                        <td id=\"T_35c12de0_161b_11eb_b400_0242ac1c0002row0_col0\" class=\"data row0 col0\" >1.000000</td>\n",
              "                        <td id=\"T_35c12de0_161b_11eb_b400_0242ac1c0002row0_col1\" class=\"data row0 col1\" >0.337725</td>\n",
              "                        <td id=\"T_35c12de0_161b_11eb_b400_0242ac1c0002row0_col2\" class=\"data row0 col2\" >0.274362</td>\n",
              "                        <td id=\"T_35c12de0_161b_11eb_b400_0242ac1c0002row0_col3\" class=\"data row0 col3\" >0.016116</td>\n",
              "                        <td id=\"T_35c12de0_161b_11eb_b400_0242ac1c0002row0_col4\" class=\"data row0 col4\" >0.108256</td>\n",
              "                        <td id=\"T_35c12de0_161b_11eb_b400_0242ac1c0002row0_col5\" class=\"data row0 col5\" >0.054174</td>\n",
              "                        <td id=\"T_35c12de0_161b_11eb_b400_0242ac1c0002row0_col6\" class=\"data row0 col6\" >0.048072</td>\n",
              "                        <td id=\"T_35c12de0_161b_11eb_b400_0242ac1c0002row0_col7\" class=\"data row0 col7\" >0.355730</td>\n",
              "                        <td id=\"T_35c12de0_161b_11eb_b400_0242ac1c0002row0_col8\" class=\"data row0 col8\" >0.257525</td>\n",
              "                        <td id=\"T_35c12de0_161b_11eb_b400_0242ac1c0002row0_col9\" class=\"data row0 col9\" >-0.284964</td>\n",
              "                        <td id=\"T_35c12de0_161b_11eb_b400_0242ac1c0002row0_col10\" class=\"data row0 col10\" >-0.141095</td>\n",
              "                        <td id=\"T_35c12de0_161b_11eb_b400_0242ac1c0002row0_col11\" class=\"data row0 col11\" >-0.481606</td>\n",
              "                        <td id=\"T_35c12de0_161b_11eb_b400_0242ac1c0002row0_col12\" class=\"data row0 col12\" >-0.076343</td>\n",
              "                        <td id=\"T_35c12de0_161b_11eb_b400_0242ac1c0002row0_col13\" class=\"data row0 col13\" >0.101433</td>\n",
              "            </tr>\n",
              "            <tr>\n",
              "                        <th id=\"T_35c12de0_161b_11eb_b400_0242ac1c0002level0_row1\" class=\"row_heading level0 row1\" >Y_LOC</th>\n",
              "                        <td id=\"T_35c12de0_161b_11eb_b400_0242ac1c0002row1_col0\" class=\"data row1 col0\" >0.337725</td>\n",
              "                        <td id=\"T_35c12de0_161b_11eb_b400_0242ac1c0002row1_col1\" class=\"data row1 col1\" >1.000000</td>\n",
              "                        <td id=\"T_35c12de0_161b_11eb_b400_0242ac1c0002row1_col2\" class=\"data row1 col2\" >-0.058132</td>\n",
              "                        <td id=\"T_35c12de0_161b_11eb_b400_0242ac1c0002row1_col3\" class=\"data row1 col3\" >-0.193210</td>\n",
              "                        <td id=\"T_35c12de0_161b_11eb_b400_0242ac1c0002row1_col4\" class=\"data row1 col4\" >0.028551</td>\n",
              "                        <td id=\"T_35c12de0_161b_11eb_b400_0242ac1c0002row1_col5\" class=\"data row1 col5\" >0.008354</td>\n",
              "                        <td id=\"T_35c12de0_161b_11eb_b400_0242ac1c0002row1_col6\" class=\"data row1 col6\" >0.013219</td>\n",
              "                        <td id=\"T_35c12de0_161b_11eb_b400_0242ac1c0002row1_col7\" class=\"data row1 col7\" >0.150991</td>\n",
              "                        <td id=\"T_35c12de0_161b_11eb_b400_0242ac1c0002row1_col8\" class=\"data row1 col8\" >0.194826</td>\n",
              "                        <td id=\"T_35c12de0_161b_11eb_b400_0242ac1c0002row1_col9\" class=\"data row1 col9\" >-0.152747</td>\n",
              "                        <td id=\"T_35c12de0_161b_11eb_b400_0242ac1c0002row1_col10\" class=\"data row1 col10\" >0.126640</td>\n",
              "                        <td id=\"T_35c12de0_161b_11eb_b400_0242ac1c0002row1_col11\" class=\"data row1 col11\" >-0.038844</td>\n",
              "                        <td id=\"T_35c12de0_161b_11eb_b400_0242ac1c0002row1_col12\" class=\"data row1 col12\" >-0.059312</td>\n",
              "                        <td id=\"T_35c12de0_161b_11eb_b400_0242ac1c0002row1_col13\" class=\"data row1 col13\" >-0.054124</td>\n",
              "            </tr>\n",
              "            <tr>\n",
              "                        <th id=\"T_35c12de0_161b_11eb_b400_0242ac1c0002level0_row2\" class=\"row_heading level0 row2\" >DEPTH_MD</th>\n",
              "                        <td id=\"T_35c12de0_161b_11eb_b400_0242ac1c0002row2_col0\" class=\"data row2 col0\" >0.274362</td>\n",
              "                        <td id=\"T_35c12de0_161b_11eb_b400_0242ac1c0002row2_col1\" class=\"data row2 col1\" >-0.058132</td>\n",
              "                        <td id=\"T_35c12de0_161b_11eb_b400_0242ac1c0002row2_col2\" class=\"data row2 col2\" >1.000000</td>\n",
              "                        <td id=\"T_35c12de0_161b_11eb_b400_0242ac1c0002row2_col3\" class=\"data row2 col3\" >-0.518734</td>\n",
              "                        <td id=\"T_35c12de0_161b_11eb_b400_0242ac1c0002row2_col4\" class=\"data row2 col4\" >0.158066</td>\n",
              "                        <td id=\"T_35c12de0_161b_11eb_b400_0242ac1c0002row2_col5\" class=\"data row2 col5\" >0.106760</td>\n",
              "                        <td id=\"T_35c12de0_161b_11eb_b400_0242ac1c0002row2_col6\" class=\"data row2 col6\" >0.091884</td>\n",
              "                        <td id=\"T_35c12de0_161b_11eb_b400_0242ac1c0002row2_col7\" class=\"data row2 col7\" >0.620450</td>\n",
              "                        <td id=\"T_35c12de0_161b_11eb_b400_0242ac1c0002row2_col8\" class=\"data row2 col8\" >0.098557</td>\n",
              "                        <td id=\"T_35c12de0_161b_11eb_b400_0242ac1c0002row2_col9\" class=\"data row2 col9\" >-0.559708</td>\n",
              "                        <td id=\"T_35c12de0_161b_11eb_b400_0242ac1c0002row2_col10\" class=\"data row2 col10\" >-0.144798</td>\n",
              "                        <td id=\"T_35c12de0_161b_11eb_b400_0242ac1c0002row2_col11\" class=\"data row2 col11\" >-0.746034</td>\n",
              "                        <td id=\"T_35c12de0_161b_11eb_b400_0242ac1c0002row2_col12\" class=\"data row2 col12\" >0.245699</td>\n",
              "                        <td id=\"T_35c12de0_161b_11eb_b400_0242ac1c0002row2_col13\" class=\"data row2 col13\" >-0.589175</td>\n",
              "            </tr>\n",
              "            <tr>\n",
              "                        <th id=\"T_35c12de0_161b_11eb_b400_0242ac1c0002level0_row3\" class=\"row_heading level0 row3\" >CALI</th>\n",
              "                        <td id=\"T_35c12de0_161b_11eb_b400_0242ac1c0002row3_col0\" class=\"data row3 col0\" >0.016116</td>\n",
              "                        <td id=\"T_35c12de0_161b_11eb_b400_0242ac1c0002row3_col1\" class=\"data row3 col1\" >-0.193210</td>\n",
              "                        <td id=\"T_35c12de0_161b_11eb_b400_0242ac1c0002row3_col2\" class=\"data row3 col2\" >-0.518734</td>\n",
              "                        <td id=\"T_35c12de0_161b_11eb_b400_0242ac1c0002row3_col3\" class=\"data row3 col3\" >1.000000</td>\n",
              "                        <td id=\"T_35c12de0_161b_11eb_b400_0242ac1c0002row3_col4\" class=\"data row3 col4\" >-0.083529</td>\n",
              "                        <td id=\"T_35c12de0_161b_11eb_b400_0242ac1c0002row3_col5\" class=\"data row3 col5\" >-0.084481</td>\n",
              "                        <td id=\"T_35c12de0_161b_11eb_b400_0242ac1c0002row3_col6\" class=\"data row3 col6\" >-0.064702</td>\n",
              "                        <td id=\"T_35c12de0_161b_11eb_b400_0242ac1c0002row3_col7\" class=\"data row3 col7\" >-0.449604</td>\n",
              "                        <td id=\"T_35c12de0_161b_11eb_b400_0242ac1c0002row3_col8\" class=\"data row3 col8\" >-0.017215</td>\n",
              "                        <td id=\"T_35c12de0_161b_11eb_b400_0242ac1c0002row3_col9\" class=\"data row3 col9\" >0.429018</td>\n",
              "                        <td id=\"T_35c12de0_161b_11eb_b400_0242ac1c0002row3_col10\" class=\"data row3 col10\" >0.052037</td>\n",
              "                        <td id=\"T_35c12de0_161b_11eb_b400_0242ac1c0002row3_col11\" class=\"data row3 col11\" >0.457414</td>\n",
              "                        <td id=\"T_35c12de0_161b_11eb_b400_0242ac1c0002row3_col12\" class=\"data row3 col12\" >-0.081734</td>\n",
              "                        <td id=\"T_35c12de0_161b_11eb_b400_0242ac1c0002row3_col13\" class=\"data row3 col13\" >0.845429</td>\n",
              "            </tr>\n",
              "            <tr>\n",
              "                        <th id=\"T_35c12de0_161b_11eb_b400_0242ac1c0002level0_row4\" class=\"row_heading level0 row4\" >RSHA</th>\n",
              "                        <td id=\"T_35c12de0_161b_11eb_b400_0242ac1c0002row4_col0\" class=\"data row4 col0\" >0.108256</td>\n",
              "                        <td id=\"T_35c12de0_161b_11eb_b400_0242ac1c0002row4_col1\" class=\"data row4 col1\" >0.028551</td>\n",
              "                        <td id=\"T_35c12de0_161b_11eb_b400_0242ac1c0002row4_col2\" class=\"data row4 col2\" >0.158066</td>\n",
              "                        <td id=\"T_35c12de0_161b_11eb_b400_0242ac1c0002row4_col3\" class=\"data row4 col3\" >-0.083529</td>\n",
              "                        <td id=\"T_35c12de0_161b_11eb_b400_0242ac1c0002row4_col4\" class=\"data row4 col4\" >1.000000</td>\n",
              "                        <td id=\"T_35c12de0_161b_11eb_b400_0242ac1c0002row4_col5\" class=\"data row4 col5\" >0.321105</td>\n",
              "                        <td id=\"T_35c12de0_161b_11eb_b400_0242ac1c0002row4_col6\" class=\"data row4 col6\" >0.198054</td>\n",
              "                        <td id=\"T_35c12de0_161b_11eb_b400_0242ac1c0002row4_col7\" class=\"data row4 col7\" >0.129462</td>\n",
              "                        <td id=\"T_35c12de0_161b_11eb_b400_0242ac1c0002row4_col8\" class=\"data row4 col8\" >-0.018707</td>\n",
              "                        <td id=\"T_35c12de0_161b_11eb_b400_0242ac1c0002row4_col9\" class=\"data row4 col9\" >-0.133807</td>\n",
              "                        <td id=\"T_35c12de0_161b_11eb_b400_0242ac1c0002row4_col10\" class=\"data row4 col10\" >-0.050348</td>\n",
              "                        <td id=\"T_35c12de0_161b_11eb_b400_0242ac1c0002row4_col11\" class=\"data row4 col11\" >-0.184784</td>\n",
              "                        <td id=\"T_35c12de0_161b_11eb_b400_0242ac1c0002row4_col12\" class=\"data row4 col12\" >-0.033140</td>\n",
              "                        <td id=\"T_35c12de0_161b_11eb_b400_0242ac1c0002row4_col13\" class=\"data row4 col13\" >-0.062239</td>\n",
              "            </tr>\n",
              "            <tr>\n",
              "                        <th id=\"T_35c12de0_161b_11eb_b400_0242ac1c0002level0_row5\" class=\"row_heading level0 row5\" >RMED</th>\n",
              "                        <td id=\"T_35c12de0_161b_11eb_b400_0242ac1c0002row5_col0\" class=\"data row5 col0\" >0.054174</td>\n",
              "                        <td id=\"T_35c12de0_161b_11eb_b400_0242ac1c0002row5_col1\" class=\"data row5 col1\" >0.008354</td>\n",
              "                        <td id=\"T_35c12de0_161b_11eb_b400_0242ac1c0002row5_col2\" class=\"data row5 col2\" >0.106760</td>\n",
              "                        <td id=\"T_35c12de0_161b_11eb_b400_0242ac1c0002row5_col3\" class=\"data row5 col3\" >-0.084481</td>\n",
              "                        <td id=\"T_35c12de0_161b_11eb_b400_0242ac1c0002row5_col4\" class=\"data row5 col4\" >0.321105</td>\n",
              "                        <td id=\"T_35c12de0_161b_11eb_b400_0242ac1c0002row5_col5\" class=\"data row5 col5\" >1.000000</td>\n",
              "                        <td id=\"T_35c12de0_161b_11eb_b400_0242ac1c0002row5_col6\" class=\"data row5 col6\" >0.270684</td>\n",
              "                        <td id=\"T_35c12de0_161b_11eb_b400_0242ac1c0002row5_col7\" class=\"data row5 col7\" >0.021581</td>\n",
              "                        <td id=\"T_35c12de0_161b_11eb_b400_0242ac1c0002row5_col8\" class=\"data row5 col8\" >-0.015373</td>\n",
              "                        <td id=\"T_35c12de0_161b_11eb_b400_0242ac1c0002row5_col9\" class=\"data row5 col9\" >-0.063450</td>\n",
              "                        <td id=\"T_35c12de0_161b_11eb_b400_0242ac1c0002row5_col10\" class=\"data row5 col10\" >-0.003798</td>\n",
              "                        <td id=\"T_35c12de0_161b_11eb_b400_0242ac1c0002row5_col11\" class=\"data row5 col11\" >-0.089100</td>\n",
              "                        <td id=\"T_35c12de0_161b_11eb_b400_0242ac1c0002row5_col12\" class=\"data row5 col12\" >-0.009261</td>\n",
              "                        <td id=\"T_35c12de0_161b_11eb_b400_0242ac1c0002row5_col13\" class=\"data row5 col13\" >-0.080228</td>\n",
              "            </tr>\n",
              "            <tr>\n",
              "                        <th id=\"T_35c12de0_161b_11eb_b400_0242ac1c0002level0_row6\" class=\"row_heading level0 row6\" >RDEP</th>\n",
              "                        <td id=\"T_35c12de0_161b_11eb_b400_0242ac1c0002row6_col0\" class=\"data row6 col0\" >0.048072</td>\n",
              "                        <td id=\"T_35c12de0_161b_11eb_b400_0242ac1c0002row6_col1\" class=\"data row6 col1\" >0.013219</td>\n",
              "                        <td id=\"T_35c12de0_161b_11eb_b400_0242ac1c0002row6_col2\" class=\"data row6 col2\" >0.091884</td>\n",
              "                        <td id=\"T_35c12de0_161b_11eb_b400_0242ac1c0002row6_col3\" class=\"data row6 col3\" >-0.064702</td>\n",
              "                        <td id=\"T_35c12de0_161b_11eb_b400_0242ac1c0002row6_col4\" class=\"data row6 col4\" >0.198054</td>\n",
              "                        <td id=\"T_35c12de0_161b_11eb_b400_0242ac1c0002row6_col5\" class=\"data row6 col5\" >0.270684</td>\n",
              "                        <td id=\"T_35c12de0_161b_11eb_b400_0242ac1c0002row6_col6\" class=\"data row6 col6\" >1.000000</td>\n",
              "                        <td id=\"T_35c12de0_161b_11eb_b400_0242ac1c0002row6_col7\" class=\"data row6 col7\" >0.036520</td>\n",
              "                        <td id=\"T_35c12de0_161b_11eb_b400_0242ac1c0002row6_col8\" class=\"data row6 col8\" >0.001008</td>\n",
              "                        <td id=\"T_35c12de0_161b_11eb_b400_0242ac1c0002row6_col9\" class=\"data row6 col9\" >-0.051919</td>\n",
              "                        <td id=\"T_35c12de0_161b_11eb_b400_0242ac1c0002row6_col10\" class=\"data row6 col10\" >0.013209</td>\n",
              "                        <td id=\"T_35c12de0_161b_11eb_b400_0242ac1c0002row6_col11\" class=\"data row6 col11\" >-0.077798</td>\n",
              "                        <td id=\"T_35c12de0_161b_11eb_b400_0242ac1c0002row6_col12\" class=\"data row6 col12\" >-0.009239</td>\n",
              "                        <td id=\"T_35c12de0_161b_11eb_b400_0242ac1c0002row6_col13\" class=\"data row6 col13\" >-0.058829</td>\n",
              "            </tr>\n",
              "            <tr>\n",
              "                        <th id=\"T_35c12de0_161b_11eb_b400_0242ac1c0002level0_row7\" class=\"row_heading level0 row7\" >RHOB</th>\n",
              "                        <td id=\"T_35c12de0_161b_11eb_b400_0242ac1c0002row7_col0\" class=\"data row7 col0\" >0.355730</td>\n",
              "                        <td id=\"T_35c12de0_161b_11eb_b400_0242ac1c0002row7_col1\" class=\"data row7 col1\" >0.150991</td>\n",
              "                        <td id=\"T_35c12de0_161b_11eb_b400_0242ac1c0002row7_col2\" class=\"data row7 col2\" >0.620450</td>\n",
              "                        <td id=\"T_35c12de0_161b_11eb_b400_0242ac1c0002row7_col3\" class=\"data row7 col3\" >-0.449604</td>\n",
              "                        <td id=\"T_35c12de0_161b_11eb_b400_0242ac1c0002row7_col4\" class=\"data row7 col4\" >0.129462</td>\n",
              "                        <td id=\"T_35c12de0_161b_11eb_b400_0242ac1c0002row7_col5\" class=\"data row7 col5\" >0.021581</td>\n",
              "                        <td id=\"T_35c12de0_161b_11eb_b400_0242ac1c0002row7_col6\" class=\"data row7 col6\" >0.036520</td>\n",
              "                        <td id=\"T_35c12de0_161b_11eb_b400_0242ac1c0002row7_col7\" class=\"data row7 col7\" >1.000000</td>\n",
              "                        <td id=\"T_35c12de0_161b_11eb_b400_0242ac1c0002row7_col8\" class=\"data row7 col8\" >0.101028</td>\n",
              "                        <td id=\"T_35c12de0_161b_11eb_b400_0242ac1c0002row7_col9\" class=\"data row7 col9\" >-0.592902</td>\n",
              "                        <td id=\"T_35c12de0_161b_11eb_b400_0242ac1c0002row7_col10\" class=\"data row7 col10\" >-0.195116</td>\n",
              "                        <td id=\"T_35c12de0_161b_11eb_b400_0242ac1c0002row7_col11\" class=\"data row7 col11\" >-0.782002</td>\n",
              "                        <td id=\"T_35c12de0_161b_11eb_b400_0242ac1c0002row7_col12\" class=\"data row7 col12\" >0.095042</td>\n",
              "                        <td id=\"T_35c12de0_161b_11eb_b400_0242ac1c0002row7_col13\" class=\"data row7 col13\" >-0.336545</td>\n",
              "            </tr>\n",
              "            <tr>\n",
              "                        <th id=\"T_35c12de0_161b_11eb_b400_0242ac1c0002level0_row8\" class=\"row_heading level0 row8\" >GR</th>\n",
              "                        <td id=\"T_35c12de0_161b_11eb_b400_0242ac1c0002row8_col0\" class=\"data row8 col0\" >0.257525</td>\n",
              "                        <td id=\"T_35c12de0_161b_11eb_b400_0242ac1c0002row8_col1\" class=\"data row8 col1\" >0.194826</td>\n",
              "                        <td id=\"T_35c12de0_161b_11eb_b400_0242ac1c0002row8_col2\" class=\"data row8 col2\" >0.098557</td>\n",
              "                        <td id=\"T_35c12de0_161b_11eb_b400_0242ac1c0002row8_col3\" class=\"data row8 col3\" >-0.017215</td>\n",
              "                        <td id=\"T_35c12de0_161b_11eb_b400_0242ac1c0002row8_col4\" class=\"data row8 col4\" >-0.018707</td>\n",
              "                        <td id=\"T_35c12de0_161b_11eb_b400_0242ac1c0002row8_col5\" class=\"data row8 col5\" >-0.015373</td>\n",
              "                        <td id=\"T_35c12de0_161b_11eb_b400_0242ac1c0002row8_col6\" class=\"data row8 col6\" >0.001008</td>\n",
              "                        <td id=\"T_35c12de0_161b_11eb_b400_0242ac1c0002row8_col7\" class=\"data row8 col7\" >0.101028</td>\n",
              "                        <td id=\"T_35c12de0_161b_11eb_b400_0242ac1c0002row8_col8\" class=\"data row8 col8\" >1.000000</td>\n",
              "                        <td id=\"T_35c12de0_161b_11eb_b400_0242ac1c0002row8_col9\" class=\"data row8 col9\" >0.223127</td>\n",
              "                        <td id=\"T_35c12de0_161b_11eb_b400_0242ac1c0002row8_col10\" class=\"data row8 col10\" >-0.098942</td>\n",
              "                        <td id=\"T_35c12de0_161b_11eb_b400_0242ac1c0002row8_col11\" class=\"data row8 col11\" >0.044325</td>\n",
              "                        <td id=\"T_35c12de0_161b_11eb_b400_0242ac1c0002row8_col12\" class=\"data row8 col12\" >0.045212</td>\n",
              "                        <td id=\"T_35c12de0_161b_11eb_b400_0242ac1c0002row8_col13\" class=\"data row8 col13\" >-0.015000</td>\n",
              "            </tr>\n",
              "            <tr>\n",
              "                        <th id=\"T_35c12de0_161b_11eb_b400_0242ac1c0002level0_row9\" class=\"row_heading level0 row9\" >NPHI</th>\n",
              "                        <td id=\"T_35c12de0_161b_11eb_b400_0242ac1c0002row9_col0\" class=\"data row9 col0\" >-0.284964</td>\n",
              "                        <td id=\"T_35c12de0_161b_11eb_b400_0242ac1c0002row9_col1\" class=\"data row9 col1\" >-0.152747</td>\n",
              "                        <td id=\"T_35c12de0_161b_11eb_b400_0242ac1c0002row9_col2\" class=\"data row9 col2\" >-0.559708</td>\n",
              "                        <td id=\"T_35c12de0_161b_11eb_b400_0242ac1c0002row9_col3\" class=\"data row9 col3\" >0.429018</td>\n",
              "                        <td id=\"T_35c12de0_161b_11eb_b400_0242ac1c0002row9_col4\" class=\"data row9 col4\" >-0.133807</td>\n",
              "                        <td id=\"T_35c12de0_161b_11eb_b400_0242ac1c0002row9_col5\" class=\"data row9 col5\" >-0.063450</td>\n",
              "                        <td id=\"T_35c12de0_161b_11eb_b400_0242ac1c0002row9_col6\" class=\"data row9 col6\" >-0.051919</td>\n",
              "                        <td id=\"T_35c12de0_161b_11eb_b400_0242ac1c0002row9_col7\" class=\"data row9 col7\" >-0.592902</td>\n",
              "                        <td id=\"T_35c12de0_161b_11eb_b400_0242ac1c0002row9_col8\" class=\"data row9 col8\" >0.223127</td>\n",
              "                        <td id=\"T_35c12de0_161b_11eb_b400_0242ac1c0002row9_col9\" class=\"data row9 col9\" >1.000000</td>\n",
              "                        <td id=\"T_35c12de0_161b_11eb_b400_0242ac1c0002row9_col10\" class=\"data row9 col10\" >0.096621</td>\n",
              "                        <td id=\"T_35c12de0_161b_11eb_b400_0242ac1c0002row9_col11\" class=\"data row9 col11\" >0.733270</td>\n",
              "                        <td id=\"T_35c12de0_161b_11eb_b400_0242ac1c0002row9_col12\" class=\"data row9 col12\" >-0.373262</td>\n",
              "                        <td id=\"T_35c12de0_161b_11eb_b400_0242ac1c0002row9_col13\" class=\"data row9 col13\" >0.375041</td>\n",
              "            </tr>\n",
              "            <tr>\n",
              "                        <th id=\"T_35c12de0_161b_11eb_b400_0242ac1c0002level0_row10\" class=\"row_heading level0 row10\" >PEF</th>\n",
              "                        <td id=\"T_35c12de0_161b_11eb_b400_0242ac1c0002row10_col0\" class=\"data row10 col0\" >-0.141095</td>\n",
              "                        <td id=\"T_35c12de0_161b_11eb_b400_0242ac1c0002row10_col1\" class=\"data row10 col1\" >0.126640</td>\n",
              "                        <td id=\"T_35c12de0_161b_11eb_b400_0242ac1c0002row10_col2\" class=\"data row10 col2\" >-0.144798</td>\n",
              "                        <td id=\"T_35c12de0_161b_11eb_b400_0242ac1c0002row10_col3\" class=\"data row10 col3\" >0.052037</td>\n",
              "                        <td id=\"T_35c12de0_161b_11eb_b400_0242ac1c0002row10_col4\" class=\"data row10 col4\" >-0.050348</td>\n",
              "                        <td id=\"T_35c12de0_161b_11eb_b400_0242ac1c0002row10_col5\" class=\"data row10 col5\" >-0.003798</td>\n",
              "                        <td id=\"T_35c12de0_161b_11eb_b400_0242ac1c0002row10_col6\" class=\"data row10 col6\" >0.013209</td>\n",
              "                        <td id=\"T_35c12de0_161b_11eb_b400_0242ac1c0002row10_col7\" class=\"data row10 col7\" >-0.195116</td>\n",
              "                        <td id=\"T_35c12de0_161b_11eb_b400_0242ac1c0002row10_col8\" class=\"data row10 col8\" >-0.098942</td>\n",
              "                        <td id=\"T_35c12de0_161b_11eb_b400_0242ac1c0002row10_col9\" class=\"data row10 col9\" >0.096621</td>\n",
              "                        <td id=\"T_35c12de0_161b_11eb_b400_0242ac1c0002row10_col10\" class=\"data row10 col10\" >1.000000</td>\n",
              "                        <td id=\"T_35c12de0_161b_11eb_b400_0242ac1c0002row10_col11\" class=\"data row10 col11\" >0.179203</td>\n",
              "                        <td id=\"T_35c12de0_161b_11eb_b400_0242ac1c0002row10_col12\" class=\"data row10 col12\" >-0.023656</td>\n",
              "                        <td id=\"T_35c12de0_161b_11eb_b400_0242ac1c0002row10_col13\" class=\"data row10 col13\" >0.041461</td>\n",
              "            </tr>\n",
              "            <tr>\n",
              "                        <th id=\"T_35c12de0_161b_11eb_b400_0242ac1c0002level0_row11\" class=\"row_heading level0 row11\" >DTC</th>\n",
              "                        <td id=\"T_35c12de0_161b_11eb_b400_0242ac1c0002row11_col0\" class=\"data row11 col0\" >-0.481606</td>\n",
              "                        <td id=\"T_35c12de0_161b_11eb_b400_0242ac1c0002row11_col1\" class=\"data row11 col1\" >-0.038844</td>\n",
              "                        <td id=\"T_35c12de0_161b_11eb_b400_0242ac1c0002row11_col2\" class=\"data row11 col2\" >-0.746034</td>\n",
              "                        <td id=\"T_35c12de0_161b_11eb_b400_0242ac1c0002row11_col3\" class=\"data row11 col3\" >0.457414</td>\n",
              "                        <td id=\"T_35c12de0_161b_11eb_b400_0242ac1c0002row11_col4\" class=\"data row11 col4\" >-0.184784</td>\n",
              "                        <td id=\"T_35c12de0_161b_11eb_b400_0242ac1c0002row11_col5\" class=\"data row11 col5\" >-0.089100</td>\n",
              "                        <td id=\"T_35c12de0_161b_11eb_b400_0242ac1c0002row11_col6\" class=\"data row11 col6\" >-0.077798</td>\n",
              "                        <td id=\"T_35c12de0_161b_11eb_b400_0242ac1c0002row11_col7\" class=\"data row11 col7\" >-0.782002</td>\n",
              "                        <td id=\"T_35c12de0_161b_11eb_b400_0242ac1c0002row11_col8\" class=\"data row11 col8\" >0.044325</td>\n",
              "                        <td id=\"T_35c12de0_161b_11eb_b400_0242ac1c0002row11_col9\" class=\"data row11 col9\" >0.733270</td>\n",
              "                        <td id=\"T_35c12de0_161b_11eb_b400_0242ac1c0002row11_col10\" class=\"data row11 col10\" >0.179203</td>\n",
              "                        <td id=\"T_35c12de0_161b_11eb_b400_0242ac1c0002row11_col11\" class=\"data row11 col11\" >1.000000</td>\n",
              "                        <td id=\"T_35c12de0_161b_11eb_b400_0242ac1c0002row11_col12\" class=\"data row11 col12\" >-0.136727</td>\n",
              "                        <td id=\"T_35c12de0_161b_11eb_b400_0242ac1c0002row11_col13\" class=\"data row11 col13\" >0.370057</td>\n",
              "            </tr>\n",
              "            <tr>\n",
              "                        <th id=\"T_35c12de0_161b_11eb_b400_0242ac1c0002level0_row12\" class=\"row_heading level0 row12\" >SP</th>\n",
              "                        <td id=\"T_35c12de0_161b_11eb_b400_0242ac1c0002row12_col0\" class=\"data row12 col0\" >-0.076343</td>\n",
              "                        <td id=\"T_35c12de0_161b_11eb_b400_0242ac1c0002row12_col1\" class=\"data row12 col1\" >-0.059312</td>\n",
              "                        <td id=\"T_35c12de0_161b_11eb_b400_0242ac1c0002row12_col2\" class=\"data row12 col2\" >0.245699</td>\n",
              "                        <td id=\"T_35c12de0_161b_11eb_b400_0242ac1c0002row12_col3\" class=\"data row12 col3\" >-0.081734</td>\n",
              "                        <td id=\"T_35c12de0_161b_11eb_b400_0242ac1c0002row12_col4\" class=\"data row12 col4\" >-0.033140</td>\n",
              "                        <td id=\"T_35c12de0_161b_11eb_b400_0242ac1c0002row12_col5\" class=\"data row12 col5\" >-0.009261</td>\n",
              "                        <td id=\"T_35c12de0_161b_11eb_b400_0242ac1c0002row12_col6\" class=\"data row12 col6\" >-0.009239</td>\n",
              "                        <td id=\"T_35c12de0_161b_11eb_b400_0242ac1c0002row12_col7\" class=\"data row12 col7\" >0.095042</td>\n",
              "                        <td id=\"T_35c12de0_161b_11eb_b400_0242ac1c0002row12_col8\" class=\"data row12 col8\" >0.045212</td>\n",
              "                        <td id=\"T_35c12de0_161b_11eb_b400_0242ac1c0002row12_col9\" class=\"data row12 col9\" >-0.373262</td>\n",
              "                        <td id=\"T_35c12de0_161b_11eb_b400_0242ac1c0002row12_col10\" class=\"data row12 col10\" >-0.023656</td>\n",
              "                        <td id=\"T_35c12de0_161b_11eb_b400_0242ac1c0002row12_col11\" class=\"data row12 col11\" >-0.136727</td>\n",
              "                        <td id=\"T_35c12de0_161b_11eb_b400_0242ac1c0002row12_col12\" class=\"data row12 col12\" >1.000000</td>\n",
              "                        <td id=\"T_35c12de0_161b_11eb_b400_0242ac1c0002row12_col13\" class=\"data row12 col13\" >-0.136486</td>\n",
              "            </tr>\n",
              "            <tr>\n",
              "                        <th id=\"T_35c12de0_161b_11eb_b400_0242ac1c0002level0_row13\" class=\"row_heading level0 row13\" >BS</th>\n",
              "                        <td id=\"T_35c12de0_161b_11eb_b400_0242ac1c0002row13_col0\" class=\"data row13 col0\" >0.101433</td>\n",
              "                        <td id=\"T_35c12de0_161b_11eb_b400_0242ac1c0002row13_col1\" class=\"data row13 col1\" >-0.054124</td>\n",
              "                        <td id=\"T_35c12de0_161b_11eb_b400_0242ac1c0002row13_col2\" class=\"data row13 col2\" >-0.589175</td>\n",
              "                        <td id=\"T_35c12de0_161b_11eb_b400_0242ac1c0002row13_col3\" class=\"data row13 col3\" >0.845429</td>\n",
              "                        <td id=\"T_35c12de0_161b_11eb_b400_0242ac1c0002row13_col4\" class=\"data row13 col4\" >-0.062239</td>\n",
              "                        <td id=\"T_35c12de0_161b_11eb_b400_0242ac1c0002row13_col5\" class=\"data row13 col5\" >-0.080228</td>\n",
              "                        <td id=\"T_35c12de0_161b_11eb_b400_0242ac1c0002row13_col6\" class=\"data row13 col6\" >-0.058829</td>\n",
              "                        <td id=\"T_35c12de0_161b_11eb_b400_0242ac1c0002row13_col7\" class=\"data row13 col7\" >-0.336545</td>\n",
              "                        <td id=\"T_35c12de0_161b_11eb_b400_0242ac1c0002row13_col8\" class=\"data row13 col8\" >-0.015000</td>\n",
              "                        <td id=\"T_35c12de0_161b_11eb_b400_0242ac1c0002row13_col9\" class=\"data row13 col9\" >0.375041</td>\n",
              "                        <td id=\"T_35c12de0_161b_11eb_b400_0242ac1c0002row13_col10\" class=\"data row13 col10\" >0.041461</td>\n",
              "                        <td id=\"T_35c12de0_161b_11eb_b400_0242ac1c0002row13_col11\" class=\"data row13 col11\" >0.370057</td>\n",
              "                        <td id=\"T_35c12de0_161b_11eb_b400_0242ac1c0002row13_col12\" class=\"data row13 col12\" >-0.136486</td>\n",
              "                        <td id=\"T_35c12de0_161b_11eb_b400_0242ac1c0002row13_col13\" class=\"data row13 col13\" >1.000000</td>\n",
              "            </tr>\n",
              "    </tbody></table>"
            ],
            "text/plain": [
              "<pandas.io.formats.style.Styler at 0x7ffacc216f60>"
            ]
          },
          "metadata": {
            "tags": []
          },
          "execution_count": 34
        }
      ]
    },
    {
      "cell_type": "markdown",
      "metadata": {
        "id": "fVMu5rQ3QDdz"
      },
      "source": [
        "### Пары корреляции:\n",
        "1. DEPTH_MD - DTC\n",
        "2. BS - CALI\n",
        "3. RHOB - DTC\n",
        "4. NPHI - DTC\n",
        "\n",
        "### Визуализируем корреляцию.\n"
      ]
    },
    {
      "cell_type": "code",
      "metadata": {
        "id": "cOHx9m6wVXag",
        "outputId": "570184c8-857d-4330-8c35-07d3da493ce2",
        "colab": {
          "base_uri": "https://localhost:8080/",
          "height": 873
        }
      },
      "source": [
        "cols = {'DEPTH_MD':'DTC', 'BS':'CALI', 'DTC':'RHOB', 'NPHI':'DTC'}\n",
        "fig = plt.figure(figsize=(12,12))\n",
        "for i,j in enumerate(cols.items()):\n",
        " fig.add_subplot(2, 2, i+1)\n",
        " plt.scatter(df1[j[0]],df1[j[1]])\n",
        " plt.xlabel(j[0])\n",
        " plt.ylabel(j[1])\n",
        " plt.tight_layout()\n"
      ],
      "execution_count": 35,
      "outputs": [
        {
          "output_type": "display_data",
          "data": {
            "image/png": "[encoded data removed]",
            "text/plain": [
              "<Figure size 864x864 with 4 Axes>"
            ]
          },
          "metadata": {
            "tags": [],
            "needs_background": "light"
          }
        }
      ]
    },
    {
      "cell_type": "markdown",
      "metadata": {
        "id": "_COXlGGRLOQV"
      },
      "source": [
        "### Удаляем ненужные переменные для экономии памяти."
      ]
    },
    {
      "cell_type": "code",
      "metadata": {
        "id": "kn31T6J3LNaW"
      },
      "source": [
        "del df1, df_corr"
      ],
      "execution_count": 36,
      "outputs": []
    },
    {
      "cell_type": "markdown",
      "metadata": {
        "id": "ewSv7iI0mBrF"
      },
      "source": [
        "### Разделим DEPTH_MD на 5 групп. Для каждой из групп DEPTH_MD заполним соответствующие этой группе пропущенные значения столбца DTC по медиане имеющихся ненулевых значений DTC."
      ]
    },
    {
      "cell_type": "code",
      "metadata": {
        "id": "3ZwgZomIQdE1"
      },
      "source": [
        "df['DEPTH_GROUP'] = pd.cut(df['DEPTH_MD'],5,labels=[1,2,3,4,5])"
      ],
      "execution_count": 37,
      "outputs": []
    },
    {
      "cell_type": "code",
      "metadata": {
        "id": "orCAsymllJQ0",
        "outputId": "6140b2ae-73d2-4710-b281-7bdd7a79fa95",
        "colab": {
          "base_uri": "https://localhost:8080/",
          "height": 102
        }
      },
      "source": [
        "dtc_median = 0\n",
        "for i in df['DEPTH_GROUP'].unique():\n",
        "  dtc_median = df.loc[df['DTC'].notnull() & (df['DEPTH_GROUP'] == i)]['DTC'].median()\n",
        "  df.loc[(df['DTC'].isnull() & (df['DEPTH_GROUP'] == i)), 'DTC'] = dtc_median\n",
        "  print(dtc_median)\n",
        "del dtc_median"
      ],
      "execution_count": 38,
      "outputs": [
        {
          "output_type": "stream",
          "text": [
            "90.879608154\n",
            "84.012954712\n",
            "148.72328186\n",
            "75.69380188\n",
            "132.634994505\n"
          ],
          "name": "stdout"
        }
      ]
    },
    {
      "cell_type": "code",
      "metadata": {
        "id": "zHTQj3_stEqV"
      },
      "source": [
        "df = df.drop('DEPTH_GROUP', axis = 1)"
      ],
      "execution_count": 39,
      "outputs": []
    },
    {
      "cell_type": "code",
      "metadata": {
        "id": "m2cbmfJ5lJb-",
        "outputId": "3c7ddb5f-1f4c-4552-890d-391cd11504df",
        "colab": {
          "base_uri": "https://localhost:8080/",
          "height": 34
        }
      },
      "source": [
        "df['DTC'].isna().sum()"
      ],
      "execution_count": 40,
      "outputs": [
        {
          "output_type": "execute_result",
          "data": {
            "text/plain": [
              "0"
            ]
          },
          "metadata": {
            "tags": []
          },
          "execution_count": 40
        }
      ]
    },
    {
      "cell_type": "markdown",
      "metadata": {
        "id": "oCf35d8hr9O5"
      },
      "source": [
        "### Заполним значения по связке BS - CALI. Сначала пропущенные CALI по имеющимся значениям BS, потом пропущенные BS по имеющимся значениям CALI. Оставшиеся заполним по медиане.\n",
        "\n"
      ]
    },
    {
      "cell_type": "code",
      "metadata": {
        "id": "KJlLByuKlJ50",
        "outputId": "21096784-8f7e-4f7f-e047-80c2e033868e",
        "colab": {
          "base_uri": "https://localhost:8080/",
          "height": 34
        }
      },
      "source": [
        "df['BS'].isna().sum()"
      ],
      "execution_count": 41,
      "outputs": [
        {
          "output_type": "execute_result",
          "data": {
            "text/plain": [
              "487854"
            ]
          },
          "metadata": {
            "tags": []
          },
          "execution_count": 41
        }
      ]
    },
    {
      "cell_type": "code",
      "metadata": {
        "id": "i64LpkIdlKBn",
        "outputId": "7ca802e5-50dc-4771-cffa-7350ed69609e",
        "colab": {
          "base_uri": "https://localhost:8080/",
          "height": 34
        }
      },
      "source": [
        "df['CALI'].isna().sum()"
      ],
      "execution_count": 42,
      "outputs": [
        {
          "output_type": "execute_result",
          "data": {
            "text/plain": [
              "87877"
            ]
          },
          "metadata": {
            "tags": []
          },
          "execution_count": 42
        }
      ]
    },
    {
      "cell_type": "code",
      "metadata": {
        "id": "IdxVQipguQa8"
      },
      "source": [
        "df['BS_GROUP'] = pd.cut(df['BS'],5,labels=[1,2,3,4,5])"
      ],
      "execution_count": 43,
      "outputs": []
    },
    {
      "cell_type": "code",
      "metadata": {
        "id": "10G88dRFuHKS",
        "outputId": "754ec2d0-eb30-4598-fdff-9fc75e3b667d",
        "colab": {
          "base_uri": "https://localhost:8080/",
          "height": 136
        }
      },
      "source": [
        "cali_median = 0\n",
        "for i in df['BS_GROUP'].unique():\n",
        "  cali_median = df.loc[df['CALI'].notnull() & (df['BS_GROUP'] == i)]['CALI'].median()\n",
        "  df.loc[(df['CALI'].isnull() & (df['BS_GROUP'] == i)), 'CALI'] = cali_median\n",
        "  print(cali_median)\n",
        "print('Пропущенных значений CALI -', df['CALI'].isna().sum())\n",
        "df = df.drop('BS_GROUP', axis = 1)\n",
        "del cali_median"
      ],
      "execution_count": 44,
      "outputs": [
        {
          "output_type": "stream",
          "text": [
            "12.580320358\n",
            "8.6797008514\n",
            "18.037179947000002\n",
            "nan\n",
            "18.278013229000003\n",
            "18.290828705\n",
            "Пропущенных значений CALI - 62965\n"
          ],
          "name": "stdout"
        }
      ]
    },
    {
      "cell_type": "code",
      "metadata": {
        "id": "AI18PN5J-vy2"
      },
      "source": [
        "cali_median = df.loc[df['CALI'].notnull()]['CALI'].median()\n",
        "df.loc[df['CALI'].isnull(), 'CALI'] = cali_median"
      ],
      "execution_count": 45,
      "outputs": []
    },
    {
      "cell_type": "code",
      "metadata": {
        "id": "VTYaCFP3tmsi",
        "outputId": "eb337a50-6dbb-46ca-82a2-776d43c82536",
        "colab": {
          "base_uri": "https://localhost:8080/",
          "height": 34
        }
      },
      "source": [
        "print('Пропущенных значений CALI -', df['CALI'].isna().sum())"
      ],
      "execution_count": 46,
      "outputs": [
        {
          "output_type": "stream",
          "text": [
            "Пропущенных значений CALI - 0\n"
          ],
          "name": "stdout"
        }
      ]
    },
    {
      "cell_type": "code",
      "metadata": {
        "id": "lyB88BBctmol"
      },
      "source": [
        "df['CALI_GROUP'] = pd.cut(df['CALI'],5,labels=[1,2,3,4,5])"
      ],
      "execution_count": 47,
      "outputs": []
    },
    {
      "cell_type": "code",
      "metadata": {
        "id": "GBl9pbZ1Cd16",
        "outputId": "1bb9f16c-5b55-4c61-8d89-c72aacc6fc7b",
        "colab": {
          "base_uri": "https://localhost:8080/",
          "height": 34
        }
      },
      "source": [
        "df['BS'].isna().sum()"
      ],
      "execution_count": 48,
      "outputs": [
        {
          "output_type": "execute_result",
          "data": {
            "text/plain": [
              "487854"
            ]
          },
          "metadata": {
            "tags": []
          },
          "execution_count": 48
        }
      ]
    },
    {
      "cell_type": "code",
      "metadata": {
        "id": "Y9FDink-CBaM",
        "outputId": "1c0e179c-a2ac-49fb-d432-b4375bc9d2cc",
        "colab": {
          "base_uri": "https://localhost:8080/",
          "height": 119
        }
      },
      "source": [
        "bs_median = 0\n",
        "for i in df['CALI_GROUP'].unique():\n",
        "  bs_median = df.loc[df['BS'].notnull() & (df['CALI_GROUP'] == i)]['BS'].median()\n",
        "  df.loc[(df['BS'].isnull() & (df['CALI_GROUP'] == i)), 'BS'] = bs_median\n",
        "  print(bs_median)\n",
        "print('Пропущенных значений BS -', df['BS'].isna().sum())\n",
        "df = df.drop('CALI_GROUP', axis = 1)\n",
        "del bs_median"
      ],
      "execution_count": 49,
      "outputs": [
        {
          "output_type": "stream",
          "text": [
            "12.250000954\n",
            "8.5\n",
            "17.5\n",
            "6.0\n",
            "17.5\n",
            "Пропущенных значений BS - 0\n"
          ],
          "name": "stdout"
        }
      ]
    },
    {
      "cell_type": "markdown",
      "metadata": {
        "id": "P_oHeIeQDBxb"
      },
      "source": [
        "### Следующий на очереди для заполнения столбец RHOB по данным корреляции со столбцом DTC."
      ]
    },
    {
      "cell_type": "code",
      "metadata": {
        "id": "AxLjKN05CBVY",
        "outputId": "5d589113-7619-4488-fada-595378fea329",
        "colab": {
          "base_uri": "https://localhost:8080/",
          "height": 51
        }
      },
      "source": [
        "df['DTC_GROUP'] = pd.cut(df['DTC'],5,labels=[1,2,3,4,5])\n",
        "df['DTC_GROUP'].unique()"
      ],
      "execution_count": 50,
      "outputs": [
        {
          "output_type": "execute_result",
          "data": {
            "text/plain": [
              "[2, 1, 3, 4, 5]\n",
              "Categories (5, int64): [1 < 2 < 3 < 4 < 5]"
            ]
          },
          "metadata": {
            "tags": []
          },
          "execution_count": 50
        }
      ]
    },
    {
      "cell_type": "code",
      "metadata": {
        "id": "BpJ8KQLHCBPT",
        "outputId": "9482e15f-9487-4b53-a881-7679e9e63ae0",
        "colab": {
          "base_uri": "https://localhost:8080/",
          "height": 34
        }
      },
      "source": [
        "df['RHOB'].isnull().sum()"
      ],
      "execution_count": 51,
      "outputs": [
        {
          "output_type": "execute_result",
          "data": {
            "text/plain": [
              "161269"
            ]
          },
          "metadata": {
            "tags": []
          },
          "execution_count": 51
        }
      ]
    },
    {
      "cell_type": "code",
      "metadata": {
        "id": "71zz_kY8CBIT",
        "outputId": "15b2c9a1-0123-4f0d-ad49-cd55185bf8da",
        "colab": {
          "base_uri": "https://localhost:8080/",
          "height": 119
        }
      },
      "source": [
        "rhob_median = 0\n",
        "for i in df['DTC_GROUP'].unique():\n",
        "  rhob_median = df.loc[df['RHOB'].notnull() & (df['DTC_GROUP'] == i)]['RHOB'].median()\n",
        "  df.loc[(df['RHOB'].isnull() & (df['DTC_GROUP'] == i)), 'RHOB'] = rhob_median\n",
        "  print('Медиана -', rhob_median)\n",
        "print('Пропущенных значений RHOB -', df['RHOB'].isna().sum())\n",
        "del rhob_median"
      ],
      "execution_count": 52,
      "outputs": [
        {
          "output_type": "stream",
          "text": [
            "Медиана - 2.4135766029\n",
            "Медиана - 2.59395182135\n",
            "Медиана - 2.0341788530000002\n",
            "Медиана - 1.8283954859\n",
            "Медиана - 1.9220573902\n",
            "Пропущенных значений RHOB - 0\n"
          ],
          "name": "stdout"
        }
      ]
    },
    {
      "cell_type": "markdown",
      "metadata": {
        "id": "Iyexs-9fF5qj"
      },
      "source": [
        "### Заполняем столбец NPHI по данным корреляции со столбцом DTC."
      ]
    },
    {
      "cell_type": "code",
      "metadata": {
        "id": "HslIkrpktmjM",
        "outputId": "1f9cf1f4-98f4-465e-e09b-17b9e6e468f7",
        "colab": {
          "base_uri": "https://localhost:8080/",
          "height": 34
        }
      },
      "source": [
        "df['NPHI'].isnull().sum()"
      ],
      "execution_count": 53,
      "outputs": [
        {
          "output_type": "execute_result",
          "data": {
            "text/plain": [
              "405102"
            ]
          },
          "metadata": {
            "tags": []
          },
          "execution_count": 53
        }
      ]
    },
    {
      "cell_type": "code",
      "metadata": {
        "id": "k0EhyerwGjfj",
        "outputId": "aba0b21a-9de4-46a7-d4a3-b40c768fc903",
        "colab": {
          "base_uri": "https://localhost:8080/",
          "height": 119
        }
      },
      "source": [
        "nphi_median = 0\n",
        "for i in df['DTC_GROUP'].unique():\n",
        "  nphi_median = df.loc[df['NPHI'].notnull() & (df['DTC_GROUP'] == i)]['NPHI'].median()\n",
        "  df.loc[(df['NPHI'].isnull() & (df['DTC_GROUP'] == i)), 'NPHI'] = nphi_median\n",
        "  print('Медиана -', nphi_median)\n",
        "print('Пропущенных значений RHOB -', df['NPHI'].isna().sum())\n",
        "del nphi_median\n",
        "df = df.drop('DTC_GROUP', axis = 1)"
      ],
      "execution_count": 54,
      "outputs": [
        {
          "output_type": "stream",
          "text": [
            "Медиана - 0.3029362261\n",
            "Медиана - 0.1137064025\n",
            "Медиана - 0.4813893139\n",
            "Медиана - 0.5119898915\n",
            "Медиана - 0.4797895998\n",
            "Пропущенных значений RHOB - 0\n"
          ],
          "name": "stdout"
        }
      ]
    },
    {
      "cell_type": "markdown",
      "metadata": {
        "id": "svC6a3tSHiGS"
      },
      "source": [
        "### Оставшиеся пропущенные значения в других столбцах заполняем по медиане."
      ]
    },
    {
      "cell_type": "code",
      "metadata": {
        "id": "ic3dAszVJyoU",
        "outputId": "a08557b4-4773-4563-b683-827cbf33622c",
        "colab": {
          "base_uri": "https://localhost:8080/",
          "height": 374
        }
      },
      "source": [
        "df.info()"
      ],
      "execution_count": 55,
      "outputs": [
        {
          "output_type": "stream",
          "text": [
            "<class 'pandas.core.frame.DataFrame'>\n",
            "Int64Index: 1170511 entries, 30423 to 121958\n",
            "Data columns (total 14 columns):\n",
            " #   Column    Non-Null Count    Dtype  \n",
            "---  ------    --------------    -----  \n",
            " 0   X_LOC     1159736 non-null  float64\n",
            " 1   Y_LOC     1159736 non-null  float64\n",
            " 2   DEPTH_MD  1170511 non-null  float64\n",
            " 3   CALI      1170511 non-null  float64\n",
            " 4   RSHA      630650 non-null   float64\n",
            " 5   RMED      1131518 non-null  float64\n",
            " 6   RDEP      1159496 non-null  float64\n",
            " 7   RHOB      1170511 non-null  float64\n",
            " 8   GR        1170511 non-null  float64\n",
            " 9   NPHI      1170511 non-null  float64\n",
            " 10  PEF       671692 non-null   float64\n",
            " 11  DTC       1170511 non-null  float64\n",
            " 12  SP        864247 non-null   float64\n",
            " 13  BS        1170511 non-null  float64\n",
            "dtypes: float64(14)\n",
            "memory usage: 134.0 MB\n"
          ],
          "name": "stdout"
        }
      ]
    },
    {
      "cell_type": "code",
      "metadata": {
        "id": "_SZXUeByGjaE",
        "outputId": "3d551fac-6b8b-4e54-98da-c63cec006593",
        "colab": {
          "base_uri": "https://localhost:8080/",
          "height": 272
        }
      },
      "source": [
        "df.isna().sum()"
      ],
      "execution_count": 56,
      "outputs": [
        {
          "output_type": "execute_result",
          "data": {
            "text/plain": [
              "X_LOC        10775\n",
              "Y_LOC        10775\n",
              "DEPTH_MD         0\n",
              "CALI             0\n",
              "RSHA        539861\n",
              "RMED         38993\n",
              "RDEP         11015\n",
              "RHOB             0\n",
              "GR               0\n",
              "NPHI             0\n",
              "PEF         498819\n",
              "DTC              0\n",
              "SP          306264\n",
              "BS               0\n",
              "dtype: int64"
            ]
          },
          "metadata": {
            "tags": []
          },
          "execution_count": 56
        }
      ]
    },
    {
      "cell_type": "code",
      "metadata": {
        "id": "mhXLqpdEGZgm"
      },
      "source": [
        "  for i in df.columns:\n",
        "    df.loc[df[i].isnull(),i] = df[i].median()"
      ],
      "execution_count": 57,
      "outputs": []
    },
    {
      "cell_type": "code",
      "metadata": {
        "id": "-uYaCy7YlKMV",
        "outputId": "24bf8b10-c4d2-48d0-cf92-c7b35b16e1d7",
        "colab": {
          "base_uri": "https://localhost:8080/",
          "height": 272
        }
      },
      "source": [
        "df.isna().sum()"
      ],
      "execution_count": 58,
      "outputs": [
        {
          "output_type": "execute_result",
          "data": {
            "text/plain": [
              "X_LOC       0\n",
              "Y_LOC       0\n",
              "DEPTH_MD    0\n",
              "CALI        0\n",
              "RSHA        0\n",
              "RMED        0\n",
              "RDEP        0\n",
              "RHOB        0\n",
              "GR          0\n",
              "NPHI        0\n",
              "PEF         0\n",
              "DTC         0\n",
              "SP          0\n",
              "BS          0\n",
              "dtype: int64"
            ]
          },
          "metadata": {
            "tags": []
          },
          "execution_count": 58
        }
      ]
    },
    {
      "cell_type": "markdown",
      "metadata": {
        "id": "rTbKgYWAKMtB"
      },
      "source": [
        "# Все пропущенные значения заполнены."
      ]
    },
    {
      "cell_type": "code",
      "metadata": {
        "id": "ABE3ixMpKZIb"
      },
      "source": [
        "X = df.copy()"
      ],
      "execution_count": 59,
      "outputs": []
    },
    {
      "cell_type": "code",
      "metadata": {
        "id": "EJOtl7VPKcmO"
      },
      "source": [
        "del df"
      ],
      "execution_count": 60,
      "outputs": []
    },
    {
      "cell_type": "markdown",
      "metadata": {
        "id": "OGKwkRlr5Kh0"
      },
      "source": [
        "# Конкатим мета-признаки."
      ]
    },
    {
      "cell_type": "code",
      "metadata": {
        "id": "mlv26oav5OSV"
      },
      "source": [
        "#meta_train=pd.read_csv('/content/drive/My Drive/ColabNotebooks/welllog/train_w_meta.csv')\n",
        "#meta_train = meta_train.groupby(['WELL','lat','lon','cluster','dist_0','dist_1','dist_2'])['DRHO'].count()\n",
        "#meta_train = meta_train.reset_index().drop('DRHO',axis=1)"
      ],
      "execution_count": 61,
      "outputs": []
    },
    {
      "cell_type": "code",
      "metadata": {
        "id": "y22r2q1T5OGk"
      },
      "source": [
        "#X = X.merge(meta_train[['WELL','lat','lon','cluster','dist_0','dist_1','dist_2']],how='left',on='WELL')\n",
        "#X = X.drop('WELL',axis=1)"
      ],
      "execution_count": 62,
      "outputs": []
    },
    {
      "cell_type": "markdown",
      "metadata": {
        "id": "jJIZTxVVnQn7"
      },
      "source": [
        "##### Scale the features"
      ]
    },
    {
      "cell_type": "code",
      "metadata": {
        "id": "uaE2GFmKnQn7"
      },
      "source": [
        "scaler = StandardScaler()"
      ],
      "execution_count": 63,
      "outputs": []
    },
    {
      "cell_type": "code",
      "metadata": {
        "id": "8u49dLXAnQn-",
        "outputId": "977bd76b-b28d-4e15-b7d2-8915185cd065",
        "colab": {
          "base_uri": "https://localhost:8080/",
          "height": 68
        }
      },
      "source": [
        "X.columns"
      ],
      "execution_count": 64,
      "outputs": [
        {
          "output_type": "execute_result",
          "data": {
            "text/plain": [
              "Index(['X_LOC', 'Y_LOC', 'DEPTH_MD', 'CALI', 'RSHA', 'RMED', 'RDEP', 'RHOB',\n",
              "       'GR', 'NPHI', 'PEF', 'DTC', 'SP', 'BS'],\n",
              "      dtype='object')"
            ]
          },
          "metadata": {
            "tags": []
          },
          "execution_count": 64
        }
      ]
    },
    {
      "cell_type": "code",
      "metadata": {
        "id": "WmU4kwkZnQoC"
      },
      "source": [
        "X = scaler.fit_transform(X)"
      ],
      "execution_count": 65,
      "outputs": []
    },
    {
      "cell_type": "markdown",
      "metadata": {
        "id": "vMSqK3AJnQoG"
      },
      "source": [
        "##### Split into train and test data"
      ]
    },
    {
      "cell_type": "code",
      "metadata": {
        "id": "xUAfAsKYnQoI"
      },
      "source": [
        "X_train, X_test, y_train, y_test = train_test_split(X, y, test_size=0.2, random_state=42)"
      ],
      "execution_count": 66,
      "outputs": []
    },
    {
      "cell_type": "markdown",
      "metadata": {
        "id": "AzfuHcMsnQoN"
      },
      "source": [
        "### Applying the custom scoring function"
      ]
    },
    {
      "cell_type": "markdown",
      "metadata": {
        "id": "VlAW23wynQoN"
      },
      "source": [
        "Apart from the missing log curves, **one of the key challenges of this machine learning competition is that you are being scored using a custom scoring function**. \n",
        "\n",
        "A prediction is scored using the penalty function\n",
        "$$ S = - \\frac{1}{N}\\sum_{i=0}^N A_{ \\hat{y}_i y_i} $$\n",
        "where $N$ is the number of samples, $y_i$ is prediction for sample $i$, $\\hat{y}_i$ is the true target for sample $i$, and $A$ is the penalty matrix given by the following\n",
        "\n",
        "In short, the value of the matrix A at row i and column j is the **penalty** given by guessing lithology number i when the correct label is lithology numner j. Notice that the diagonal consists of zeros, no penalty is given for correct predictions."
      ]
    },
    {
      "cell_type": "code",
      "metadata": {
        "id": "8d2LdGVLnQoO"
      },
      "source": [
        "A = np.load('/content/drive/My Drive/ColabNotebooks/welllog/penalty_matrix.npy')"
      ],
      "execution_count": 67,
      "outputs": []
    },
    {
      "cell_type": "code",
      "metadata": {
        "id": "o9bACc_hnQoS",
        "outputId": "9b00b5bf-f8b1-4ee7-bf30-1a7e8bcf6e08",
        "colab": {
          "base_uri": "https://localhost:8080/",
          "height": 425
        }
      },
      "source": [
        "A"
      ],
      "execution_count": 68,
      "outputs": [
        {
          "output_type": "execute_result",
          "data": {
            "text/plain": [
              "array([[0.   , 2.   , 3.5  , 3.   , 3.75 , 3.5  , 3.5  , 4.   , 4.   ,\n",
              "        2.5  , 3.875, 3.25 ],\n",
              "       [2.   , 0.   , 2.375, 2.75 , 4.   , 3.75 , 3.75 , 3.875, 4.   ,\n",
              "        3.   , 3.75 , 3.   ],\n",
              "       [3.5  , 2.375, 0.   , 2.   , 3.5  , 3.5  , 3.75 , 4.   , 4.   ,\n",
              "        2.75 , 3.25 , 3.   ],\n",
              "       [3.   , 2.75 , 2.   , 0.   , 2.5  , 2.   , 2.25 , 4.   , 4.   ,\n",
              "        3.375, 3.75 , 3.25 ],\n",
              "       [3.75 , 4.   , 3.5  , 2.5  , 0.   , 2.625, 2.875, 3.75 , 3.25 ,\n",
              "        3.   , 4.   , 3.625],\n",
              "       [3.5  , 3.75 , 3.5  , 2.   , 2.625, 0.   , 1.375, 4.   , 3.75 ,\n",
              "        3.5  , 4.   , 3.625],\n",
              "       [3.5  , 3.75 , 3.75 , 2.25 , 2.875, 1.375, 0.   , 4.   , 3.75 ,\n",
              "        3.125, 4.   , 3.75 ],\n",
              "       [4.   , 3.875, 4.   , 4.   , 3.75 , 4.   , 4.   , 0.   , 2.75 ,\n",
              "        3.75 , 3.75 , 4.   ],\n",
              "       [4.   , 4.   , 4.   , 4.   , 3.25 , 3.75 , 3.75 , 2.75 , 0.   ,\n",
              "        4.   , 4.   , 3.875],\n",
              "       [2.5  , 3.   , 2.75 , 3.375, 3.   , 3.5  , 3.125, 3.75 , 4.   ,\n",
              "        0.   , 2.5  , 3.25 ],\n",
              "       [3.875, 3.75 , 3.25 , 3.75 , 4.   , 4.   , 4.   , 3.75 , 4.   ,\n",
              "        2.5  , 0.   , 4.   ],\n",
              "       [3.25 , 3.   , 3.   , 3.25 , 3.625, 3.625, 3.75 , 4.   , 3.875,\n",
              "        3.25 , 4.   , 0.   ]])"
            ]
          },
          "metadata": {
            "tags": []
          },
          "execution_count": 68
        }
      ]
    },
    {
      "cell_type": "markdown",
      "metadata": {
        "id": "-_PpsmmVnQoV"
      },
      "source": [
        "The scoring function can be implemented as follows. If used as a loss function in a neural network framwork, it is recommended to implement a more efficient function based on tensor products. "
      ]
    },
    {
      "cell_type": "code",
      "metadata": {
        "id": "6M_E1lWgnQoV"
      },
      "source": [
        "def score(y_true, y_pred):\n",
        "    S = 0.0\n",
        "    y_true = y_true.astype(int)\n",
        "    y_pred = y_pred.astype(int)\n",
        "    for i in range(0, y_true.shape[0]):\n",
        "        S -= A[y_true[i], y_pred[i]]\n",
        "    return S/y_true.shape[0]"
      ],
      "execution_count": 69,
      "outputs": []
    },
    {
      "cell_type": "markdown",
      "metadata": {
        "id": "ypxBbEVenQoY"
      },
      "source": [
        "**IMPORTANT: The implementation above assumes zero-indexed y_true and y_pred. Be careful not to mix zero-indexed and 1-indexed class labels.**"
      ]
    },
    {
      "cell_type": "markdown",
      "metadata": {
        "id": "0kNsfYipnQoZ"
      },
      "source": [
        "Let us see what happens when we test the scoring function on some corner cases:"
      ]
    },
    {
      "cell_type": "markdown",
      "metadata": {
        "id": "2zgwL9SInQoa"
      },
      "source": [
        "##### Lazily guessing SHALE for everything gives an OK score due to the imbalance of the dataset"
      ]
    },
    {
      "cell_type": "code",
      "metadata": {
        "id": "PyTBKIX6nQoa",
        "outputId": "b0f55a8c-9306-48e9-9e4d-0786ee999bd5",
        "colab": {
          "base_uri": "https://localhost:8080/",
          "height": 34
        }
      },
      "source": [
        "score(y_test.values, np.ones(y_test.shape)*2)"
      ],
      "execution_count": 70,
      "outputs": [
        {
          "output_type": "execute_result",
          "data": {
            "text/plain": [
              "-1.154113253567874"
            ]
          },
          "metadata": {
            "tags": []
          },
          "execution_count": 70
        }
      ]
    },
    {
      "cell_type": "markdown",
      "metadata": {
        "id": "e0n3gHm3nQod"
      },
      "source": [
        "##### Doing the same for an uncommon class, like COAL, not so much.."
      ]
    },
    {
      "cell_type": "code",
      "metadata": {
        "id": "PE7AUT_-nQoe",
        "outputId": "af1a7920-d69a-47be-f892-73497ef29ab2",
        "colab": {
          "base_uri": "https://localhost:8080/",
          "height": 34
        }
      },
      "source": [
        "score(y_test.values, np.ones(y_test.shape)*11)"
      ],
      "execution_count": 71,
      "outputs": [
        {
          "output_type": "execute_result",
          "data": {
            "text/plain": [
              "-3.0950906225037698"
            ]
          },
          "metadata": {
            "tags": []
          },
          "execution_count": 71
        }
      ]
    },
    {
      "cell_type": "markdown",
      "metadata": {
        "id": "QCf1DdqgnQoh"
      },
      "source": [
        "##### Of course getting it completely right gives the highest possible score, 0"
      ]
    },
    {
      "cell_type": "code",
      "metadata": {
        "id": "PyVRGFJynQoi",
        "outputId": "1761df49-4229-4431-a930-6ade22c40081",
        "colab": {
          "base_uri": "https://localhost:8080/",
          "height": 34
        }
      },
      "source": [
        "score(y_test.values, y_test.values)"
      ],
      "execution_count": 72,
      "outputs": [
        {
          "output_type": "execute_result",
          "data": {
            "text/plain": [
              "0.0"
            ]
          },
          "metadata": {
            "tags": []
          },
          "execution_count": 72
        }
      ]
    },
    {
      "cell_type": "markdown",
      "metadata": {
        "id": "55Hs8-wjnQon"
      },
      "source": [
        "### Example prediction on open test dataset"
      ]
    },
    {
      "cell_type": "markdown",
      "metadata": {
        "id": "RfKjdslUnQon"
      },
      "source": [
        "##### Train an oversimplified dummy model for the sake of the example\n",
        "In order to give examples of how to submit predictions and reproducible code, we will train a RandomForestClassifier on the full feature set where we lazily have set all missing values (NaNs) to zero. This is an example only, following along this approach for the competition is not recommended. However, the template below can be used for generating predictions for the weekly leaderboard from your own model, and as an example on how to ecapsulate your model for final scoring where you have to submit code.\n",
        "\n",
        "Apart from the inherent flaws of the random forest classifier, this example approach has a number of issues and simplifications. For example:\n",
        "* Data is not separated per well. Normalization and shuffling is done across the whole dataset.\n",
        "* The penatly matrix is not taken into account, it is treated as a normal classification problem.\n",
        "* Missing logs are treated as zeros\n",
        "* Depth and formation tops not taken into account\n",
        "* Same model is used for when you only have gamma ray logs as when you have the full set of logs"
      ]
    },
    {
      "cell_type": "code",
      "metadata": {
        "scrolled": true,
        "id": "uyypUGpVnQoo"
      },
      "source": [
        "#model = RandomForestClassifier(n_estimators=50, random_state=42, class_weight='balanced')"
      ],
      "execution_count": 73,
      "outputs": []
    },
    {
      "cell_type": "code",
      "metadata": {
        "id": "Dgz83BfBnQos"
      },
      "source": [
        "#model.fit(X_train, y_train)"
      ],
      "execution_count": 74,
      "outputs": []
    },
    {
      "cell_type": "markdown",
      "metadata": {
        "id": "ZbntGSfYkgfo"
      },
      "source": [
        "# Catboost Classifier"
      ]
    },
    {
      "cell_type": "code",
      "metadata": {
        "id": "nV4lUh8akftA"
      },
      "source": [
        "#!pip install catboost\n",
        "#from catboost import Pool, CatBoostClassifier"
      ],
      "execution_count": 75,
      "outputs": []
    },
    {
      "cell_type": "code",
      "metadata": {
        "id": "k7gkV2G-kf5A"
      },
      "source": [
        "#%%time\n",
        "#acc = pd.DataFrame(columns = ['depth','iterations','scoring'])\n",
        "#counter = 0\n",
        "#for i in iterations:\n",
        "#    for j in depth:\n",
        "#        cbc = CatBoostClassifier(iterations=i, depth=j, random_state=12345, auto_class_weights='Balanced', task_type=\"GPU\", loss_function='MultiClass')\n",
        "#        cbc.fit(X_train, y_train, verbose=False, use_best_model=True, eval_set=(X_test,y_test))\n",
        "#        answers_cbc = cbc.predict(X_test)\n",
        "#        scoring = score(y_test.values, answers_cbc)\n",
        "#        acc = acc.append({'iterations':i, 'depth':j,'scoring':scoring}, ignore_index=True)\n",
        "#        print(counter)\n",
        "#        counter += 1\n",
        "#print(acc.sort_values('scoring', ascending=False))"
      ],
      "execution_count": 76,
      "outputs": []
    },
    {
      "cell_type": "code",
      "metadata": {
        "id": "M2IR5hfK7nli"
      },
      "source": [
        "def catbst(x_train,y_train,x_valid,y_valid,iterations,depth,min_data_in_leaf,l2_leaf_reg):\n",
        "  cbc = CatBoostClassifier(verbose=1000, iterations=iterations, depth=depth, min_data_in_leaf=min_data_in_leaf, l2_leaf_reg=l2_leaf_reg, random_state=12345, auto_class_weights='Balanced', task_type=\"GPU\", loss_function='MultiClass')\n",
        "  cbc.fit(x_train, y_train, use_best_model=True, eval_set=(x_valid,y_valid))\n",
        "  scoring = score(y_valid.values,cbc.predict(x_valid))\n",
        "#  predictions = cbc.predict(x_valid)\n",
        "  return scoring"
      ],
      "execution_count": 77,
      "outputs": []
    },
    {
      "cell_type": "code",
      "metadata": {
        "id": "ZeYgIoy3B86w"
      },
      "source": [
        "#iterations = [3000,5000,6000]\n",
        "#depth = [2,12]\n",
        "#min_data_in_leaf = [1,3,5,7]\n",
        "#l2_leaf_reg = [3,4,5]"
      ],
      "execution_count": 78,
      "outputs": []
    },
    {
      "cell_type": "code",
      "metadata": {
        "id": "fXQGVUTKB4f6"
      },
      "source": [
        "#%%time\n",
        "#acc = pd.DataFrame(columns = ['min_data_in_leaf','l2_leaf_reg','scoring'])\n",
        "#counter = 0\n",
        "#for j in min_data_in_leaf:\n",
        "#  for k in l2_leaf_reg:\n",
        "#    scoring = catbst(X_train, y_train, X_test, y_test, 6000, 12, j, k)\n",
        "#    acc = acc.append({'min_data_in_leaf':j,'l2_leaf_reg':k,'scoring':scoring}, ignore_index=True)\n",
        "#    print(counter,j,k,scoring)\n",
        "#    counter += 1\n",
        "#print(acc.sort_values('scoring', ascending=False))"
      ],
      "execution_count": 79,
      "outputs": []
    },
    {
      "cell_type": "code",
      "metadata": {
        "id": "4q5yb-HFgznT"
      },
      "source": [
        "#cbc = CatBoostClassifier(iterations=6000, depth=12, random_state=12345, auto_class_weights='Balanced', task_type=\"GPU\", loss_function='MultiClass').fit(X_train, y_train, verbose=False, use_best_model=True, eval_set=(X_test,y_test))"
      ],
      "execution_count": 80,
      "outputs": []
    },
    {
      "cell_type": "code",
      "metadata": {
        "id": "-pO7hH0NkgCd"
      },
      "source": [
        "#open_test_features = pd.read_csv('/content/drive/My Drive/ColabNotebooks/welllog/test.csv', sep=';')\n",
        "#open_test_features = open_test_features[['DEPTH_MD', 'CALI', 'RSHA', 'RMED', 'RDEP', 'RHOB', 'GR', 'NPHI', 'PEF', 'DTC', 'SP', 'BS']]\n",
        "#test_prediction = cbc.predict(open_test_features)\n",
        "#category_to_lithology = {y:x for x,y in lithology_numbers.items()}\n",
        "#test_prediction_for_submission = np.vectorize(category_to_lithology.get)(test_prediction)\n",
        "#np.savetxt('/content/drive/My Drive/ColabNotebooks/welllog/test_predictions.csv', test_prediction_for_submission, header='lithology', comments='', fmt='%i')"
      ],
      "execution_count": 81,
      "outputs": []
    },
    {
      "cell_type": "code",
      "metadata": {
        "id": "Ze8svhShkgHI"
      },
      "source": [
        "#score(y_test.values, cbc.predict(X_test))"
      ],
      "execution_count": 82,
      "outputs": []
    },
    {
      "cell_type": "markdown",
      "metadata": {
        "id": "oOgqStIBBUO9"
      },
      "source": [
        "# KNeighborsClassifier"
      ]
    },
    {
      "cell_type": "markdown",
      "metadata": {
        "id": "RcL5f0vYCoUC"
      },
      "source": [
        "# RandomForestClassifier"
      ]
    },
    {
      "cell_type": "code",
      "metadata": {
        "id": "Gz2j60Y5BuaB"
      },
      "source": [
        "#n_estimators = [150,200,300]\n",
        "#criterion = ['gini','entropy']\n",
        "#max_depth = [50,100,150,200]\n",
        "#min_samples_split = [2,4,6]"
      ],
      "execution_count": 83,
      "outputs": []
    },
    {
      "cell_type": "code",
      "metadata": {
        "id": "jfr3T28FBMKH"
      },
      "source": [
        "#def rfcls(x_train,y_train,x_valid,y_valid,n_estimators,criterion,max_depth,min_samples_split):\n",
        "#  rfc = clf = RandomForestClassifier(n_jobs=-1,class_weight='balanced',n_estimators=n_estimators,criterion=criterion,max_depth=max_depth,min_samples_split=min_samples_split,random_state=12345)\n",
        "#  rfc.fit(x_train, y_train)\n",
        "#  scoring = score(y_valid.values,rfc.predict(x_valid))\n",
        "#  return scoring"
      ],
      "execution_count": 84,
      "outputs": []
    },
    {
      "cell_type": "code",
      "metadata": {
        "id": "9WqKJuAMBMAr"
      },
      "source": [
        "#%%time\n",
        "#acc = pd.DataFrame(columns = ['n_estimators','criterion','max_depth','min_samples_split','scoring'])\n",
        "#counter = 0\n",
        "#for i in n_estimators:\n",
        "#  for k in criterion:\n",
        "#    for j in max_depth:\n",
        "#      for l in min_samples_split:\n",
        "#        scoring = rfcls(X_train, y_train, X_test, y_test, i, k, j, l)\n",
        "#        acc = acc.append({'n_estimators':i,'criterion':k,'max_depth':j,'min_samples_split':l,'scoring':scoring}, ignore_index=True)\n",
        "#        print(counter,i,k,j,l,scoring)\n",
        "#        counter += 1\n",
        "#print(acc.sort_values('scoring', ascending=False))"
      ],
      "execution_count": 85,
      "outputs": []
    },
    {
      "cell_type": "markdown",
      "metadata": {
        "id": "_ICHOb3qvJ3h"
      },
      "source": [
        "# Заполнение пропусков в тестовой выборке по коррелирующим признакам."
      ]
    },
    {
      "cell_type": "markdown",
      "metadata": {
        "id": "Yn4TZFp99_oa"
      },
      "source": [
        "'X_LOC','Y_LOC','Z_LOC'"
      ]
    },
    {
      "cell_type": "code",
      "metadata": {
        "id": "nnlnQE-BvT5f"
      },
      "source": [
        "open_test_features = pd.read_csv('/content/drive/My Drive/ColabNotebooks/welllog/test.csv', sep=';')\n",
        "open_test_features = open_test_features[['X_LOC','Y_LOC','DEPTH_MD', 'CALI', 'RSHA', 'RMED', 'RDEP', 'RHOB', 'GR', 'NPHI', 'PEF', 'DTC', 'SP', 'BS']]"
      ],
      "execution_count": 86,
      "outputs": []
    },
    {
      "cell_type": "code",
      "metadata": {
        "id": "FECHgsNhvPla"
      },
      "source": [
        "df_corr1 = open_test_features.corr()"
      ],
      "execution_count": 87,
      "outputs": []
    },
    {
      "cell_type": "code",
      "metadata": {
        "id": "e0RtSKbj0I1f",
        "outputId": "8bdf55c0-f283-4e82-e979-4fab3f36b188",
        "colab": {
          "base_uri": "https://localhost:8080/",
          "height": 334
        }
      },
      "source": [
        "df_corr1.style.applymap(color_values)"
      ],
      "execution_count": 88,
      "outputs": [
        {
          "output_type": "execute_result",
          "data": {
            "text/html": [
              "<style  type=\"text/css\" >\n",
              "#T_39cc926c_161b_11eb_b400_0242ac1c0002row0_col0,#T_39cc926c_161b_11eb_b400_0242ac1c0002row1_col1,#T_39cc926c_161b_11eb_b400_0242ac1c0002row2_col2,#T_39cc926c_161b_11eb_b400_0242ac1c0002row2_col3,#T_39cc926c_161b_11eb_b400_0242ac1c0002row2_col7,#T_39cc926c_161b_11eb_b400_0242ac1c0002row2_col9,#T_39cc926c_161b_11eb_b400_0242ac1c0002row2_col11,#T_39cc926c_161b_11eb_b400_0242ac1c0002row3_col2,#T_39cc926c_161b_11eb_b400_0242ac1c0002row3_col3,#T_39cc926c_161b_11eb_b400_0242ac1c0002row3_col7,#T_39cc926c_161b_11eb_b400_0242ac1c0002row3_col11,#T_39cc926c_161b_11eb_b400_0242ac1c0002row3_col13,#T_39cc926c_161b_11eb_b400_0242ac1c0002row4_col4,#T_39cc926c_161b_11eb_b400_0242ac1c0002row5_col5,#T_39cc926c_161b_11eb_b400_0242ac1c0002row5_col6,#T_39cc926c_161b_11eb_b400_0242ac1c0002row6_col5,#T_39cc926c_161b_11eb_b400_0242ac1c0002row6_col6,#T_39cc926c_161b_11eb_b400_0242ac1c0002row7_col2,#T_39cc926c_161b_11eb_b400_0242ac1c0002row7_col3,#T_39cc926c_161b_11eb_b400_0242ac1c0002row7_col7,#T_39cc926c_161b_11eb_b400_0242ac1c0002row7_col9,#T_39cc926c_161b_11eb_b400_0242ac1c0002row7_col11,#T_39cc926c_161b_11eb_b400_0242ac1c0002row8_col8,#T_39cc926c_161b_11eb_b400_0242ac1c0002row9_col2,#T_39cc926c_161b_11eb_b400_0242ac1c0002row9_col7,#T_39cc926c_161b_11eb_b400_0242ac1c0002row9_col9,#T_39cc926c_161b_11eb_b400_0242ac1c0002row9_col11,#T_39cc926c_161b_11eb_b400_0242ac1c0002row10_col10,#T_39cc926c_161b_11eb_b400_0242ac1c0002row11_col2,#T_39cc926c_161b_11eb_b400_0242ac1c0002row11_col3,#T_39cc926c_161b_11eb_b400_0242ac1c0002row11_col7,#T_39cc926c_161b_11eb_b400_0242ac1c0002row11_col9,#T_39cc926c_161b_11eb_b400_0242ac1c0002row11_col11,#T_39cc926c_161b_11eb_b400_0242ac1c0002row12_col12,#T_39cc926c_161b_11eb_b400_0242ac1c0002row13_col3,#T_39cc926c_161b_11eb_b400_0242ac1c0002row13_col13{\n",
              "            color:  red;\n",
              "        }#T_39cc926c_161b_11eb_b400_0242ac1c0002row0_col1,#T_39cc926c_161b_11eb_b400_0242ac1c0002row0_col2,#T_39cc926c_161b_11eb_b400_0242ac1c0002row0_col3,#T_39cc926c_161b_11eb_b400_0242ac1c0002row0_col4,#T_39cc926c_161b_11eb_b400_0242ac1c0002row0_col5,#T_39cc926c_161b_11eb_b400_0242ac1c0002row0_col6,#T_39cc926c_161b_11eb_b400_0242ac1c0002row0_col7,#T_39cc926c_161b_11eb_b400_0242ac1c0002row0_col8,#T_39cc926c_161b_11eb_b400_0242ac1c0002row0_col9,#T_39cc926c_161b_11eb_b400_0242ac1c0002row0_col10,#T_39cc926c_161b_11eb_b400_0242ac1c0002row0_col11,#T_39cc926c_161b_11eb_b400_0242ac1c0002row0_col12,#T_39cc926c_161b_11eb_b400_0242ac1c0002row0_col13,#T_39cc926c_161b_11eb_b400_0242ac1c0002row1_col0,#T_39cc926c_161b_11eb_b400_0242ac1c0002row1_col2,#T_39cc926c_161b_11eb_b400_0242ac1c0002row1_col3,#T_39cc926c_161b_11eb_b400_0242ac1c0002row1_col4,#T_39cc926c_161b_11eb_b400_0242ac1c0002row1_col5,#T_39cc926c_161b_11eb_b400_0242ac1c0002row1_col6,#T_39cc926c_161b_11eb_b400_0242ac1c0002row1_col7,#T_39cc926c_161b_11eb_b400_0242ac1c0002row1_col8,#T_39cc926c_161b_11eb_b400_0242ac1c0002row1_col9,#T_39cc926c_161b_11eb_b400_0242ac1c0002row1_col10,#T_39cc926c_161b_11eb_b400_0242ac1c0002row1_col11,#T_39cc926c_161b_11eb_b400_0242ac1c0002row1_col12,#T_39cc926c_161b_11eb_b400_0242ac1c0002row1_col13,#T_39cc926c_161b_11eb_b400_0242ac1c0002row2_col0,#T_39cc926c_161b_11eb_b400_0242ac1c0002row2_col1,#T_39cc926c_161b_11eb_b400_0242ac1c0002row2_col4,#T_39cc926c_161b_11eb_b400_0242ac1c0002row2_col5,#T_39cc926c_161b_11eb_b400_0242ac1c0002row2_col6,#T_39cc926c_161b_11eb_b400_0242ac1c0002row2_col8,#T_39cc926c_161b_11eb_b400_0242ac1c0002row2_col10,#T_39cc926c_161b_11eb_b400_0242ac1c0002row2_col12,#T_39cc926c_161b_11eb_b400_0242ac1c0002row2_col13,#T_39cc926c_161b_11eb_b400_0242ac1c0002row3_col0,#T_39cc926c_161b_11eb_b400_0242ac1c0002row3_col1,#T_39cc926c_161b_11eb_b400_0242ac1c0002row3_col4,#T_39cc926c_161b_11eb_b400_0242ac1c0002row3_col5,#T_39cc926c_161b_11eb_b400_0242ac1c0002row3_col6,#T_39cc926c_161b_11eb_b400_0242ac1c0002row3_col8,#T_39cc926c_161b_11eb_b400_0242ac1c0002row3_col9,#T_39cc926c_161b_11eb_b400_0242ac1c0002row3_col10,#T_39cc926c_161b_11eb_b400_0242ac1c0002row3_col12,#T_39cc926c_161b_11eb_b400_0242ac1c0002row4_col0,#T_39cc926c_161b_11eb_b400_0242ac1c0002row4_col1,#T_39cc926c_161b_11eb_b400_0242ac1c0002row4_col2,#T_39cc926c_161b_11eb_b400_0242ac1c0002row4_col3,#T_39cc926c_161b_11eb_b400_0242ac1c0002row4_col5,#T_39cc926c_161b_11eb_b400_0242ac1c0002row4_col6,#T_39cc926c_161b_11eb_b400_0242ac1c0002row4_col7,#T_39cc926c_161b_11eb_b400_0242ac1c0002row4_col8,#T_39cc926c_161b_11eb_b400_0242ac1c0002row4_col9,#T_39cc926c_161b_11eb_b400_0242ac1c0002row4_col10,#T_39cc926c_161b_11eb_b400_0242ac1c0002row4_col11,#T_39cc926c_161b_11eb_b400_0242ac1c0002row4_col12,#T_39cc926c_161b_11eb_b400_0242ac1c0002row4_col13,#T_39cc926c_161b_11eb_b400_0242ac1c0002row5_col0,#T_39cc926c_161b_11eb_b400_0242ac1c0002row5_col1,#T_39cc926c_161b_11eb_b400_0242ac1c0002row5_col2,#T_39cc926c_161b_11eb_b400_0242ac1c0002row5_col3,#T_39cc926c_161b_11eb_b400_0242ac1c0002row5_col4,#T_39cc926c_161b_11eb_b400_0242ac1c0002row5_col7,#T_39cc926c_161b_11eb_b400_0242ac1c0002row5_col8,#T_39cc926c_161b_11eb_b400_0242ac1c0002row5_col9,#T_39cc926c_161b_11eb_b400_0242ac1c0002row5_col10,#T_39cc926c_161b_11eb_b400_0242ac1c0002row5_col11,#T_39cc926c_161b_11eb_b400_0242ac1c0002row5_col12,#T_39cc926c_161b_11eb_b400_0242ac1c0002row5_col13,#T_39cc926c_161b_11eb_b400_0242ac1c0002row6_col0,#T_39cc926c_161b_11eb_b400_0242ac1c0002row6_col1,#T_39cc926c_161b_11eb_b400_0242ac1c0002row6_col2,#T_39cc926c_161b_11eb_b400_0242ac1c0002row6_col3,#T_39cc926c_161b_11eb_b400_0242ac1c0002row6_col4,#T_39cc926c_161b_11eb_b400_0242ac1c0002row6_col7,#T_39cc926c_161b_11eb_b400_0242ac1c0002row6_col8,#T_39cc926c_161b_11eb_b400_0242ac1c0002row6_col9,#T_39cc926c_161b_11eb_b400_0242ac1c0002row6_col10,#T_39cc926c_161b_11eb_b400_0242ac1c0002row6_col11,#T_39cc926c_161b_11eb_b400_0242ac1c0002row6_col12,#T_39cc926c_161b_11eb_b400_0242ac1c0002row6_col13,#T_39cc926c_161b_11eb_b400_0242ac1c0002row7_col0,#T_39cc926c_161b_11eb_b400_0242ac1c0002row7_col1,#T_39cc926c_161b_11eb_b400_0242ac1c0002row7_col4,#T_39cc926c_161b_11eb_b400_0242ac1c0002row7_col5,#T_39cc926c_161b_11eb_b400_0242ac1c0002row7_col6,#T_39cc926c_161b_11eb_b400_0242ac1c0002row7_col8,#T_39cc926c_161b_11eb_b400_0242ac1c0002row7_col10,#T_39cc926c_161b_11eb_b400_0242ac1c0002row7_col12,#T_39cc926c_161b_11eb_b400_0242ac1c0002row7_col13,#T_39cc926c_161b_11eb_b400_0242ac1c0002row8_col0,#T_39cc926c_161b_11eb_b400_0242ac1c0002row8_col1,#T_39cc926c_161b_11eb_b400_0242ac1c0002row8_col2,#T_39cc926c_161b_11eb_b400_0242ac1c0002row8_col3,#T_39cc926c_161b_11eb_b400_0242ac1c0002row8_col4,#T_39cc926c_161b_11eb_b400_0242ac1c0002row8_col5,#T_39cc926c_161b_11eb_b400_0242ac1c0002row8_col6,#T_39cc926c_161b_11eb_b400_0242ac1c0002row8_col7,#T_39cc926c_161b_11eb_b400_0242ac1c0002row8_col9,#T_39cc926c_161b_11eb_b400_0242ac1c0002row8_col10,#T_39cc926c_161b_11eb_b400_0242ac1c0002row8_col11,#T_39cc926c_161b_11eb_b400_0242ac1c0002row8_col12,#T_39cc926c_161b_11eb_b400_0242ac1c0002row8_col13,#T_39cc926c_161b_11eb_b400_0242ac1c0002row9_col0,#T_39cc926c_161b_11eb_b400_0242ac1c0002row9_col1,#T_39cc926c_161b_11eb_b400_0242ac1c0002row9_col3,#T_39cc926c_161b_11eb_b400_0242ac1c0002row9_col4,#T_39cc926c_161b_11eb_b400_0242ac1c0002row9_col5,#T_39cc926c_161b_11eb_b400_0242ac1c0002row9_col6,#T_39cc926c_161b_11eb_b400_0242ac1c0002row9_col8,#T_39cc926c_161b_11eb_b400_0242ac1c0002row9_col10,#T_39cc926c_161b_11eb_b400_0242ac1c0002row9_col12,#T_39cc926c_161b_11eb_b400_0242ac1c0002row9_col13,#T_39cc926c_161b_11eb_b400_0242ac1c0002row10_col0,#T_39cc926c_161b_11eb_b400_0242ac1c0002row10_col1,#T_39cc926c_161b_11eb_b400_0242ac1c0002row10_col2,#T_39cc926c_161b_11eb_b400_0242ac1c0002row10_col3,#T_39cc926c_161b_11eb_b400_0242ac1c0002row10_col4,#T_39cc926c_161b_11eb_b400_0242ac1c0002row10_col5,#T_39cc926c_161b_11eb_b400_0242ac1c0002row10_col6,#T_39cc926c_161b_11eb_b400_0242ac1c0002row10_col7,#T_39cc926c_161b_11eb_b400_0242ac1c0002row10_col8,#T_39cc926c_161b_11eb_b400_0242ac1c0002row10_col9,#T_39cc926c_161b_11eb_b400_0242ac1c0002row10_col11,#T_39cc926c_161b_11eb_b400_0242ac1c0002row10_col12,#T_39cc926c_161b_11eb_b400_0242ac1c0002row10_col13,#T_39cc926c_161b_11eb_b400_0242ac1c0002row11_col0,#T_39cc926c_161b_11eb_b400_0242ac1c0002row11_col1,#T_39cc926c_161b_11eb_b400_0242ac1c0002row11_col4,#T_39cc926c_161b_11eb_b400_0242ac1c0002row11_col5,#T_39cc926c_161b_11eb_b400_0242ac1c0002row11_col6,#T_39cc926c_161b_11eb_b400_0242ac1c0002row11_col8,#T_39cc926c_161b_11eb_b400_0242ac1c0002row11_col10,#T_39cc926c_161b_11eb_b400_0242ac1c0002row11_col12,#T_39cc926c_161b_11eb_b400_0242ac1c0002row11_col13,#T_39cc926c_161b_11eb_b400_0242ac1c0002row12_col0,#T_39cc926c_161b_11eb_b400_0242ac1c0002row12_col1,#T_39cc926c_161b_11eb_b400_0242ac1c0002row12_col2,#T_39cc926c_161b_11eb_b400_0242ac1c0002row12_col3,#T_39cc926c_161b_11eb_b400_0242ac1c0002row12_col4,#T_39cc926c_161b_11eb_b400_0242ac1c0002row12_col5,#T_39cc926c_161b_11eb_b400_0242ac1c0002row12_col6,#T_39cc926c_161b_11eb_b400_0242ac1c0002row12_col7,#T_39cc926c_161b_11eb_b400_0242ac1c0002row12_col8,#T_39cc926c_161b_11eb_b400_0242ac1c0002row12_col9,#T_39cc926c_161b_11eb_b400_0242ac1c0002row12_col10,#T_39cc926c_161b_11eb_b400_0242ac1c0002row12_col11,#T_39cc926c_161b_11eb_b400_0242ac1c0002row12_col13,#T_39cc926c_161b_11eb_b400_0242ac1c0002row13_col0,#T_39cc926c_161b_11eb_b400_0242ac1c0002row13_col1,#T_39cc926c_161b_11eb_b400_0242ac1c0002row13_col2,#T_39cc926c_161b_11eb_b400_0242ac1c0002row13_col4,#T_39cc926c_161b_11eb_b400_0242ac1c0002row13_col5,#T_39cc926c_161b_11eb_b400_0242ac1c0002row13_col6,#T_39cc926c_161b_11eb_b400_0242ac1c0002row13_col7,#T_39cc926c_161b_11eb_b400_0242ac1c0002row13_col8,#T_39cc926c_161b_11eb_b400_0242ac1c0002row13_col9,#T_39cc926c_161b_11eb_b400_0242ac1c0002row13_col10,#T_39cc926c_161b_11eb_b400_0242ac1c0002row13_col11,#T_39cc926c_161b_11eb_b400_0242ac1c0002row13_col12{\n",
              "            color:  black;\n",
              "        }</style><table id=\"T_39cc926c_161b_11eb_b400_0242ac1c0002\" ><thead>    <tr>        <th class=\"blank level0\" ></th>        <th class=\"col_heading level0 col0\" >X_LOC</th>        <th class=\"col_heading level0 col1\" >Y_LOC</th>        <th class=\"col_heading level0 col2\" >DEPTH_MD</th>        <th class=\"col_heading level0 col3\" >CALI</th>        <th class=\"col_heading level0 col4\" >RSHA</th>        <th class=\"col_heading level0 col5\" >RMED</th>        <th class=\"col_heading level0 col6\" >RDEP</th>        <th class=\"col_heading level0 col7\" >RHOB</th>        <th class=\"col_heading level0 col8\" >GR</th>        <th class=\"col_heading level0 col9\" >NPHI</th>        <th class=\"col_heading level0 col10\" >PEF</th>        <th class=\"col_heading level0 col11\" >DTC</th>        <th class=\"col_heading level0 col12\" >SP</th>        <th class=\"col_heading level0 col13\" >BS</th>    </tr></thead><tbody>\n",
              "                <tr>\n",
              "                        <th id=\"T_39cc926c_161b_11eb_b400_0242ac1c0002level0_row0\" class=\"row_heading level0 row0\" >X_LOC</th>\n",
              "                        <td id=\"T_39cc926c_161b_11eb_b400_0242ac1c0002row0_col0\" class=\"data row0 col0\" >1.000000</td>\n",
              "                        <td id=\"T_39cc926c_161b_11eb_b400_0242ac1c0002row0_col1\" class=\"data row0 col1\" >0.574187</td>\n",
              "                        <td id=\"T_39cc926c_161b_11eb_b400_0242ac1c0002row0_col2\" class=\"data row0 col2\" >0.259507</td>\n",
              "                        <td id=\"T_39cc926c_161b_11eb_b400_0242ac1c0002row0_col3\" class=\"data row0 col3\" >-0.383366</td>\n",
              "                        <td id=\"T_39cc926c_161b_11eb_b400_0242ac1c0002row0_col4\" class=\"data row0 col4\" >-0.013810</td>\n",
              "                        <td id=\"T_39cc926c_161b_11eb_b400_0242ac1c0002row0_col5\" class=\"data row0 col5\" >0.058584</td>\n",
              "                        <td id=\"T_39cc926c_161b_11eb_b400_0242ac1c0002row0_col6\" class=\"data row0 col6\" >0.067250</td>\n",
              "                        <td id=\"T_39cc926c_161b_11eb_b400_0242ac1c0002row0_col7\" class=\"data row0 col7\" >0.415947</td>\n",
              "                        <td id=\"T_39cc926c_161b_11eb_b400_0242ac1c0002row0_col8\" class=\"data row0 col8\" >0.228556</td>\n",
              "                        <td id=\"T_39cc926c_161b_11eb_b400_0242ac1c0002row0_col9\" class=\"data row0 col9\" >-0.383473</td>\n",
              "                        <td id=\"T_39cc926c_161b_11eb_b400_0242ac1c0002row0_col10\" class=\"data row0 col10\" >-0.039975</td>\n",
              "                        <td id=\"T_39cc926c_161b_11eb_b400_0242ac1c0002row0_col11\" class=\"data row0 col11\" >-0.406902</td>\n",
              "                        <td id=\"T_39cc926c_161b_11eb_b400_0242ac1c0002row0_col12\" class=\"data row0 col12\" >-0.235953</td>\n",
              "                        <td id=\"T_39cc926c_161b_11eb_b400_0242ac1c0002row0_col13\" class=\"data row0 col13\" >-0.171042</td>\n",
              "            </tr>\n",
              "            <tr>\n",
              "                        <th id=\"T_39cc926c_161b_11eb_b400_0242ac1c0002level0_row1\" class=\"row_heading level0 row1\" >Y_LOC</th>\n",
              "                        <td id=\"T_39cc926c_161b_11eb_b400_0242ac1c0002row1_col0\" class=\"data row1 col0\" >0.574187</td>\n",
              "                        <td id=\"T_39cc926c_161b_11eb_b400_0242ac1c0002row1_col1\" class=\"data row1 col1\" >1.000000</td>\n",
              "                        <td id=\"T_39cc926c_161b_11eb_b400_0242ac1c0002row1_col2\" class=\"data row1 col2\" >0.426705</td>\n",
              "                        <td id=\"T_39cc926c_161b_11eb_b400_0242ac1c0002row1_col3\" class=\"data row1 col3\" >-0.146260</td>\n",
              "                        <td id=\"T_39cc926c_161b_11eb_b400_0242ac1c0002row1_col4\" class=\"data row1 col4\" >-0.004906</td>\n",
              "                        <td id=\"T_39cc926c_161b_11eb_b400_0242ac1c0002row1_col5\" class=\"data row1 col5\" >0.033817</td>\n",
              "                        <td id=\"T_39cc926c_161b_11eb_b400_0242ac1c0002row1_col6\" class=\"data row1 col6\" >0.033195</td>\n",
              "                        <td id=\"T_39cc926c_161b_11eb_b400_0242ac1c0002row1_col7\" class=\"data row1 col7\" >0.469213</td>\n",
              "                        <td id=\"T_39cc926c_161b_11eb_b400_0242ac1c0002row1_col8\" class=\"data row1 col8\" >0.079297</td>\n",
              "                        <td id=\"T_39cc926c_161b_11eb_b400_0242ac1c0002row1_col9\" class=\"data row1 col9\" >-0.401943</td>\n",
              "                        <td id=\"T_39cc926c_161b_11eb_b400_0242ac1c0002row1_col10\" class=\"data row1 col10\" >0.074297</td>\n",
              "                        <td id=\"T_39cc926c_161b_11eb_b400_0242ac1c0002row1_col11\" class=\"data row1 col11\" >-0.344206</td>\n",
              "                        <td id=\"T_39cc926c_161b_11eb_b400_0242ac1c0002row1_col12\" class=\"data row1 col12\" >0.599339</td>\n",
              "                        <td id=\"T_39cc926c_161b_11eb_b400_0242ac1c0002row1_col13\" class=\"data row1 col13\" >-0.098718</td>\n",
              "            </tr>\n",
              "            <tr>\n",
              "                        <th id=\"T_39cc926c_161b_11eb_b400_0242ac1c0002level0_row2\" class=\"row_heading level0 row2\" >DEPTH_MD</th>\n",
              "                        <td id=\"T_39cc926c_161b_11eb_b400_0242ac1c0002row2_col0\" class=\"data row2 col0\" >0.259507</td>\n",
              "                        <td id=\"T_39cc926c_161b_11eb_b400_0242ac1c0002row2_col1\" class=\"data row2 col1\" >0.426705</td>\n",
              "                        <td id=\"T_39cc926c_161b_11eb_b400_0242ac1c0002row2_col2\" class=\"data row2 col2\" >1.000000</td>\n",
              "                        <td id=\"T_39cc926c_161b_11eb_b400_0242ac1c0002row2_col3\" class=\"data row2 col3\" >-0.677570</td>\n",
              "                        <td id=\"T_39cc926c_161b_11eb_b400_0242ac1c0002row2_col4\" class=\"data row2 col4\" >0.121664</td>\n",
              "                        <td id=\"T_39cc926c_161b_11eb_b400_0242ac1c0002row2_col5\" class=\"data row2 col5\" >0.087034</td>\n",
              "                        <td id=\"T_39cc926c_161b_11eb_b400_0242ac1c0002row2_col6\" class=\"data row2 col6\" >0.077965</td>\n",
              "                        <td id=\"T_39cc926c_161b_11eb_b400_0242ac1c0002row2_col7\" class=\"data row2 col7\" >0.743819</td>\n",
              "                        <td id=\"T_39cc926c_161b_11eb_b400_0242ac1c0002row2_col8\" class=\"data row2 col8\" >0.238643</td>\n",
              "                        <td id=\"T_39cc926c_161b_11eb_b400_0242ac1c0002row2_col9\" class=\"data row2 col9\" >-0.603843</td>\n",
              "                        <td id=\"T_39cc926c_161b_11eb_b400_0242ac1c0002row2_col10\" class=\"data row2 col10\" >0.005788</td>\n",
              "                        <td id=\"T_39cc926c_161b_11eb_b400_0242ac1c0002row2_col11\" class=\"data row2 col11\" >-0.821411</td>\n",
              "                        <td id=\"T_39cc926c_161b_11eb_b400_0242ac1c0002row2_col12\" class=\"data row2 col12\" >0.081675</td>\n",
              "                        <td id=\"T_39cc926c_161b_11eb_b400_0242ac1c0002row2_col13\" class=\"data row2 col13\" >-0.370914</td>\n",
              "            </tr>\n",
              "            <tr>\n",
              "                        <th id=\"T_39cc926c_161b_11eb_b400_0242ac1c0002level0_row3\" class=\"row_heading level0 row3\" >CALI</th>\n",
              "                        <td id=\"T_39cc926c_161b_11eb_b400_0242ac1c0002row3_col0\" class=\"data row3 col0\" >-0.383366</td>\n",
              "                        <td id=\"T_39cc926c_161b_11eb_b400_0242ac1c0002row3_col1\" class=\"data row3 col1\" >-0.146260</td>\n",
              "                        <td id=\"T_39cc926c_161b_11eb_b400_0242ac1c0002row3_col2\" class=\"data row3 col2\" >-0.677570</td>\n",
              "                        <td id=\"T_39cc926c_161b_11eb_b400_0242ac1c0002row3_col3\" class=\"data row3 col3\" >1.000000</td>\n",
              "                        <td id=\"T_39cc926c_161b_11eb_b400_0242ac1c0002row3_col4\" class=\"data row3 col4\" >-0.122744</td>\n",
              "                        <td id=\"T_39cc926c_161b_11eb_b400_0242ac1c0002row3_col5\" class=\"data row3 col5\" >-0.108787</td>\n",
              "                        <td id=\"T_39cc926c_161b_11eb_b400_0242ac1c0002row3_col6\" class=\"data row3 col6\" >-0.097690</td>\n",
              "                        <td id=\"T_39cc926c_161b_11eb_b400_0242ac1c0002row3_col7\" class=\"data row3 col7\" >-0.614240</td>\n",
              "                        <td id=\"T_39cc926c_161b_11eb_b400_0242ac1c0002row3_col8\" class=\"data row3 col8\" >-0.354648</td>\n",
              "                        <td id=\"T_39cc926c_161b_11eb_b400_0242ac1c0002row3_col9\" class=\"data row3 col9\" >0.504658</td>\n",
              "                        <td id=\"T_39cc926c_161b_11eb_b400_0242ac1c0002row3_col10\" class=\"data row3 col10\" >0.200206</td>\n",
              "                        <td id=\"T_39cc926c_161b_11eb_b400_0242ac1c0002row3_col11\" class=\"data row3 col11\" >0.682103</td>\n",
              "                        <td id=\"T_39cc926c_161b_11eb_b400_0242ac1c0002row3_col12\" class=\"data row3 col12\" >0.328520</td>\n",
              "                        <td id=\"T_39cc926c_161b_11eb_b400_0242ac1c0002row3_col13\" class=\"data row3 col13\" >0.930306</td>\n",
              "            </tr>\n",
              "            <tr>\n",
              "                        <th id=\"T_39cc926c_161b_11eb_b400_0242ac1c0002level0_row4\" class=\"row_heading level0 row4\" >RSHA</th>\n",
              "                        <td id=\"T_39cc926c_161b_11eb_b400_0242ac1c0002row4_col0\" class=\"data row4 col0\" >-0.013810</td>\n",
              "                        <td id=\"T_39cc926c_161b_11eb_b400_0242ac1c0002row4_col1\" class=\"data row4 col1\" >-0.004906</td>\n",
              "                        <td id=\"T_39cc926c_161b_11eb_b400_0242ac1c0002row4_col2\" class=\"data row4 col2\" >0.121664</td>\n",
              "                        <td id=\"T_39cc926c_161b_11eb_b400_0242ac1c0002row4_col3\" class=\"data row4 col3\" >-0.122744</td>\n",
              "                        <td id=\"T_39cc926c_161b_11eb_b400_0242ac1c0002row4_col4\" class=\"data row4 col4\" >1.000000</td>\n",
              "                        <td id=\"T_39cc926c_161b_11eb_b400_0242ac1c0002row4_col5\" class=\"data row4 col5\" >0.146633</td>\n",
              "                        <td id=\"T_39cc926c_161b_11eb_b400_0242ac1c0002row4_col6\" class=\"data row4 col6\" >0.060259</td>\n",
              "                        <td id=\"T_39cc926c_161b_11eb_b400_0242ac1c0002row4_col7\" class=\"data row4 col7\" >0.141172</td>\n",
              "                        <td id=\"T_39cc926c_161b_11eb_b400_0242ac1c0002row4_col8\" class=\"data row4 col8\" >0.005853</td>\n",
              "                        <td id=\"T_39cc926c_161b_11eb_b400_0242ac1c0002row4_col9\" class=\"data row4 col9\" >-0.076066</td>\n",
              "                        <td id=\"T_39cc926c_161b_11eb_b400_0242ac1c0002row4_col10\" class=\"data row4 col10\" >-0.041636</td>\n",
              "                        <td id=\"T_39cc926c_161b_11eb_b400_0242ac1c0002row4_col11\" class=\"data row4 col11\" >-0.111403</td>\n",
              "                        <td id=\"T_39cc926c_161b_11eb_b400_0242ac1c0002row4_col12\" class=\"data row4 col12\" >-0.096819</td>\n",
              "                        <td id=\"T_39cc926c_161b_11eb_b400_0242ac1c0002row4_col13\" class=\"data row4 col13\" >-0.146758</td>\n",
              "            </tr>\n",
              "            <tr>\n",
              "                        <th id=\"T_39cc926c_161b_11eb_b400_0242ac1c0002level0_row5\" class=\"row_heading level0 row5\" >RMED</th>\n",
              "                        <td id=\"T_39cc926c_161b_11eb_b400_0242ac1c0002row5_col0\" class=\"data row5 col0\" >0.058584</td>\n",
              "                        <td id=\"T_39cc926c_161b_11eb_b400_0242ac1c0002row5_col1\" class=\"data row5 col1\" >0.033817</td>\n",
              "                        <td id=\"T_39cc926c_161b_11eb_b400_0242ac1c0002row5_col2\" class=\"data row5 col2\" >0.087034</td>\n",
              "                        <td id=\"T_39cc926c_161b_11eb_b400_0242ac1c0002row5_col3\" class=\"data row5 col3\" >-0.108787</td>\n",
              "                        <td id=\"T_39cc926c_161b_11eb_b400_0242ac1c0002row5_col4\" class=\"data row5 col4\" >0.146633</td>\n",
              "                        <td id=\"T_39cc926c_161b_11eb_b400_0242ac1c0002row5_col5\" class=\"data row5 col5\" >1.000000</td>\n",
              "                        <td id=\"T_39cc926c_161b_11eb_b400_0242ac1c0002row5_col6\" class=\"data row5 col6\" >0.754475</td>\n",
              "                        <td id=\"T_39cc926c_161b_11eb_b400_0242ac1c0002row5_col7\" class=\"data row5 col7\" >0.088654</td>\n",
              "                        <td id=\"T_39cc926c_161b_11eb_b400_0242ac1c0002row5_col8\" class=\"data row5 col8\" >-0.016858</td>\n",
              "                        <td id=\"T_39cc926c_161b_11eb_b400_0242ac1c0002row5_col9\" class=\"data row5 col9\" >-0.138611</td>\n",
              "                        <td id=\"T_39cc926c_161b_11eb_b400_0242ac1c0002row5_col10\" class=\"data row5 col10\" >-0.009938</td>\n",
              "                        <td id=\"T_39cc926c_161b_11eb_b400_0242ac1c0002row5_col11\" class=\"data row5 col11\" >-0.150901</td>\n",
              "                        <td id=\"T_39cc926c_161b_11eb_b400_0242ac1c0002row5_col12\" class=\"data row5 col12\" >0.012977</td>\n",
              "                        <td id=\"T_39cc926c_161b_11eb_b400_0242ac1c0002row5_col13\" class=\"data row5 col13\" >-0.089010</td>\n",
              "            </tr>\n",
              "            <tr>\n",
              "                        <th id=\"T_39cc926c_161b_11eb_b400_0242ac1c0002level0_row6\" class=\"row_heading level0 row6\" >RDEP</th>\n",
              "                        <td id=\"T_39cc926c_161b_11eb_b400_0242ac1c0002row6_col0\" class=\"data row6 col0\" >0.067250</td>\n",
              "                        <td id=\"T_39cc926c_161b_11eb_b400_0242ac1c0002row6_col1\" class=\"data row6 col1\" >0.033195</td>\n",
              "                        <td id=\"T_39cc926c_161b_11eb_b400_0242ac1c0002row6_col2\" class=\"data row6 col2\" >0.077965</td>\n",
              "                        <td id=\"T_39cc926c_161b_11eb_b400_0242ac1c0002row6_col3\" class=\"data row6 col3\" >-0.097690</td>\n",
              "                        <td id=\"T_39cc926c_161b_11eb_b400_0242ac1c0002row6_col4\" class=\"data row6 col4\" >0.060259</td>\n",
              "                        <td id=\"T_39cc926c_161b_11eb_b400_0242ac1c0002row6_col5\" class=\"data row6 col5\" >0.754475</td>\n",
              "                        <td id=\"T_39cc926c_161b_11eb_b400_0242ac1c0002row6_col6\" class=\"data row6 col6\" >1.000000</td>\n",
              "                        <td id=\"T_39cc926c_161b_11eb_b400_0242ac1c0002row6_col7\" class=\"data row6 col7\" >0.102719</td>\n",
              "                        <td id=\"T_39cc926c_161b_11eb_b400_0242ac1c0002row6_col8\" class=\"data row6 col8\" >-0.012948</td>\n",
              "                        <td id=\"T_39cc926c_161b_11eb_b400_0242ac1c0002row6_col9\" class=\"data row6 col9\" >-0.147344</td>\n",
              "                        <td id=\"T_39cc926c_161b_11eb_b400_0242ac1c0002row6_col10\" class=\"data row6 col10\" >-0.009539</td>\n",
              "                        <td id=\"T_39cc926c_161b_11eb_b400_0242ac1c0002row6_col11\" class=\"data row6 col11\" >-0.188168</td>\n",
              "                        <td id=\"T_39cc926c_161b_11eb_b400_0242ac1c0002row6_col12\" class=\"data row6 col12\" >0.004391</td>\n",
              "                        <td id=\"T_39cc926c_161b_11eb_b400_0242ac1c0002row6_col13\" class=\"data row6 col13\" >-0.071694</td>\n",
              "            </tr>\n",
              "            <tr>\n",
              "                        <th id=\"T_39cc926c_161b_11eb_b400_0242ac1c0002level0_row7\" class=\"row_heading level0 row7\" >RHOB</th>\n",
              "                        <td id=\"T_39cc926c_161b_11eb_b400_0242ac1c0002row7_col0\" class=\"data row7 col0\" >0.415947</td>\n",
              "                        <td id=\"T_39cc926c_161b_11eb_b400_0242ac1c0002row7_col1\" class=\"data row7 col1\" >0.469213</td>\n",
              "                        <td id=\"T_39cc926c_161b_11eb_b400_0242ac1c0002row7_col2\" class=\"data row7 col2\" >0.743819</td>\n",
              "                        <td id=\"T_39cc926c_161b_11eb_b400_0242ac1c0002row7_col3\" class=\"data row7 col3\" >-0.614240</td>\n",
              "                        <td id=\"T_39cc926c_161b_11eb_b400_0242ac1c0002row7_col4\" class=\"data row7 col4\" >0.141172</td>\n",
              "                        <td id=\"T_39cc926c_161b_11eb_b400_0242ac1c0002row7_col5\" class=\"data row7 col5\" >0.088654</td>\n",
              "                        <td id=\"T_39cc926c_161b_11eb_b400_0242ac1c0002row7_col6\" class=\"data row7 col6\" >0.102719</td>\n",
              "                        <td id=\"T_39cc926c_161b_11eb_b400_0242ac1c0002row7_col7\" class=\"data row7 col7\" >1.000000</td>\n",
              "                        <td id=\"T_39cc926c_161b_11eb_b400_0242ac1c0002row7_col8\" class=\"data row7 col8\" >0.212181</td>\n",
              "                        <td id=\"T_39cc926c_161b_11eb_b400_0242ac1c0002row7_col9\" class=\"data row7 col9\" >-0.730425</td>\n",
              "                        <td id=\"T_39cc926c_161b_11eb_b400_0242ac1c0002row7_col10\" class=\"data row7 col10\" >-0.155989</td>\n",
              "                        <td id=\"T_39cc926c_161b_11eb_b400_0242ac1c0002row7_col11\" class=\"data row7 col11\" >-0.843264</td>\n",
              "                        <td id=\"T_39cc926c_161b_11eb_b400_0242ac1c0002row7_col12\" class=\"data row7 col12\" >0.079473</td>\n",
              "                        <td id=\"T_39cc926c_161b_11eb_b400_0242ac1c0002row7_col13\" class=\"data row7 col13\" >-0.281366</td>\n",
              "            </tr>\n",
              "            <tr>\n",
              "                        <th id=\"T_39cc926c_161b_11eb_b400_0242ac1c0002level0_row8\" class=\"row_heading level0 row8\" >GR</th>\n",
              "                        <td id=\"T_39cc926c_161b_11eb_b400_0242ac1c0002row8_col0\" class=\"data row8 col0\" >0.228556</td>\n",
              "                        <td id=\"T_39cc926c_161b_11eb_b400_0242ac1c0002row8_col1\" class=\"data row8 col1\" >0.079297</td>\n",
              "                        <td id=\"T_39cc926c_161b_11eb_b400_0242ac1c0002row8_col2\" class=\"data row8 col2\" >0.238643</td>\n",
              "                        <td id=\"T_39cc926c_161b_11eb_b400_0242ac1c0002row8_col3\" class=\"data row8 col3\" >-0.354648</td>\n",
              "                        <td id=\"T_39cc926c_161b_11eb_b400_0242ac1c0002row8_col4\" class=\"data row8 col4\" >0.005853</td>\n",
              "                        <td id=\"T_39cc926c_161b_11eb_b400_0242ac1c0002row8_col5\" class=\"data row8 col5\" >-0.016858</td>\n",
              "                        <td id=\"T_39cc926c_161b_11eb_b400_0242ac1c0002row8_col6\" class=\"data row8 col6\" >-0.012948</td>\n",
              "                        <td id=\"T_39cc926c_161b_11eb_b400_0242ac1c0002row8_col7\" class=\"data row8 col7\" >0.212181</td>\n",
              "                        <td id=\"T_39cc926c_161b_11eb_b400_0242ac1c0002row8_col8\" class=\"data row8 col8\" >1.000000</td>\n",
              "                        <td id=\"T_39cc926c_161b_11eb_b400_0242ac1c0002row8_col9\" class=\"data row8 col9\" >0.269841</td>\n",
              "                        <td id=\"T_39cc926c_161b_11eb_b400_0242ac1c0002row8_col10\" class=\"data row8 col10\" >-0.057580</td>\n",
              "                        <td id=\"T_39cc926c_161b_11eb_b400_0242ac1c0002row8_col11\" class=\"data row8 col11\" >-0.075719</td>\n",
              "                        <td id=\"T_39cc926c_161b_11eb_b400_0242ac1c0002row8_col12\" class=\"data row8 col12\" >-0.121179</td>\n",
              "                        <td id=\"T_39cc926c_161b_11eb_b400_0242ac1c0002row8_col13\" class=\"data row8 col13\" >-0.128281</td>\n",
              "            </tr>\n",
              "            <tr>\n",
              "                        <th id=\"T_39cc926c_161b_11eb_b400_0242ac1c0002level0_row9\" class=\"row_heading level0 row9\" >NPHI</th>\n",
              "                        <td id=\"T_39cc926c_161b_11eb_b400_0242ac1c0002row9_col0\" class=\"data row9 col0\" >-0.383473</td>\n",
              "                        <td id=\"T_39cc926c_161b_11eb_b400_0242ac1c0002row9_col1\" class=\"data row9 col1\" >-0.401943</td>\n",
              "                        <td id=\"T_39cc926c_161b_11eb_b400_0242ac1c0002row9_col2\" class=\"data row9 col2\" >-0.603843</td>\n",
              "                        <td id=\"T_39cc926c_161b_11eb_b400_0242ac1c0002row9_col3\" class=\"data row9 col3\" >0.504658</td>\n",
              "                        <td id=\"T_39cc926c_161b_11eb_b400_0242ac1c0002row9_col4\" class=\"data row9 col4\" >-0.076066</td>\n",
              "                        <td id=\"T_39cc926c_161b_11eb_b400_0242ac1c0002row9_col5\" class=\"data row9 col5\" >-0.138611</td>\n",
              "                        <td id=\"T_39cc926c_161b_11eb_b400_0242ac1c0002row9_col6\" class=\"data row9 col6\" >-0.147344</td>\n",
              "                        <td id=\"T_39cc926c_161b_11eb_b400_0242ac1c0002row9_col7\" class=\"data row9 col7\" >-0.730425</td>\n",
              "                        <td id=\"T_39cc926c_161b_11eb_b400_0242ac1c0002row9_col8\" class=\"data row9 col8\" >0.269841</td>\n",
              "                        <td id=\"T_39cc926c_161b_11eb_b400_0242ac1c0002row9_col9\" class=\"data row9 col9\" >1.000000</td>\n",
              "                        <td id=\"T_39cc926c_161b_11eb_b400_0242ac1c0002row9_col10\" class=\"data row9 col10\" >0.037952</td>\n",
              "                        <td id=\"T_39cc926c_161b_11eb_b400_0242ac1c0002row9_col11\" class=\"data row9 col11\" >0.849490</td>\n",
              "                        <td id=\"T_39cc926c_161b_11eb_b400_0242ac1c0002row9_col12\" class=\"data row9 col12\" >0.029523</td>\n",
              "                        <td id=\"T_39cc926c_161b_11eb_b400_0242ac1c0002row9_col13\" class=\"data row9 col13\" >0.197448</td>\n",
              "            </tr>\n",
              "            <tr>\n",
              "                        <th id=\"T_39cc926c_161b_11eb_b400_0242ac1c0002level0_row10\" class=\"row_heading level0 row10\" >PEF</th>\n",
              "                        <td id=\"T_39cc926c_161b_11eb_b400_0242ac1c0002row10_col0\" class=\"data row10 col0\" >-0.039975</td>\n",
              "                        <td id=\"T_39cc926c_161b_11eb_b400_0242ac1c0002row10_col1\" class=\"data row10 col1\" >0.074297</td>\n",
              "                        <td id=\"T_39cc926c_161b_11eb_b400_0242ac1c0002row10_col2\" class=\"data row10 col2\" >0.005788</td>\n",
              "                        <td id=\"T_39cc926c_161b_11eb_b400_0242ac1c0002row10_col3\" class=\"data row10 col3\" >0.200206</td>\n",
              "                        <td id=\"T_39cc926c_161b_11eb_b400_0242ac1c0002row10_col4\" class=\"data row10 col4\" >-0.041636</td>\n",
              "                        <td id=\"T_39cc926c_161b_11eb_b400_0242ac1c0002row10_col5\" class=\"data row10 col5\" >-0.009938</td>\n",
              "                        <td id=\"T_39cc926c_161b_11eb_b400_0242ac1c0002row10_col6\" class=\"data row10 col6\" >-0.009539</td>\n",
              "                        <td id=\"T_39cc926c_161b_11eb_b400_0242ac1c0002row10_col7\" class=\"data row10 col7\" >-0.155989</td>\n",
              "                        <td id=\"T_39cc926c_161b_11eb_b400_0242ac1c0002row10_col8\" class=\"data row10 col8\" >-0.057580</td>\n",
              "                        <td id=\"T_39cc926c_161b_11eb_b400_0242ac1c0002row10_col9\" class=\"data row10 col9\" >0.037952</td>\n",
              "                        <td id=\"T_39cc926c_161b_11eb_b400_0242ac1c0002row10_col10\" class=\"data row10 col10\" >1.000000</td>\n",
              "                        <td id=\"T_39cc926c_161b_11eb_b400_0242ac1c0002row10_col11\" class=\"data row10 col11\" >0.041710</td>\n",
              "                        <td id=\"T_39cc926c_161b_11eb_b400_0242ac1c0002row10_col12\" class=\"data row10 col12\" >0.098298</td>\n",
              "                        <td id=\"T_39cc926c_161b_11eb_b400_0242ac1c0002row10_col13\" class=\"data row10 col13\" >0.177474</td>\n",
              "            </tr>\n",
              "            <tr>\n",
              "                        <th id=\"T_39cc926c_161b_11eb_b400_0242ac1c0002level0_row11\" class=\"row_heading level0 row11\" >DTC</th>\n",
              "                        <td id=\"T_39cc926c_161b_11eb_b400_0242ac1c0002row11_col0\" class=\"data row11 col0\" >-0.406902</td>\n",
              "                        <td id=\"T_39cc926c_161b_11eb_b400_0242ac1c0002row11_col1\" class=\"data row11 col1\" >-0.344206</td>\n",
              "                        <td id=\"T_39cc926c_161b_11eb_b400_0242ac1c0002row11_col2\" class=\"data row11 col2\" >-0.821411</td>\n",
              "                        <td id=\"T_39cc926c_161b_11eb_b400_0242ac1c0002row11_col3\" class=\"data row11 col3\" >0.682103</td>\n",
              "                        <td id=\"T_39cc926c_161b_11eb_b400_0242ac1c0002row11_col4\" class=\"data row11 col4\" >-0.111403</td>\n",
              "                        <td id=\"T_39cc926c_161b_11eb_b400_0242ac1c0002row11_col5\" class=\"data row11 col5\" >-0.150901</td>\n",
              "                        <td id=\"T_39cc926c_161b_11eb_b400_0242ac1c0002row11_col6\" class=\"data row11 col6\" >-0.188168</td>\n",
              "                        <td id=\"T_39cc926c_161b_11eb_b400_0242ac1c0002row11_col7\" class=\"data row11 col7\" >-0.843264</td>\n",
              "                        <td id=\"T_39cc926c_161b_11eb_b400_0242ac1c0002row11_col8\" class=\"data row11 col8\" >-0.075719</td>\n",
              "                        <td id=\"T_39cc926c_161b_11eb_b400_0242ac1c0002row11_col9\" class=\"data row11 col9\" >0.849490</td>\n",
              "                        <td id=\"T_39cc926c_161b_11eb_b400_0242ac1c0002row11_col10\" class=\"data row11 col10\" >0.041710</td>\n",
              "                        <td id=\"T_39cc926c_161b_11eb_b400_0242ac1c0002row11_col11\" class=\"data row11 col11\" >1.000000</td>\n",
              "                        <td id=\"T_39cc926c_161b_11eb_b400_0242ac1c0002row11_col12\" class=\"data row11 col12\" >-0.015820</td>\n",
              "                        <td id=\"T_39cc926c_161b_11eb_b400_0242ac1c0002row11_col13\" class=\"data row11 col13\" >0.426882</td>\n",
              "            </tr>\n",
              "            <tr>\n",
              "                        <th id=\"T_39cc926c_161b_11eb_b400_0242ac1c0002level0_row12\" class=\"row_heading level0 row12\" >SP</th>\n",
              "                        <td id=\"T_39cc926c_161b_11eb_b400_0242ac1c0002row12_col0\" class=\"data row12 col0\" >-0.235953</td>\n",
              "                        <td id=\"T_39cc926c_161b_11eb_b400_0242ac1c0002row12_col1\" class=\"data row12 col1\" >0.599339</td>\n",
              "                        <td id=\"T_39cc926c_161b_11eb_b400_0242ac1c0002row12_col2\" class=\"data row12 col2\" >0.081675</td>\n",
              "                        <td id=\"T_39cc926c_161b_11eb_b400_0242ac1c0002row12_col3\" class=\"data row12 col3\" >0.328520</td>\n",
              "                        <td id=\"T_39cc926c_161b_11eb_b400_0242ac1c0002row12_col4\" class=\"data row12 col4\" >-0.096819</td>\n",
              "                        <td id=\"T_39cc926c_161b_11eb_b400_0242ac1c0002row12_col5\" class=\"data row12 col5\" >0.012977</td>\n",
              "                        <td id=\"T_39cc926c_161b_11eb_b400_0242ac1c0002row12_col6\" class=\"data row12 col6\" >0.004391</td>\n",
              "                        <td id=\"T_39cc926c_161b_11eb_b400_0242ac1c0002row12_col7\" class=\"data row12 col7\" >0.079473</td>\n",
              "                        <td id=\"T_39cc926c_161b_11eb_b400_0242ac1c0002row12_col8\" class=\"data row12 col8\" >-0.121179</td>\n",
              "                        <td id=\"T_39cc926c_161b_11eb_b400_0242ac1c0002row12_col9\" class=\"data row12 col9\" >0.029523</td>\n",
              "                        <td id=\"T_39cc926c_161b_11eb_b400_0242ac1c0002row12_col10\" class=\"data row12 col10\" >0.098298</td>\n",
              "                        <td id=\"T_39cc926c_161b_11eb_b400_0242ac1c0002row12_col11\" class=\"data row12 col11\" >-0.015820</td>\n",
              "                        <td id=\"T_39cc926c_161b_11eb_b400_0242ac1c0002row12_col12\" class=\"data row12 col12\" >1.000000</td>\n",
              "                        <td id=\"T_39cc926c_161b_11eb_b400_0242ac1c0002row12_col13\" class=\"data row12 col13\" >0.302879</td>\n",
              "            </tr>\n",
              "            <tr>\n",
              "                        <th id=\"T_39cc926c_161b_11eb_b400_0242ac1c0002level0_row13\" class=\"row_heading level0 row13\" >BS</th>\n",
              "                        <td id=\"T_39cc926c_161b_11eb_b400_0242ac1c0002row13_col0\" class=\"data row13 col0\" >-0.171042</td>\n",
              "                        <td id=\"T_39cc926c_161b_11eb_b400_0242ac1c0002row13_col1\" class=\"data row13 col1\" >-0.098718</td>\n",
              "                        <td id=\"T_39cc926c_161b_11eb_b400_0242ac1c0002row13_col2\" class=\"data row13 col2\" >-0.370914</td>\n",
              "                        <td id=\"T_39cc926c_161b_11eb_b400_0242ac1c0002row13_col3\" class=\"data row13 col3\" >0.930306</td>\n",
              "                        <td id=\"T_39cc926c_161b_11eb_b400_0242ac1c0002row13_col4\" class=\"data row13 col4\" >-0.146758</td>\n",
              "                        <td id=\"T_39cc926c_161b_11eb_b400_0242ac1c0002row13_col5\" class=\"data row13 col5\" >-0.089010</td>\n",
              "                        <td id=\"T_39cc926c_161b_11eb_b400_0242ac1c0002row13_col6\" class=\"data row13 col6\" >-0.071694</td>\n",
              "                        <td id=\"T_39cc926c_161b_11eb_b400_0242ac1c0002row13_col7\" class=\"data row13 col7\" >-0.281366</td>\n",
              "                        <td id=\"T_39cc926c_161b_11eb_b400_0242ac1c0002row13_col8\" class=\"data row13 col8\" >-0.128281</td>\n",
              "                        <td id=\"T_39cc926c_161b_11eb_b400_0242ac1c0002row13_col9\" class=\"data row13 col9\" >0.197448</td>\n",
              "                        <td id=\"T_39cc926c_161b_11eb_b400_0242ac1c0002row13_col10\" class=\"data row13 col10\" >0.177474</td>\n",
              "                        <td id=\"T_39cc926c_161b_11eb_b400_0242ac1c0002row13_col11\" class=\"data row13 col11\" >0.426882</td>\n",
              "                        <td id=\"T_39cc926c_161b_11eb_b400_0242ac1c0002row13_col12\" class=\"data row13 col12\" >0.302879</td>\n",
              "                        <td id=\"T_39cc926c_161b_11eb_b400_0242ac1c0002row13_col13\" class=\"data row13 col13\" >1.000000</td>\n",
              "            </tr>\n",
              "    </tbody></table>"
            ],
            "text/plain": [
              "<pandas.io.formats.style.Styler at 0x7ffacc4595f8>"
            ]
          },
          "metadata": {
            "tags": []
          },
          "execution_count": 88
        }
      ]
    },
    {
      "cell_type": "markdown",
      "metadata": {
        "id": "JpbTjoRdfSNK"
      },
      "source": [
        "# Пары корреляции:\n",
        "1. BS - CALI  \n",
        "2. DEPTH_MD - DTC  \n",
        "3. RHOB - DTC  \n",
        "4. NPHI - DTC\n",
        "5. RMED - RDEP"
      ]
    },
    {
      "cell_type": "code",
      "metadata": {
        "id": "4X3p2TPJvPV2",
        "outputId": "f8973b5b-1d6b-4515-8255-c89eeb8e495f",
        "colab": {
          "base_uri": "https://localhost:8080/",
          "height": 272
        }
      },
      "source": [
        "open_test_features.isna().sum()"
      ],
      "execution_count": 89,
      "outputs": [
        {
          "output_type": "execute_result",
          "data": {
            "text/plain": [
              "X_LOC          59\n",
              "Y_LOC          59\n",
              "DEPTH_MD        0\n",
              "CALI         5645\n",
              "RSHA        97689\n",
              "RMED          587\n",
              "RDEP           59\n",
              "RHOB        16960\n",
              "GR              0\n",
              "NPHI        32743\n",
              "PEF         23283\n",
              "DTC           823\n",
              "SP          70159\n",
              "BS          69822\n",
              "dtype: int64"
            ]
          },
          "metadata": {
            "tags": []
          },
          "execution_count": 89
        }
      ]
    },
    {
      "cell_type": "markdown",
      "metadata": {
        "id": "QjcCdaWRmBkt"
      },
      "source": [
        "# BS - CALI"
      ]
    },
    {
      "cell_type": "code",
      "metadata": {
        "id": "6Qo8qdETmG0V",
        "outputId": "6fd4321e-a7a9-4634-b68a-9472dc3eb8f5",
        "colab": {
          "base_uri": "https://localhost:8080/",
          "height": 153
        }
      },
      "source": [
        "open_test_features['BS_GROUP'] = pd.cut(open_test_features['BS'],5,labels=[1,2,3,4,5])\n",
        "cali_median = 0\n",
        "for i in open_test_features['BS_GROUP'].unique():\n",
        "  cali_median = open_test_features.loc[open_test_features['CALI'].notnull() & (open_test_features['BS_GROUP'] == i)]['CALI'].median()\n",
        "  open_test_features.loc[(open_test_features['CALI'].isnull() & (open_test_features['BS_GROUP'] == i)), 'CALI'] = cali_median\n",
        "  print(i, cali_median)\n",
        "print('Пропущенных значений CALI -', open_test_features['CALI'].isna().sum())\n",
        "open_test_features = open_test_features.drop('BS_GROUP', axis = 1)\n",
        "cali_median = open_test_features.loc[open_test_features['CALI'].notnull()]['CALI'].median()\n",
        "open_test_features.loc[open_test_features['CALI'].isnull(), 'CALI'] = cali_median\n",
        "print('Пропущенных значений CALI -', open_test_features['CALI'].isna().sum())\n",
        "del cali_median"
      ],
      "execution_count": 90,
      "outputs": [
        {
          "output_type": "stream",
          "text": [
            "nan nan\n",
            "5 12.355297565499999\n",
            "3 12.429699897999999\n",
            "1 8.5697546005\n",
            "4 18.7582597735\n",
            "2 9.54841041565\n",
            "Пропущенных значений CALI - 5629\n",
            "Пропущенных значений CALI - 0\n"
          ],
          "name": "stdout"
        }
      ]
    },
    {
      "cell_type": "code",
      "metadata": {
        "id": "vcfQ-KBbhtYE",
        "outputId": "add650b1-9f71-4f68-b79b-875ec3869098",
        "colab": {
          "base_uri": "https://localhost:8080/",
          "height": 119
        }
      },
      "source": [
        "open_test_features['CALI_GROUP'] = pd.cut(open_test_features['CALI'],5,labels=[1,2,3,4,5])\n",
        "bs_median = 0\n",
        "for i in open_test_features['CALI_GROUP'].unique():\n",
        "  bs_median = open_test_features.loc[open_test_features['BS'].notnull() & (open_test_features['CALI_GROUP'] == i)]['BS'].median()\n",
        "  open_test_features.loc[(open_test_features['BS'].isnull() & (open_test_features['CALI_GROUP'] == i)), 'BS'] = bs_median\n",
        "  print(i, bs_median)\n",
        "print('Пропущенных значений BS -', open_test_features['BS'].isna().sum())\n",
        "open_test_features = open_test_features.drop('CALI_GROUP', axis = 1)\n",
        "del bs_median"
      ],
      "execution_count": 91,
      "outputs": [
        {
          "output_type": "stream",
          "text": [
            "4 12.250000954\n",
            "3 12.250000954\n",
            "5 17.5\n",
            "2 12.250000954\n",
            "1 8.5\n",
            "Пропущенных значений BS - 0\n"
          ],
          "name": "stdout"
        }
      ]
    },
    {
      "cell_type": "markdown",
      "metadata": {
        "id": "adxeywdJrbJW"
      },
      "source": [
        "# DEPTH_MD - DTC"
      ]
    },
    {
      "cell_type": "code",
      "metadata": {
        "id": "jGk9BELmhtIe",
        "outputId": "c658acfc-ff8c-4fb9-938d-ee039f56e221",
        "colab": {
          "base_uri": "https://localhost:8080/",
          "height": 119
        }
      },
      "source": [
        "open_test_features['DEPTH_GROUP'] = pd.cut(open_test_features['DEPTH_MD'],5,labels=[1,2,3,4,5])\n",
        "dtc_median = 0\n",
        "for i in open_test_features['DEPTH_GROUP'].unique():\n",
        "  dtc_median = open_test_features.loc[open_test_features['DTC'].notnull() & (open_test_features['DEPTH_GROUP'] == i)]['DTC'].median()\n",
        "  open_test_features.loc[(open_test_features['DTC'].isnull() & (open_test_features['DEPTH_GROUP'] == i)), 'DTC'] = dtc_median\n",
        "  print(i, dtc_median)\n",
        "del dtc_median\n",
        "print('Пропущенных значений DTC -', open_test_features['DTC'].isna().sum())\n",
        "open_test_features = open_test_features.drop('DEPTH_GROUP', axis = 1)"
      ],
      "execution_count": 92,
      "outputs": [
        {
          "output_type": "stream",
          "text": [
            "1 148.19446563500003\n",
            "2 136.24996184999998\n",
            "3 98.7693099975\n",
            "4 86.146965027\n",
            "5 86.160392761\n",
            "Пропущенных значений DTC - 0\n"
          ],
          "name": "stdout"
        }
      ]
    },
    {
      "cell_type": "markdown",
      "metadata": {
        "id": "zk_fDe8qtLRZ"
      },
      "source": [
        "# RHOB - DTC"
      ]
    },
    {
      "cell_type": "code",
      "metadata": {
        "id": "6MtLOfIMhs41",
        "outputId": "01f3bc5b-276f-435c-d3ee-f6e521c4d9d3",
        "colab": {
          "base_uri": "https://localhost:8080/",
          "height": 119
        }
      },
      "source": [
        "open_test_features['DTC_GROUP'] = pd.cut(open_test_features['DTC'],5,labels=[1,2,3,4,5])\n",
        "rhob_median = 0\n",
        "for i in open_test_features['DTC_GROUP'].unique():\n",
        "  rhob_median = open_test_features.loc[open_test_features['RHOB'].notnull() & (open_test_features['DTC_GROUP'] == i)]['RHOB'].median()\n",
        "  open_test_features.loc[(open_test_features['RHOB'].isnull() & (open_test_features['DTC_GROUP'] == i)), 'RHOB'] = rhob_median\n",
        "  print('Медиана -', rhob_median)\n",
        "print('Пропущенных значений RHOB -', open_test_features['RHOB'].isna().sum())\n",
        "del rhob_median"
      ],
      "execution_count": 93,
      "outputs": [
        {
          "output_type": "stream",
          "text": [
            "Медиана - 1.9828389287000001\n",
            "Медиана - 2.0659229755\n",
            "Медиана - 2.3148037195000004\n",
            "Медиана - 2.5147099495\n",
            "Медиана - 2.5856499672\n",
            "Пропущенных значений RHOB - 0\n"
          ],
          "name": "stdout"
        }
      ]
    },
    {
      "cell_type": "markdown",
      "metadata": {
        "id": "hQNPAazjt5w7"
      },
      "source": [
        "# NPHI - DTC"
      ]
    },
    {
      "cell_type": "code",
      "metadata": {
        "id": "NRPXQKVQhspg",
        "outputId": "c3c573cb-5e08-458c-ffdf-07bdaf07497b",
        "colab": {
          "base_uri": "https://localhost:8080/",
          "height": 119
        }
      },
      "source": [
        "nphi_median = 0\n",
        "for i in open_test_features['DTC_GROUP'].unique():\n",
        "  nphi_median = open_test_features.loc[open_test_features['NPHI'].notnull() & (open_test_features['DTC_GROUP'] == i)]['NPHI'].median()\n",
        "  open_test_features.loc[(open_test_features['NPHI'].isnull() & (open_test_features['DTC_GROUP'] == i)), 'NPHI'] = nphi_median\n",
        "  print('Медиана -', nphi_median)\n",
        "print('Пропущенных значений NPHI -', open_test_features['NPHI'].isna().sum())\n",
        "del nphi_median\n",
        "open_test_features = open_test_features.drop('DTC_GROUP', axis = 1)"
      ],
      "execution_count": 94,
      "outputs": [
        {
          "output_type": "stream",
          "text": [
            "Медиана - 0.4896999896\n",
            "Медиана - 0.47349621355000004\n",
            "Медиана - 0.366350174\n",
            "Медиана - 0.25383496285\n",
            "Медиана - 0.1366401017\n",
            "Пропущенных значений NPHI - 0\n"
          ],
          "name": "stdout"
        }
      ]
    },
    {
      "cell_type": "markdown",
      "metadata": {
        "id": "VgKj7Gppv2VN"
      },
      "source": [
        "# RMED - RDEP"
      ]
    },
    {
      "cell_type": "code",
      "metadata": {
        "id": "Tyi9BsURhsaN",
        "outputId": "1c41f96c-f609-46fc-eebc-24d09146ec2d",
        "colab": {
          "base_uri": "https://localhost:8080/",
          "height": 272
        }
      },
      "source": [
        "open_test_features.isna().sum()"
      ],
      "execution_count": 95,
      "outputs": [
        {
          "output_type": "execute_result",
          "data": {
            "text/plain": [
              "X_LOC          59\n",
              "Y_LOC          59\n",
              "DEPTH_MD        0\n",
              "CALI            0\n",
              "RSHA        97689\n",
              "RMED          587\n",
              "RDEP           59\n",
              "RHOB            0\n",
              "GR              0\n",
              "NPHI            0\n",
              "PEF         23283\n",
              "DTC             0\n",
              "SP          70159\n",
              "BS              0\n",
              "dtype: int64"
            ]
          },
          "metadata": {
            "tags": []
          },
          "execution_count": 95
        }
      ]
    },
    {
      "cell_type": "code",
      "metadata": {
        "id": "W3kYQK0OhsKy",
        "outputId": "ef8e0341-193e-4322-d1f3-7a6dc3e0957b",
        "colab": {
          "base_uri": "https://localhost:8080/",
          "height": 136
        }
      },
      "source": [
        "open_test_features['RDEP_GROUP'] = pd.cut(open_test_features['RDEP'],5,labels=[1,2,3,4,5])\n",
        "rmed_median = 0\n",
        "for i in open_test_features['RDEP_GROUP'].unique():\n",
        "  rmed_median = open_test_features.loc[open_test_features['RMED'].notnull() & (open_test_features['RDEP_GROUP'] == i)]['RMED'].median()\n",
        "  open_test_features.loc[(open_test_features['RMED'].isnull() & (open_test_features['RDEP_GROUP'] == i)), 'RMED'] = rmed_median\n",
        "  print(i, rmed_median)\n",
        "print('Пропущенных значений RMED -', open_test_features['RMED'].isna().sum())\n",
        "del rmed_median\n",
        "open_test_features.loc[open_test_features['RMED'].isnull(), 'RMED'] = open_test_features['RMED'].median()\n",
        "open_test_features = open_test_features.drop('RDEP_GROUP',axis=1)"
      ],
      "execution_count": 96,
      "outputs": [
        {
          "output_type": "stream",
          "text": [
            "1 1.6691639423\n",
            "2 277.177825925\n",
            "3 255.35612488\n",
            "4 845.3515319850001\n",
            "5 1386.9038085999998\n",
            "nan nan\n",
            "Пропущенных значений RMED - 59\n"
          ],
          "name": "stdout"
        }
      ]
    },
    {
      "cell_type": "code",
      "metadata": {
        "id": "JxOJ3y-vhr7k",
        "outputId": "3996adcc-e58d-419d-9cbd-0d5af0cdd883",
        "colab": {
          "base_uri": "https://localhost:8080/",
          "height": 119
        }
      },
      "source": [
        "open_test_features['RMED_GROUP'] = pd.cut(open_test_features['RMED'],5,labels=[1,2,3,4,5])\n",
        "rmed_median = 0\n",
        "for i in open_test_features['RMED_GROUP'].unique():\n",
        "  rmed_median = open_test_features.loc[open_test_features['RDEP'].notnull() & (open_test_features['RMED_GROUP'] == i)]['RDEP'].median()\n",
        "  open_test_features.loc[(open_test_features['RDEP'].isnull() & (open_test_features['RMED_GROUP'] == i)), 'RDEP'] = rmed_median\n",
        "  print(i, rmed_median)\n",
        "print('Пропущенных значений RDEP -', open_test_features['RDEP'].isna().sum())\n",
        "del rmed_median\n",
        "open_test_features.loc[open_test_features['RDEP'].isnull(), 'RDEP'] = open_test_features['RDEP'].median()\n",
        "open_test_features = open_test_features.drop('RMED_GROUP',axis=1)"
      ],
      "execution_count": 97,
      "outputs": [
        {
          "output_type": "stream",
          "text": [
            "1 1.65715777875\n",
            "3 980.94006348\n",
            "2 305.11828613\n",
            "5 1073.8111572\n",
            "4 1284.51953125\n",
            "Пропущенных значений RDEP - 0\n"
          ],
          "name": "stdout"
        }
      ]
    },
    {
      "cell_type": "markdown",
      "metadata": {
        "id": "Pa_rPUNqspHQ"
      },
      "source": [
        "# Модель."
      ]
    },
    {
      "cell_type": "code",
      "metadata": {
        "id": "_PkrKJH3IHho"
      },
      "source": [
        "def trainrfc(x_train,y_train,n_estimators,criterion,max_depth,min_samples_split):\n",
        "  model = RandomForestClassifier(n_jobs=-1,class_weight='balanced',n_estimators=n_estimators,criterion=criterion,max_depth=max_depth,min_samples_split=min_samples_split,random_state=12345)\n",
        "  model.fit(x_train,y_train)\n",
        "  return model"
      ],
      "execution_count": 98,
      "outputs": []
    },
    {
      "cell_type": "code",
      "metadata": {
        "id": "hxL7Nam4BL2Z"
      },
      "source": [
        "def createpred(models,open_test_features):\n",
        "#  open_test_features = pd.read_csv('/content/drive/My Drive/ColabNotebooks/welllog/test.csv', sep=';')\n",
        "#  open_test_features = open_test_features[['X_LOC','Y_LOC','DEPTH_MD', 'CALI', 'RSHA', 'RMED', 'RDEP', 'RHOB', 'GR', 'NPHI', 'PEF', 'DTC', 'SP', 'BS']]\n",
        "#  open_test_features = open_test_features.merge(meta_train[['WELL','lat','lon','cluster','dist_0','dist_1','dist_2']],how='left',on='WELL')\n",
        "#  open_test_features = open_test_features.drop('WELL',axis=1)\n",
        "  for i in open_test_features.columns:\n",
        "    open_test_features.loc[open_test_features[i].isnull(),i] = open_test_features[i].median()\n",
        "  open_test_features = scaler.transform(open_test_features)\n",
        "  test_prediction = models.predict(open_test_features)\n",
        "  category_to_lithology = {y:x for x,y in lithology_numbers.items()}\n",
        "  test_prediction_for_submission = np.vectorize(category_to_lithology.get)(test_prediction)\n",
        "  np.savetxt('/content/drive/My Drive/ColabNotebooks/welllog/test_predictions.csv', test_prediction_for_submission, header='lithology', comments='', fmt='%i')"
      ],
      "execution_count": 99,
      "outputs": []
    },
    {
      "cell_type": "code",
      "metadata": {
        "id": "h4OR-nDikfqH"
      },
      "source": [
        "#def catbst(x_train,y_train,x_valid,y_valid,iterations,depth,min_data_in_leaf,l2_leaf_reg):\n",
        "#  cbc = CatBoostClassifier(verbose=1000, iterations=iterations, depth=depth, min_data_in_leaf=min_data_in_leaf, l2_leaf_reg=l2_leaf_reg, random_state=12345, auto_class_weights='Balanced', task_type=\"GPU\", loss_function='MultiClass')\n",
        "#  cbc.fit(x_train, y_train, use_best_model=True, eval_set=(x_valid,y_valid))\n",
        "#  scoring = score(y_valid.values,cbc.predict(x_valid))\n",
        "#  predictions = cbc.predict(x_valid)\n",
        "#  return scoring"
      ],
      "execution_count": 100,
      "outputs": []
    },
    {
      "cell_type": "markdown",
      "metadata": {
        "id": "Fmhh_sRQIPzu"
      },
      "source": [
        "# Для валидации."
      ]
    },
    {
      "cell_type": "code",
      "metadata": {
        "id": "M-tOOFx1IS3q"
      },
      "source": [
        "#model = trainrfc(X_train,y_train,150,'entropy',100,4)"
      ],
      "execution_count": 101,
      "outputs": []
    },
    {
      "cell_type": "markdown",
      "metadata": {
        "id": "Wr-RfZlPH1c9"
      },
      "source": [
        "# Для сабмита."
      ]
    },
    {
      "cell_type": "code",
      "metadata": {
        "id": "h7pdLkxmSiEY"
      },
      "source": [
        "model = trainrfc(X,y,150,'entropy',100,4)"
      ],
      "execution_count": 102,
      "outputs": []
    },
    {
      "cell_type": "code",
      "metadata": {
        "id": "p4oPvKA4T7ql"
      },
      "source": [
        "createpred(model,open_test_features)"
      ],
      "execution_count": 103,
      "outputs": []
    },
    {
      "cell_type": "markdown",
      "metadata": {
        "id": "SVFK54pTnQow"
      },
      "source": [
        "#### Test model"
      ]
    },
    {
      "cell_type": "code",
      "metadata": {
        "id": "oPIhmtFVnQox"
      },
      "source": [
        "#y_pred_test = model.predict(X_test)"
      ],
      "execution_count": 104,
      "outputs": []
    },
    {
      "cell_type": "code",
      "metadata": {
        "id": "H_0FE8MrnQo2"
      },
      "source": [
        "#score(y_test.values, y_pred_test)"
      ],
      "execution_count": 105,
      "outputs": []
    },
    {
      "cell_type": "markdown",
      "metadata": {
        "id": "VKd3ElAynQo7"
      },
      "source": [
        "##### Save model and scaler to files"
      ]
    },
    {
      "cell_type": "code",
      "metadata": {
        "id": "B29Qp5dMnQo8"
      },
      "source": [
        "#pickle.dump(model, open('/content/drive/My Drive/ColabNotebooks/welllog/model.pkl', 'wb'))"
      ],
      "execution_count": 106,
      "outputs": []
    },
    {
      "cell_type": "code",
      "metadata": {
        "id": "-7JDRZV5nQpD"
      },
      "source": [
        "#pickle.dump(scaler, open('/content/drive/My Drive/ColabNotebooks/welllog/scaler.pkl', 'wb'))"
      ],
      "execution_count": 107,
      "outputs": []
    },
    {
      "cell_type": "markdown",
      "metadata": {
        "id": "3ZXrxXqwnQpI"
      },
      "source": [
        "In order to make it easy to run inference on new data, such as the open test dataset, it is recommended to wrap the initialization of the model, all preprocessing steps including normalization, treatment of NaNs and removals of unused columns in a class or pipeline. There are many ways of doing this, one example being a class like below:"
      ]
    },
    {
      "cell_type": "code",
      "metadata": {
        "id": "za8AH_7knQpJ"
      },
      "source": [
        "class Model(object):\n",
        "    def __init__(self, model_file, scaler_file):\n",
        "        # Load pre-trained model from file\n",
        "        self.model = pickle.load(open(model_file, 'rb'))\n",
        "        # Load a \"pre-trained\" scaler from file\n",
        "        self.scaler = pickle.load(open(scaler_file, 'rb'))\n",
        "        \n",
        "    def _preprocess(self, features):\n",
        "        # Method to be run before inference. Contains things like\n",
        "        # stripping unwanted columns, replacing NaNs, and scaling \n",
        "        # or normalizing data\n",
        "        features.fillna(0, inplace=True)\n",
        "        features = features[['DEPTH_MD', 'CALI', 'RSHA', 'RMED', 'RDEP', 'RHOB', 'GR', 'NPHI', 'PEF', 'DTC', 'SP', 'BS']]\n",
        "        return self.scaler.transform(features)\n",
        "        \n",
        "    def predict(self, features):\n",
        "        # This function should be able to take in features in their\n",
        "        # raw, unprocessed form as read from the file test.csv and\n",
        "        # return predictions as an array integers of the same length\n",
        "        X = self._preprocess(features)\n",
        "        return self.model.predict(X)"
      ],
      "execution_count": 108,
      "outputs": []
    },
    {
      "cell_type": "markdown",
      "metadata": {
        "id": "EUjy8IRQnQpP"
      },
      "source": [
        "The model can then be initialized using persisted data in the form of saved model file (or models files), scaler files, and other persisted data.  "
      ]
    },
    {
      "cell_type": "code",
      "metadata": {
        "id": "owkinWXrnQpP"
      },
      "source": [
        "#model = Model('model.pkl', 'scaler.pkl')"
      ],
      "execution_count": 109,
      "outputs": []
    },
    {
      "cell_type": "markdown",
      "metadata": {
        "id": "jN-Tl5NDnQpS"
      },
      "source": [
        "##### Example submission: weekly leaderboard\n",
        "For the weekly leaderboard that will start September 1st, you are asked to submit predictions on the supplied open dataset in the file `test.csv`. This file contains all the columns that are in the training data except LITHOLOGY and LITHOLOGY_CONFIDENCE. Notice that the test data will also have missing columns. It is therefore important that your inference pipeline has the treatment of these missing columns as part of the pre-processing step."
      ]
    },
    {
      "cell_type": "code",
      "metadata": {
        "id": "IkGMByQUnQpT"
      },
      "source": [
        "#open_test_features = pd.read_csv('/content/drive/My Drive/ColabNotebooks/welllog/test.csv', sep=';')"
      ],
      "execution_count": 110,
      "outputs": []
    },
    {
      "cell_type": "code",
      "metadata": {
        "id": "FTSI1bUhtef4"
      },
      "source": [
        "#open_test_features = open_test_features[['DEPTH_MD', 'CALI', 'RSHA', 'RMED', 'RDEP', 'RHOB', 'GR', 'NPHI', 'PEF', 'DTC', 'SP', 'BS']]"
      ],
      "execution_count": 111,
      "outputs": []
    },
    {
      "cell_type": "markdown",
      "metadata": {
        "id": "Pc_OOdIUnQpu"
      },
      "source": [
        "**Important:** Before submitting we must map these predictions back to the lithology labels"
      ]
    },
    {
      "cell_type": "code",
      "metadata": {
        "id": "MTrq93IDnQpv"
      },
      "source": [
        "#category_to_lithology = {y:x for x,y in lithology_numbers.items()}"
      ],
      "execution_count": 112,
      "outputs": []
    },
    {
      "cell_type": "code",
      "metadata": {
        "id": "avPLYg1gnQpz"
      },
      "source": [
        "#test_prediction_for_submission = np.vectorize(category_to_lithology.get)(test_prediction)"
      ],
      "execution_count": 113,
      "outputs": []
    },
    {
      "cell_type": "markdown",
      "metadata": {
        "id": "FHovNSBVnQp3"
      },
      "source": [
        "For submission to the weekly leaderboard, write the predictions as a csv file\n",
        "- single column (no index column or similar)\n",
        "- header: 'lithology'\n",
        "- exactly the same number of rows as the raw test features\n",
        "- use the original lithology labels, 65000, 30000, ..., NOT the encoded ones 0, 1, 2, ...\n",
        "\n",
        "Example:\n",
        "```\n",
        "lithology\n",
        "65000\n",
        "65000\n",
        "30000\n",
        "30000\n",
        "30000\n",
        "30000\n",
        "30000\n",
        "65030\n",
        "65030\n",
        "65030\n",
        ".\n",
        ".\n",
        ".\n",
        "```"
      ]
    },
    {
      "cell_type": "markdown",
      "metadata": {
        "id": "XAGMn75pnQqE"
      },
      "source": [
        "### Submitting code for final scoring\n",
        "At the end of the competition, the highest performing teams are invited to submit code for blind scoring on a hidden test dataset. The winner will be the team with the best score on the hidden test dataset, not the weekly leaderboard. In order to do this, you must submit the following in a zip-file:\n",
        "* Code to do the inference\n",
        "* Any persisted data in the form of pre-trained model or models, scalers, and more\n",
        "* Information about your environment\n",
        "\n",
        "There are many ways of doing this. In the example above, the code to do the inference would be the `Model` class in a python-file, the persisted data would be the files `model.pkl` and `scaler.pkl`. \n",
        "\n",
        "Your python environment needs to be replicable by the judges of the competition. There are many ways of doing this. Examples include dumping pip package versions to a file"
      ]
    },
    {
      "cell_type": "code",
      "metadata": {
        "id": "0LZqB0YJnQqF"
      },
      "source": [
        "!pip freeze > requirements.txt"
      ],
      "execution_count": 114,
      "outputs": []
    },
    {
      "cell_type": "markdown",
      "metadata": {
        "id": "tc5K_cHGnQqJ"
      },
      "source": [
        "If you are using Anaconda, then you can export an envionment file as follows"
      ]
    },
    {
      "cell_type": "code",
      "metadata": {
        "id": "GY6g4rJ6nQqK",
        "outputId": "aecb938b-d992-4988-80b5-b41c2d409119",
        "colab": {
          "base_uri": "https://localhost:8080/",
          "height": 34
        }
      },
      "source": [
        "!conda env export > environment.yml"
      ],
      "execution_count": 115,
      "outputs": [
        {
          "output_type": "stream",
          "text": [
            "/bin/bash: conda: command not found\n"
          ],
          "name": "stdout"
        }
      ]
    },
    {
      "cell_type": "markdown",
      "metadata": {
        "id": "C9AjsQ8lnQqQ"
      },
      "source": [
        "Other options include `Docker`, `pipenv` and many more."
      ]
    }
  ]
}